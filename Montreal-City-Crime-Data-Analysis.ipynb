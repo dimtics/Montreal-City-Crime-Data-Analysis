{
 "cells": [
  {
   "cell_type": "markdown",
   "metadata": {},
   "source": [
    "# Montreal City Crime Data Analysis and Visualization\n",
    " *Oladimeji Salau*  \n",
    " https://github.com/dimtics"
   ]
  },
  {
   "cell_type": "markdown",
   "metadata": {},
   "source": [
    "### Introduction  \n",
    "Montreal is the most populous city in the province of Quebec and the [second most populous](https://en.wikipedia.org/wiki/List_of_largest_Canadian_cities_by_census) in Canada. The city is considered generally safe with one of the [lowest](https://www150.statcan.gc.ca/n1/pub/85-002-x/2017001/article/54842/tbl/tbl04-eng.htm) crime rates in Canada.  \n",
    "\n",
    "In this notebook, I analyzed Montreal city crime data (2015 - 2017) with a goal of providing answers to the following main questions among other findings noted in the analysis: \n",
    "1. What are the top 3 prevalent crimes or offenses committed in 2015, 2016 and 2017 in Montreal City?  \n",
    "2. Which neighborhoods recorded the highest crime incidents in 2015, 2016 and 2017 and what are the crime types in these neighborhoods? \n",
    "3. Which neighborhood has the highest cases of murder crime in 2015, 2016 and 2017?  \n",
    "4. What time of the day did most crime incidents occur in 2015, 2016 and 2017?  \n",
    "5. Which top 5 police stations (PDQ) got the most crime complaints in 2015, 2016 and 2017?  \n",
    "6. Which are the top 3 PDQs that got least crime complaints in 2015, 2016 and 2017?\n"
   ]
  },
  {
   "cell_type": "markdown",
   "metadata": {},
   "source": [
    "### Data source and descriptions   \n",
    "The dataset used in this analysis contains the criminal acts or crimes registered by the Police Department of the City of Montreal (SPVM) and made available on Montreal Open Data Portal (http://donnees.ville.montreal.qc.ca/dataset/actes-criminels). According to the portal, the dataset which covers the whole Montreal including all the islands of the city has been anonymized to ensure privacy.  \n",
    "\n",
    "**Columns Descriptions**:\n",
    "\n",
    "1. CATEGORY:  \n",
    "    * *Introduction*: Breaking and entering a public institution or private residence, theft of a firearm in a residence.  \n",
    "\n",
    "    * *Vol dans / sur véhicule à moteur*: Theft of a motor vehicle (car, truck, motorcycle, etc.) contents or a vehicle part (wheel, bumper, etc.).  \n",
    "\n",
    "    * *Vol de véhicule à moteur*: Theft of a car, truck, motorcycle, snowmobile tractor with or without a trailer, construction or farm vehicle, all-terrain vehicle. \n",
    "\n",
    "    * *Méfait*: Graffiti and damage to religious property, vehicle or general damage and all other types of mischief.   \n",
    "\n",
    "    * *Vol qualifié*: Robbery accompanied by commercial violence, financial institution, person, purse, armored vehicle, vehicle, firearm, and all other types of robbery.  \n",
    "\n",
    "    * *Infraction entraînant la mort*: First-degree murder, second-degree murder, manslaughter, infanticide, criminal negligence, and all other types of offenses resulting in death.  \n",
    "    \n",
    "\n",
    "2. DATE: Date of the report of the event to the SPVM.  \n",
    "\n",
    "\n",
    "3. QUART: The time of the day the event was reported to the SPVM.  \n",
    "\n",
    "\n",
    "4. PDQ: Number of the neighborhood station covering the territory where the event took place. For example, the neighborhood station 50 corresponds to the unit in charge of the metro.  \n",
    "\n",
    "\n",
    "5. X and Y: Geospatial position according to MTM8 projection (SRID 2950). The value 0 is used when no geographical position was provided when entering the information.  \n",
    "\n",
    "\n",
    "6. LAT and LONG: geographical position of the event after obfuscation at an intersection according to the WGS84 geodesic datum. The value 1 is used when no geographical position has been provided when entering the information."
   ]
  },
  {
   "cell_type": "markdown",
   "metadata": {},
   "source": [
    "### Import packages and define settings "
   ]
  },
  {
   "cell_type": "code",
   "execution_count": 1,
   "metadata": {},
   "outputs": [
    {
     "data": {
      "text/html": [
       "<script>requirejs.config({paths: { 'plotly': ['https://cdn.plot.ly/plotly-latest.min']},});if(!window.Plotly) {{require(['plotly'],function(plotly) {window.Plotly=plotly;});}}</script>"
      ],
      "text/vnd.plotly.v1+html": [
       "<script>requirejs.config({paths: { 'plotly': ['https://cdn.plot.ly/plotly-latest.min']},});if(!window.Plotly) {{require(['plotly'],function(plotly) {window.Plotly=plotly;});}}</script>"
      ]
     },
     "metadata": {},
     "output_type": "display_data"
    }
   ],
   "source": [
    "# import relevant packages\n",
    "import pandas as pd\n",
    "import numpy as np\n",
    "from dateutil.parser import parse\n",
    "import calendar\n",
    "\n",
    "# Plotly packagess\n",
    "from plotly import tools\n",
    "import plotly.graph_objs as go\n",
    "from plotly.offline import init_notebook_mode, iplot\n",
    "\n",
    "# import functions \n",
    "from crimedata_functions import map_data, embed_map, generate_map, extract_address, plotchart, markercol, linecol\n",
    "\n",
    "# settings\n",
    "init_notebook_mode(connected=True)\n",
    "pd.set_option('display.max_colwidth', 130)"
   ]
  },
  {
   "cell_type": "markdown",
   "metadata": {},
   "source": [
    "### Load the data\n",
    "The dataset used in this work is freely available at http://donnees.ville.montreal.qc.ca/dataset/actes-criminels."
   ]
  },
  {
   "cell_type": "code",
   "execution_count": 2,
   "metadata": {},
   "outputs": [],
   "source": [
    "df = pd.read_csv(\"data/interventionscitoyendo.csv\", encoding=\"latin1\")"
   ]
  },
  {
   "cell_type": "code",
   "execution_count": 3,
   "metadata": {},
   "outputs": [
    {
     "data": {
      "text/html": [
       "<div>\n",
       "<style scoped>\n",
       "    .dataframe tbody tr th:only-of-type {\n",
       "        vertical-align: middle;\n",
       "    }\n",
       "\n",
       "    .dataframe tbody tr th {\n",
       "        vertical-align: top;\n",
       "    }\n",
       "\n",
       "    .dataframe thead th {\n",
       "        text-align: right;\n",
       "    }\n",
       "</style>\n",
       "<table border=\"1\" class=\"dataframe\">\n",
       "  <thead>\n",
       "    <tr style=\"text-align: right;\">\n",
       "      <th></th>\n",
       "      <th>CATEGORIE</th>\n",
       "      <th>DATE</th>\n",
       "      <th>QUART</th>\n",
       "      <th>PDQ</th>\n",
       "      <th>X</th>\n",
       "      <th>Y</th>\n",
       "      <th>LAT</th>\n",
       "      <th>LONG</th>\n",
       "    </tr>\n",
       "  </thead>\n",
       "  <tbody>\n",
       "    <tr>\n",
       "      <th>0</th>\n",
       "      <td>Introduction</td>\n",
       "      <td>2015-01-01</td>\n",
       "      <td>jour</td>\n",
       "      <td>23</td>\n",
       "      <td>302375.197993</td>\n",
       "      <td>5.046522e+06</td>\n",
       "      <td>45.558606</td>\n",
       "      <td>-73.531060</td>\n",
       "    </tr>\n",
       "    <tr>\n",
       "      <th>1</th>\n",
       "      <td>Introduction</td>\n",
       "      <td>2015-01-01</td>\n",
       "      <td>jour</td>\n",
       "      <td>23</td>\n",
       "      <td>302375.197993</td>\n",
       "      <td>5.046522e+06</td>\n",
       "      <td>45.558606</td>\n",
       "      <td>-73.531060</td>\n",
       "    </tr>\n",
       "    <tr>\n",
       "      <th>2</th>\n",
       "      <td>Introduction</td>\n",
       "      <td>2015-01-01</td>\n",
       "      <td>soir</td>\n",
       "      <td>13</td>\n",
       "      <td>295850.656000</td>\n",
       "      <td>5.031730e+06</td>\n",
       "      <td>45.425443</td>\n",
       "      <td>-73.614364</td>\n",
       "    </tr>\n",
       "    <tr>\n",
       "      <th>3</th>\n",
       "      <td>Introduction</td>\n",
       "      <td>2015-01-01</td>\n",
       "      <td>nuit</td>\n",
       "      <td>8</td>\n",
       "      <td>289215.072000</td>\n",
       "      <td>5.036423e+06</td>\n",
       "      <td>45.467564</td>\n",
       "      <td>-73.699308</td>\n",
       "    </tr>\n",
       "    <tr>\n",
       "      <th>4</th>\n",
       "      <td>Introduction</td>\n",
       "      <td>2015-01-01</td>\n",
       "      <td>soir</td>\n",
       "      <td>44</td>\n",
       "      <td>298915.433995</td>\n",
       "      <td>5.046912e+06</td>\n",
       "      <td>45.562090</td>\n",
       "      <td>-73.575381</td>\n",
       "    </tr>\n",
       "  </tbody>\n",
       "</table>\n",
       "</div>"
      ],
      "text/plain": [
       "      CATEGORIE        DATE QUART  PDQ              X             Y  \\\n",
       "0  Introduction  2015-01-01  jour   23  302375.197993  5.046522e+06   \n",
       "1  Introduction  2015-01-01  jour   23  302375.197993  5.046522e+06   \n",
       "2  Introduction  2015-01-01  soir   13  295850.656000  5.031730e+06   \n",
       "3  Introduction  2015-01-01  nuit    8  289215.072000  5.036423e+06   \n",
       "4  Introduction  2015-01-01  soir   44  298915.433995  5.046912e+06   \n",
       "\n",
       "         LAT       LONG  \n",
       "0  45.558606 -73.531060  \n",
       "1  45.558606 -73.531060  \n",
       "2  45.425443 -73.614364  \n",
       "3  45.467564 -73.699308  \n",
       "4  45.562090 -73.575381  "
      ]
     },
     "execution_count": 3,
     "metadata": {},
     "output_type": "execute_result"
    }
   ],
   "source": [
    "# display the first five records of the data\n",
    "df.head()"
   ]
  },
  {
   "cell_type": "code",
   "execution_count": 4,
   "metadata": {},
   "outputs": [
    {
     "name": "stdout",
     "output_type": "stream",
     "text": [
      "The dataset contains 93078 rows and 8 columns.\n"
     ]
    }
   ],
   "source": [
    "# determine the number of records in the dataset\n",
    "print('The dataset contains {0} rows and {1} columns.'.format(df.shape[0], df.shape[1]))"
   ]
  },
  {
   "cell_type": "code",
   "execution_count": 5,
   "metadata": {},
   "outputs": [
    {
     "name": "stdout",
     "output_type": "stream",
     "text": [
      "<class 'pandas.core.frame.DataFrame'>\n",
      "RangeIndex: 93078 entries, 0 to 93077\n",
      "Data columns (total 8 columns):\n",
      "CATEGORIE    93078 non-null object\n",
      "DATE         93078 non-null object\n",
      "QUART        93078 non-null object\n",
      "PDQ          93078 non-null int64\n",
      "X            93078 non-null float64\n",
      "Y            93078 non-null float64\n",
      "LAT          93078 non-null float64\n",
      "LONG         93078 non-null float64\n",
      "dtypes: float64(4), int64(1), object(3)\n",
      "memory usage: 5.7+ MB\n"
     ]
    }
   ],
   "source": [
    "# check for missing values and data types of the columns\n",
    "df.info()"
   ]
  },
  {
   "cell_type": "markdown",
   "metadata": {},
   "source": [
    "### Crime categories mappings  \n",
    "Columns such as 'CATEGORIE' for crime types as well as 'QUART' field defining the time of the day when the crime event was reported are in French. However, for the purpose of this analysis, these will be summarized in English."
   ]
  },
  {
   "cell_type": "code",
   "execution_count": 6,
   "metadata": {},
   "outputs": [],
   "source": [
    "# Map crime descriptions and day times in French to English\n",
    "\n",
    "crime_mappings = list(zip([\n",
    "        'Introduction', 'Vol dans / sur véhicule à moteur',\n",
    "        'Vol de véhicule à moteur', 'Méfait', 'Vols qualifiés',\n",
    "        'Infractions entrainant la mort'\n",
    "    ], [\n",
    "        'Burglary', 'Vehicle contents or parts theft', 'Vehicle theft',\n",
    "        'Misdemeanor', 'Robbery', 'Offenses causing death'\n",
    "    ]))\n",
    "\n",
    "day_mappings = list(zip(['jour', 'soir', 'nuit'], ['day', 'evening', 'night']))\n",
    "\n",
    "# create a new column 'ADAPTED_CATEGORY' for crime descriptions in English\n",
    "df['ADAPTED_CATEGORY'] = df['CATEGORIE'].apply(\n",
    "    lambda x: map_data(crime_mappings, x))\n",
    "\n",
    "# modify 'QUART' column\n",
    "df['QUART'] = df['QUART'].apply(lambda x: map_data(day_mappings, x))"
   ]
  },
  {
   "cell_type": "markdown",
   "metadata": {},
   "source": [
    "### Define new columns and drop non-useful columns\n",
    "The date field included in the dataset was parsed and separated into 'YEAR' and 'MONTH' columns. The PDQ column is converted to string and the alphabets 'PDQ' are appended to each value. Columns 'X' and 'Y' are not relevant to the analysis and hence dropped."
   ]
  },
  {
   "cell_type": "code",
   "execution_count": 7,
   "metadata": {},
   "outputs": [],
   "source": [
    "# turn date field from object to date data type\n",
    "df['DATE'] = df['DATE'].apply(lambda x: parse(x))\n",
    "\n",
    "# define a new column 'YEAR'\n",
    "df['YEAR'] = df['DATE'].apply(lambda x: x.year).astype(str)\n",
    "\n",
    "# define a new column 'MONTH'\n",
    "df['MONTH'] = df['DATE'].apply(lambda x: x.month)\n",
    "\n",
    "# modify 'PDQ' column\n",
    "df['PDQ'] = df['PDQ'].apply(lambda x: 'PDQ '+ str(x))\n",
    "\n",
    "# drop X and Y columns\n",
    "df.drop(['X', 'Y'], axis=1, inplace=True)"
   ]
  },
  {
   "cell_type": "markdown",
   "metadata": {},
   "source": [
    "### Define data scope for the analysis\n",
    "For the purpose of this analysis, the scope of data will be restricted to period between 2015 and 2017."
   ]
  },
  {
   "cell_type": "code",
   "execution_count": 8,
   "metadata": {},
   "outputs": [],
   "source": [
    "# extract only '2015 - 2017' records from the dataset\n",
    "xdf = df[df['YEAR'] != '2018'].copy()"
   ]
  },
  {
   "cell_type": "markdown",
   "metadata": {},
   "source": [
    "### Generate crime map\n",
    "To generate the map, the latitude and longitude fields in the dataset were first chained together and defined as a new column. This was then used to summarize and aggregate crime events in the same neighborhoods to enable easy mapping."
   ]
  },
  {
   "cell_type": "code",
   "execution_count": 9,
   "metadata": {},
   "outputs": [],
   "source": [
    "# chain latitudes and longitudes together as a new column\n",
    "xdf['COORDS'] = list(zip(xdf['LAT'], xdf['LONG']))\n",
    "\n",
    "# summarize data\n",
    "aggcrime = xdf.groupby(['COORDS', 'ADAPTED_CATEGORY', 'YEAR']).agg({'ADAPTED_CATEGORY':'count'}).rename(columns={'ADAPTED_CATEGORY': 'COUNT'}).reset_index()\n",
    "\n",
    "# split 'COORDS' into two columns\n",
    "aggcrime['LAT'] = aggcrime['COORDS'].apply(lambda x: str(x).split(\",\")[0].replace(\"(\", \"\")).astype(float)\n",
    "aggcrime['LON'] = aggcrime['COORDS'].apply(lambda x: str(x).split(\",\")[1].replace(\")\", \"\")).astype(float)"
   ]
  },
  {
   "cell_type": "code",
   "execution_count": 10,
   "metadata": {},
   "outputs": [
    {
     "data": {
      "text/html": [
       "<iframe src=\"map.html\" style=\"width: 100%; height: 510px; border: none\"></iframe>"
      ],
      "text/plain": [
       "<IPython.core.display.HTML object>"
      ]
     },
     "execution_count": 10,
     "metadata": {},
     "output_type": "execute_result"
    }
   ],
   "source": [
    "# a crime map of 2015 is shown here. Maps of 2016 and 2017 can be displayed by changing the year value accordingly.\n",
    "generate_map(aggcrime, '2015')"
   ]
  },
  {
   "cell_type": "markdown",
   "metadata": {},
   "source": [
    "### Plot crime categories distribution"
   ]
  },
  {
   "cell_type": "code",
   "execution_count": 11,
   "metadata": {},
   "outputs": [],
   "source": [
    "# summarize data by year and crime categories\n",
    "aggdf = xdf.groupby(['YEAR', 'ADAPTED_CATEGORY']).agg({'ADAPTED_CATEGORY':'count'}).rename(columns={'ADAPTED_CATEGORY': 'INCIDENT_COUNT'}).reset_index()\n",
    "\n",
    "# define lists to hold crime types and sorted years.\n",
    "titlelist = [\n",
    "    'Burglary', 'Vehicle contents or parts theft', 'Misdemeanor',\n",
    "    'Vehicle theft', 'Robbery', 'Offenses causing death'\n",
    "]\n",
    "yearlist = sorted(list(set(xdf['YEAR'])))"
   ]
  },
  {
   "cell_type": "code",
   "execution_count": 12,
   "metadata": {},
   "outputs": [
    {
     "data": {
      "application/vnd.plotly.v1+json": {
       "data": [
        {
         "cliponaxis": false,
         "hoverinfo": "text",
         "marker": {
          "color": "rgba(31, 119, 180, 0.5)",
          "line": {
           "color": "rgba(31, 119, 180, 1.0)",
           "width": 1
          }
         },
         "name": "",
         "outsidetextfont": {
          "size": "10"
         },
         "showlegend": false,
         "text": [
          9803,
          9828,
          9232
         ],
         "textposition": "outside",
         "type": "bar",
         "width": 0.85,
         "x": [
          "2015",
          "2016",
          "2017"
         ],
         "xaxis": "x1",
         "y": [
          9803,
          9828,
          9232
         ],
         "yaxis": "y1"
        },
        {
         "cliponaxis": false,
         "hoverinfo": "text",
         "marker": {
          "color": "rgba(255, 127, 14, 0.5)",
          "line": {
           "color": "rgba(255, 127, 14, 1.0)",
           "width": 1
          }
         },
         "name": "",
         "outsidetextfont": {
          "size": "10"
         },
         "showlegend": false,
         "text": [
          7984,
          7691,
          7179
         ],
         "textposition": "outside",
         "type": "bar",
         "width": 0.85,
         "x": [
          "2015",
          "2016",
          "2017"
         ],
         "xaxis": "x2",
         "y": [
          7984,
          7691,
          7179
         ],
         "yaxis": "y1"
        },
        {
         "cliponaxis": false,
         "hoverinfo": "text",
         "marker": {
          "color": "rgba(50, 171, 96, 0.5)",
          "line": {
           "color": "rgba(50, 171, 96, 1.0)",
           "width": 1
          }
         },
         "name": "",
         "outsidetextfont": {
          "size": "10"
         },
         "showlegend": false,
         "text": [
          7056,
          6252,
          6166
         ],
         "textposition": "outside",
         "type": "bar",
         "width": 0.85,
         "x": [
          "2015",
          "2016",
          "2017"
         ],
         "xaxis": "x3",
         "y": [
          7056,
          6252,
          6166
         ],
         "yaxis": "y1"
        },
        {
         "cliponaxis": false,
         "hoverinfo": "text",
         "marker": {
          "color": "rgba(214, 39, 40, 0.5)",
          "line": {
           "color": "rgba(214, 39, 40, 1.0)",
           "width": 1
          }
         },
         "name": "",
         "outsidetextfont": {
          "size": "10"
         },
         "showlegend": false,
         "text": [
          3711,
          3702,
          4050
         ],
         "textposition": "outside",
         "type": "bar",
         "width": 0.85,
         "x": [
          "2015",
          "2016",
          "2017"
         ],
         "xaxis": "x4",
         "y": [
          3711,
          3702,
          4050
         ],
         "yaxis": "y1"
        },
        {
         "cliponaxis": false,
         "hoverinfo": "text",
         "marker": {
          "color": "rgba(148, 103, 189, 0.5)",
          "line": {
           "color": "rgba(148, 103, 189, 1.0)",
           "width": 1
          }
         },
         "name": "",
         "outsidetextfont": {
          "size": "10"
         },
         "showlegend": false,
         "text": [
          1609,
          1529,
          1460
         ],
         "textposition": "outside",
         "type": "bar",
         "width": 0.85,
         "x": [
          "2015",
          "2016",
          "2017"
         ],
         "xaxis": "x5",
         "y": [
          1609,
          1529,
          1460
         ],
         "yaxis": "y1"
        },
        {
         "cliponaxis": false,
         "hoverinfo": "text",
         "marker": {
          "color": "rgba(140, 86, 75, 0.5)",
          "line": {
           "color": "rgba(140, 86, 75, 1.0)",
           "width": 1
          }
         },
         "name": "",
         "outsidetextfont": {
          "size": "10"
         },
         "showlegend": false,
         "text": [
          25,
          22,
          21
         ],
         "textposition": "outside",
         "type": "bar",
         "width": 0.85,
         "x": [
          "2015",
          "2016",
          "2017"
         ],
         "xaxis": "x6",
         "y": [
          25,
          22,
          21
         ],
         "yaxis": "y1"
        }
       ],
       "layout": {
        "annotations": [
         {
          "font": {
           "size": 11
          },
          "showarrow": false,
          "text": "<b>Burglary</b>",
          "x": 0.07500000000000001,
          "xanchor": "center",
          "xref": "paper",
          "y": 1.2,
          "yanchor": "top",
          "yref": "paper"
         },
         {
          "font": {
           "size": 11
          },
          "showarrow": false,
          "text": "<b>Vehicle contents<br>or parts theft</b>",
          "x": 0.24500000000000002,
          "xanchor": "center",
          "xref": "paper",
          "y": 1.2,
          "yanchor": "top",
          "yref": "paper"
         },
         {
          "font": {
           "size": 11
          },
          "showarrow": false,
          "text": "<b>Misdemeanor</b>",
          "x": 0.41500000000000004,
          "xanchor": "center",
          "xref": "paper",
          "y": 1.2,
          "yanchor": "top",
          "yref": "paper"
         },
         {
          "font": {
           "size": 11
          },
          "showarrow": false,
          "text": "<b>Vehicle theft</b>",
          "x": 0.585,
          "xanchor": "center",
          "xref": "paper",
          "y": 1.2,
          "yanchor": "top",
          "yref": "paper"
         },
         {
          "font": {
           "size": 11
          },
          "showarrow": false,
          "text": "<b>Robbery</b>",
          "x": 0.7550000000000001,
          "xanchor": "center",
          "xref": "paper",
          "y": 1.2,
          "yanchor": "top",
          "yref": "paper"
         },
         {
          "font": {
           "size": 11
          },
          "showarrow": false,
          "text": "<b>Offenses causing death</b>",
          "x": 0.925,
          "xanchor": "center",
          "xref": "paper",
          "y": 1.2,
          "yanchor": "top",
          "yref": "paper"
         }
        ],
        "autosize": false,
        "height": 350,
        "paper_bgcolor": "rgba(245, 246, 249, 1)",
        "plot_bgcolor": "rgba(245, 246, 249, 1)",
        "showlegend": false,
        "title": "<b>Crime Events Distribution: 2015 - 2017</b>",
        "titlefont": {
         "size": 14
        },
        "width": 950,
        "xaxis1": {
         "anchor": "y1",
         "domain": [
          0,
          0.15
         ],
         "tickfont": {
          "color": "rgb(107, 107, 107)",
          "size": 10
         },
         "titlefont": {
          "color": "rgb(107, 107, 107)",
          "size": 11
         }
        },
        "xaxis2": {
         "anchor": "free",
         "domain": [
          0.16999999999999998,
          0.31999999999999995
         ],
         "position": 0,
         "tickfont": {
          "color": "rgb(107, 107, 107)",
          "size": 10
         },
         "titlefont": {
          "color": "rgb(107, 107, 107)",
          "size": 11
         }
        },
        "xaxis3": {
         "anchor": "free",
         "domain": [
          0.33999999999999997,
          0.49
         ],
         "position": 0,
         "tickfont": {
          "color": "rgb(107, 107, 107)",
          "size": 10
         },
         "titlefont": {
          "color": "rgb(107, 107, 107)",
          "size": 11
         }
        },
        "xaxis4": {
         "anchor": "free",
         "domain": [
          0.51,
          0.66
         ],
         "position": 0,
         "tickfont": {
          "color": "rgb(107, 107, 107)",
          "size": 10
         },
         "titlefont": {
          "color": "rgb(107, 107, 107)",
          "size": 11
         }
        },
        "xaxis5": {
         "anchor": "free",
         "domain": [
          0.6799999999999999,
          0.83
         ],
         "position": 0,
         "tickfont": {
          "color": "rgb(107, 107, 107)",
          "size": 10
         },
         "titlefont": {
          "color": "rgb(107, 107, 107)",
          "size": 11
         }
        },
        "xaxis6": {
         "anchor": "free",
         "domain": [
          0.85,
          1
         ],
         "position": 0,
         "tickfont": {
          "color": "rgb(107, 107, 107)",
          "size": 10
         },
         "titlefont": {
          "color": "rgb(107, 107, 107)",
          "size": 11
         }
        },
        "yaxis1": {
         "anchor": "x1",
         "domain": [
          0,
          1
         ],
         "showgrid": true,
         "showticklabels": false,
         "tickfont": {
          "color": "rgb(107, 107, 107)",
          "size": 10
         },
         "title": "Crime Incident",
         "titlefont": {
          "color": "rgb(107, 107, 107)",
          "size": 11
         }
        },
        "yaxis2": {
         "showgrid": true,
         "showticklabels": false,
         "tickfont": {
          "color": "rgb(107, 107, 107)",
          "size": 10
         },
         "title": "Crime Incident",
         "titlefont": {
          "color": "rgb(107, 107, 107)",
          "size": 11
         }
        },
        "yaxis3": {
         "showgrid": true,
         "showticklabels": false,
         "tickfont": {
          "color": "rgb(107, 107, 107)",
          "size": 10
         },
         "title": "Crime Incident",
         "titlefont": {
          "color": "rgb(107, 107, 107)",
          "size": 11
         }
        },
        "yaxis4": {
         "showgrid": true,
         "showticklabels": false,
         "tickfont": {
          "color": "rgb(107, 107, 107)",
          "size": 10
         },
         "title": "Crime Incident",
         "titlefont": {
          "color": "rgb(107, 107, 107)",
          "size": 11
         }
        },
        "yaxis5": {
         "showgrid": true,
         "showticklabels": false,
         "tickfont": {
          "color": "rgb(107, 107, 107)",
          "size": 10
         },
         "title": "Crime Incident",
         "titlefont": {
          "color": "rgb(107, 107, 107)",
          "size": 11
         }
        },
        "yaxis6": {
         "showgrid": true,
         "showticklabels": false,
         "tickfont": {
          "color": "rgb(107, 107, 107)",
          "size": 10
         },
         "title": "Crime Incident",
         "titlefont": {
          "color": "rgb(107, 107, 107)",
          "size": 11
         }
        }
       }
      },
      "text/html": [
       "<div id=\"680a2e4a-1fb8-4022-b913-487d295dcd36\" style=\"height: 350px; width: 950px;\" class=\"plotly-graph-div\"></div><script type=\"text/javascript\">require([\"plotly\"], function(Plotly) { window.PLOTLYENV=window.PLOTLYENV || {};window.PLOTLYENV.BASE_URL=\"https://plot.ly\";Plotly.newPlot(\"680a2e4a-1fb8-4022-b913-487d295dcd36\", [{\"type\": \"bar\", \"x\": [\"2015\", \"2016\", \"2017\"], \"y\": [9803, 9828, 9232], \"text\": [9803, 9828, 9232], \"textposition\": \"outside\", \"hoverinfo\": \"text\", \"outsidetextfont\": {\"size\": \"10\"}, \"cliponaxis\": false, \"name\": \"\", \"showlegend\": false, \"width\": 0.85, \"marker\": {\"color\": \"rgba(31, 119, 180, 0.5)\", \"line\": {\"color\": \"rgba(31, 119, 180, 1.0)\", \"width\": 1}}, \"xaxis\": \"x1\", \"yaxis\": \"y1\"}, {\"type\": \"bar\", \"x\": [\"2015\", \"2016\", \"2017\"], \"y\": [7984, 7691, 7179], \"text\": [7984, 7691, 7179], \"textposition\": \"outside\", \"hoverinfo\": \"text\", \"outsidetextfont\": {\"size\": \"10\"}, \"cliponaxis\": false, \"name\": \"\", \"showlegend\": false, \"width\": 0.85, \"marker\": {\"color\": \"rgba(255, 127, 14, 0.5)\", \"line\": {\"color\": \"rgba(255, 127, 14, 1.0)\", \"width\": 1}}, \"xaxis\": \"x2\", \"yaxis\": \"y1\"}, {\"type\": \"bar\", \"x\": [\"2015\", \"2016\", \"2017\"], \"y\": [7056, 6252, 6166], \"text\": [7056, 6252, 6166], \"textposition\": \"outside\", \"hoverinfo\": \"text\", \"outsidetextfont\": {\"size\": \"10\"}, \"cliponaxis\": false, \"name\": \"\", \"showlegend\": false, \"width\": 0.85, \"marker\": {\"color\": \"rgba(50, 171, 96, 0.5)\", \"line\": {\"color\": \"rgba(50, 171, 96, 1.0)\", \"width\": 1}}, \"xaxis\": \"x3\", \"yaxis\": \"y1\"}, {\"type\": \"bar\", \"x\": [\"2015\", \"2016\", \"2017\"], \"y\": [3711, 3702, 4050], \"text\": [3711, 3702, 4050], \"textposition\": \"outside\", \"hoverinfo\": \"text\", \"outsidetextfont\": {\"size\": \"10\"}, \"cliponaxis\": false, \"name\": \"\", \"showlegend\": false, \"width\": 0.85, \"marker\": {\"color\": \"rgba(214, 39, 40, 0.5)\", \"line\": {\"color\": \"rgba(214, 39, 40, 1.0)\", \"width\": 1}}, \"xaxis\": \"x4\", \"yaxis\": \"y1\"}, {\"type\": \"bar\", \"x\": [\"2015\", \"2016\", \"2017\"], \"y\": [1609, 1529, 1460], \"text\": [1609, 1529, 1460], \"textposition\": \"outside\", \"hoverinfo\": \"text\", \"outsidetextfont\": {\"size\": \"10\"}, \"cliponaxis\": false, \"name\": \"\", \"showlegend\": false, \"width\": 0.85, \"marker\": {\"color\": \"rgba(148, 103, 189, 0.5)\", \"line\": {\"color\": \"rgba(148, 103, 189, 1.0)\", \"width\": 1}}, \"xaxis\": \"x5\", \"yaxis\": \"y1\"}, {\"type\": \"bar\", \"x\": [\"2015\", \"2016\", \"2017\"], \"y\": [25, 22, 21], \"text\": [25, 22, 21], \"textposition\": \"outside\", \"hoverinfo\": \"text\", \"outsidetextfont\": {\"size\": \"10\"}, \"cliponaxis\": false, \"name\": \"\", \"showlegend\": false, \"width\": 0.85, \"marker\": {\"color\": \"rgba(140, 86, 75, 0.5)\", \"line\": {\"color\": \"rgba(140, 86, 75, 1.0)\", \"width\": 1}}, \"xaxis\": \"x6\", \"yaxis\": \"y1\"}], {\"xaxis1\": {\"domain\": [0.0, 0.15], \"anchor\": \"y1\", \"titlefont\": {\"size\": 11, \"color\": \"rgb(107, 107, 107)\"}, \"tickfont\": {\"size\": 10, \"color\": \"rgb(107, 107, 107)\"}}, \"yaxis1\": {\"domain\": [0.0, 1.0], \"anchor\": \"x1\", \"title\": \"Crime Incident\", \"titlefont\": {\"size\": 11, \"color\": \"rgb(107, 107, 107)\"}, \"tickfont\": {\"size\": 10, \"color\": \"rgb(107, 107, 107)\"}, \"showticklabels\": false, \"showgrid\": true}, \"xaxis2\": {\"domain\": [0.16999999999999998, 0.31999999999999995], \"anchor\": \"free\", \"position\": 0.0, \"titlefont\": {\"size\": 11, \"color\": \"rgb(107, 107, 107)\"}, \"tickfont\": {\"size\": 10, \"color\": \"rgb(107, 107, 107)\"}}, \"xaxis3\": {\"domain\": [0.33999999999999997, 0.49], \"anchor\": \"free\", \"position\": 0.0, \"titlefont\": {\"size\": 11, \"color\": \"rgb(107, 107, 107)\"}, \"tickfont\": {\"size\": 10, \"color\": \"rgb(107, 107, 107)\"}}, \"xaxis4\": {\"domain\": [0.51, 0.66], \"anchor\": \"free\", \"position\": 0.0, \"titlefont\": {\"size\": 11, \"color\": \"rgb(107, 107, 107)\"}, \"tickfont\": {\"size\": 10, \"color\": \"rgb(107, 107, 107)\"}}, \"xaxis5\": {\"domain\": [0.6799999999999999, 0.83], \"anchor\": \"free\", \"position\": 0.0, \"titlefont\": {\"size\": 11, \"color\": \"rgb(107, 107, 107)\"}, \"tickfont\": {\"size\": 10, \"color\": \"rgb(107, 107, 107)\"}}, \"xaxis6\": {\"domain\": [0.85, 1.0], \"anchor\": \"free\", \"position\": 0.0, \"titlefont\": {\"size\": 11, \"color\": \"rgb(107, 107, 107)\"}, \"tickfont\": {\"size\": 10, \"color\": \"rgb(107, 107, 107)\"}}, \"annotations\": [{\"y\": 1.2, \"xref\": \"paper\", \"x\": 0.07500000000000001, \"yref\": \"paper\", \"text\": \"<b>Burglary</b>\", \"showarrow\": false, \"font\": {\"size\": 11}, \"xanchor\": \"center\", \"yanchor\": \"top\"}, {\"y\": 1.2, \"xref\": \"paper\", \"x\": 0.24500000000000002, \"yref\": \"paper\", \"text\": \"<b>Vehicle contents<br>or parts theft</b>\", \"showarrow\": false, \"font\": {\"size\": 11}, \"xanchor\": \"center\", \"yanchor\": \"top\"}, {\"y\": 1.2, \"xref\": \"paper\", \"x\": 0.41500000000000004, \"yref\": \"paper\", \"text\": \"<b>Misdemeanor</b>\", \"showarrow\": false, \"font\": {\"size\": 11}, \"xanchor\": \"center\", \"yanchor\": \"top\"}, {\"y\": 1.2, \"xref\": \"paper\", \"x\": 0.585, \"yref\": \"paper\", \"text\": \"<b>Vehicle theft</b>\", \"showarrow\": false, \"font\": {\"size\": 11}, \"xanchor\": \"center\", \"yanchor\": \"top\"}, {\"y\": 1.2, \"xref\": \"paper\", \"x\": 0.7550000000000001, \"yref\": \"paper\", \"text\": \"<b>Robbery</b>\", \"showarrow\": false, \"font\": {\"size\": 11}, \"xanchor\": \"center\", \"yanchor\": \"top\"}, {\"y\": 1.2, \"xref\": \"paper\", \"x\": 0.925, \"yref\": \"paper\", \"text\": \"<b>Offenses causing death</b>\", \"showarrow\": false, \"font\": {\"size\": 11}, \"xanchor\": \"center\", \"yanchor\": \"top\"}], \"yaxis2\": {\"title\": \"Crime Incident\", \"titlefont\": {\"size\": 11, \"color\": \"rgb(107, 107, 107)\"}, \"tickfont\": {\"size\": 10, \"color\": \"rgb(107, 107, 107)\"}, \"showticklabels\": false, \"showgrid\": true}, \"yaxis3\": {\"title\": \"Crime Incident\", \"titlefont\": {\"size\": 11, \"color\": \"rgb(107, 107, 107)\"}, \"tickfont\": {\"size\": 10, \"color\": \"rgb(107, 107, 107)\"}, \"showticklabels\": false, \"showgrid\": true}, \"yaxis4\": {\"title\": \"Crime Incident\", \"titlefont\": {\"size\": 11, \"color\": \"rgb(107, 107, 107)\"}, \"tickfont\": {\"size\": 10, \"color\": \"rgb(107, 107, 107)\"}, \"showticklabels\": false, \"showgrid\": true}, \"yaxis5\": {\"title\": \"Crime Incident\", \"titlefont\": {\"size\": 11, \"color\": \"rgb(107, 107, 107)\"}, \"tickfont\": {\"size\": 10, \"color\": \"rgb(107, 107, 107)\"}, \"showticklabels\": false, \"showgrid\": true}, \"yaxis6\": {\"title\": \"Crime Incident\", \"titlefont\": {\"size\": 11, \"color\": \"rgb(107, 107, 107)\"}, \"tickfont\": {\"size\": 10, \"color\": \"rgb(107, 107, 107)\"}, \"showticklabels\": false, \"showgrid\": true}, \"height\": 350, \"width\": 950, \"showlegend\": false, \"autosize\": false, \"title\": \"<b>Crime Events Distribution: 2015 - 2017</b>\", \"titlefont\": {\"size\": 14}, \"paper_bgcolor\": \"rgba(245, 246, 249, 1)\", \"plot_bgcolor\": \"rgba(245, 246, 249, 1)\"}, {\"showLink\": true, \"linkText\": \"Export to plot.ly\"})});</script>"
      ],
      "text/vnd.plotly.v1+html": [
       "<div id=\"680a2e4a-1fb8-4022-b913-487d295dcd36\" style=\"height: 350px; width: 950px;\" class=\"plotly-graph-div\"></div><script type=\"text/javascript\">require([\"plotly\"], function(Plotly) { window.PLOTLYENV=window.PLOTLYENV || {};window.PLOTLYENV.BASE_URL=\"https://plot.ly\";Plotly.newPlot(\"680a2e4a-1fb8-4022-b913-487d295dcd36\", [{\"type\": \"bar\", \"x\": [\"2015\", \"2016\", \"2017\"], \"y\": [9803, 9828, 9232], \"text\": [9803, 9828, 9232], \"textposition\": \"outside\", \"hoverinfo\": \"text\", \"outsidetextfont\": {\"size\": \"10\"}, \"cliponaxis\": false, \"name\": \"\", \"showlegend\": false, \"width\": 0.85, \"marker\": {\"color\": \"rgba(31, 119, 180, 0.5)\", \"line\": {\"color\": \"rgba(31, 119, 180, 1.0)\", \"width\": 1}}, \"xaxis\": \"x1\", \"yaxis\": \"y1\"}, {\"type\": \"bar\", \"x\": [\"2015\", \"2016\", \"2017\"], \"y\": [7984, 7691, 7179], \"text\": [7984, 7691, 7179], \"textposition\": \"outside\", \"hoverinfo\": \"text\", \"outsidetextfont\": {\"size\": \"10\"}, \"cliponaxis\": false, \"name\": \"\", \"showlegend\": false, \"width\": 0.85, \"marker\": {\"color\": \"rgba(255, 127, 14, 0.5)\", \"line\": {\"color\": \"rgba(255, 127, 14, 1.0)\", \"width\": 1}}, \"xaxis\": \"x2\", \"yaxis\": \"y1\"}, {\"type\": \"bar\", \"x\": [\"2015\", \"2016\", \"2017\"], \"y\": [7056, 6252, 6166], \"text\": [7056, 6252, 6166], \"textposition\": \"outside\", \"hoverinfo\": \"text\", \"outsidetextfont\": {\"size\": \"10\"}, \"cliponaxis\": false, \"name\": \"\", \"showlegend\": false, \"width\": 0.85, \"marker\": {\"color\": \"rgba(50, 171, 96, 0.5)\", \"line\": {\"color\": \"rgba(50, 171, 96, 1.0)\", \"width\": 1}}, \"xaxis\": \"x3\", \"yaxis\": \"y1\"}, {\"type\": \"bar\", \"x\": [\"2015\", \"2016\", \"2017\"], \"y\": [3711, 3702, 4050], \"text\": [3711, 3702, 4050], \"textposition\": \"outside\", \"hoverinfo\": \"text\", \"outsidetextfont\": {\"size\": \"10\"}, \"cliponaxis\": false, \"name\": \"\", \"showlegend\": false, \"width\": 0.85, \"marker\": {\"color\": \"rgba(214, 39, 40, 0.5)\", \"line\": {\"color\": \"rgba(214, 39, 40, 1.0)\", \"width\": 1}}, \"xaxis\": \"x4\", \"yaxis\": \"y1\"}, {\"type\": \"bar\", \"x\": [\"2015\", \"2016\", \"2017\"], \"y\": [1609, 1529, 1460], \"text\": [1609, 1529, 1460], \"textposition\": \"outside\", \"hoverinfo\": \"text\", \"outsidetextfont\": {\"size\": \"10\"}, \"cliponaxis\": false, \"name\": \"\", \"showlegend\": false, \"width\": 0.85, \"marker\": {\"color\": \"rgba(148, 103, 189, 0.5)\", \"line\": {\"color\": \"rgba(148, 103, 189, 1.0)\", \"width\": 1}}, \"xaxis\": \"x5\", \"yaxis\": \"y1\"}, {\"type\": \"bar\", \"x\": [\"2015\", \"2016\", \"2017\"], \"y\": [25, 22, 21], \"text\": [25, 22, 21], \"textposition\": \"outside\", \"hoverinfo\": \"text\", \"outsidetextfont\": {\"size\": \"10\"}, \"cliponaxis\": false, \"name\": \"\", \"showlegend\": false, \"width\": 0.85, \"marker\": {\"color\": \"rgba(140, 86, 75, 0.5)\", \"line\": {\"color\": \"rgba(140, 86, 75, 1.0)\", \"width\": 1}}, \"xaxis\": \"x6\", \"yaxis\": \"y1\"}], {\"xaxis1\": {\"domain\": [0.0, 0.15], \"anchor\": \"y1\", \"titlefont\": {\"size\": 11, \"color\": \"rgb(107, 107, 107)\"}, \"tickfont\": {\"size\": 10, \"color\": \"rgb(107, 107, 107)\"}}, \"yaxis1\": {\"domain\": [0.0, 1.0], \"anchor\": \"x1\", \"title\": \"Crime Incident\", \"titlefont\": {\"size\": 11, \"color\": \"rgb(107, 107, 107)\"}, \"tickfont\": {\"size\": 10, \"color\": \"rgb(107, 107, 107)\"}, \"showticklabels\": false, \"showgrid\": true}, \"xaxis2\": {\"domain\": [0.16999999999999998, 0.31999999999999995], \"anchor\": \"free\", \"position\": 0.0, \"titlefont\": {\"size\": 11, \"color\": \"rgb(107, 107, 107)\"}, \"tickfont\": {\"size\": 10, \"color\": \"rgb(107, 107, 107)\"}}, \"xaxis3\": {\"domain\": [0.33999999999999997, 0.49], \"anchor\": \"free\", \"position\": 0.0, \"titlefont\": {\"size\": 11, \"color\": \"rgb(107, 107, 107)\"}, \"tickfont\": {\"size\": 10, \"color\": \"rgb(107, 107, 107)\"}}, \"xaxis4\": {\"domain\": [0.51, 0.66], \"anchor\": \"free\", \"position\": 0.0, \"titlefont\": {\"size\": 11, \"color\": \"rgb(107, 107, 107)\"}, \"tickfont\": {\"size\": 10, \"color\": \"rgb(107, 107, 107)\"}}, \"xaxis5\": {\"domain\": [0.6799999999999999, 0.83], \"anchor\": \"free\", \"position\": 0.0, \"titlefont\": {\"size\": 11, \"color\": \"rgb(107, 107, 107)\"}, \"tickfont\": {\"size\": 10, \"color\": \"rgb(107, 107, 107)\"}}, \"xaxis6\": {\"domain\": [0.85, 1.0], \"anchor\": \"free\", \"position\": 0.0, \"titlefont\": {\"size\": 11, \"color\": \"rgb(107, 107, 107)\"}, \"tickfont\": {\"size\": 10, \"color\": \"rgb(107, 107, 107)\"}}, \"annotations\": [{\"y\": 1.2, \"xref\": \"paper\", \"x\": 0.07500000000000001, \"yref\": \"paper\", \"text\": \"<b>Burglary</b>\", \"showarrow\": false, \"font\": {\"size\": 11}, \"xanchor\": \"center\", \"yanchor\": \"top\"}, {\"y\": 1.2, \"xref\": \"paper\", \"x\": 0.24500000000000002, \"yref\": \"paper\", \"text\": \"<b>Vehicle contents<br>or parts theft</b>\", \"showarrow\": false, \"font\": {\"size\": 11}, \"xanchor\": \"center\", \"yanchor\": \"top\"}, {\"y\": 1.2, \"xref\": \"paper\", \"x\": 0.41500000000000004, \"yref\": \"paper\", \"text\": \"<b>Misdemeanor</b>\", \"showarrow\": false, \"font\": {\"size\": 11}, \"xanchor\": \"center\", \"yanchor\": \"top\"}, {\"y\": 1.2, \"xref\": \"paper\", \"x\": 0.585, \"yref\": \"paper\", \"text\": \"<b>Vehicle theft</b>\", \"showarrow\": false, \"font\": {\"size\": 11}, \"xanchor\": \"center\", \"yanchor\": \"top\"}, {\"y\": 1.2, \"xref\": \"paper\", \"x\": 0.7550000000000001, \"yref\": \"paper\", \"text\": \"<b>Robbery</b>\", \"showarrow\": false, \"font\": {\"size\": 11}, \"xanchor\": \"center\", \"yanchor\": \"top\"}, {\"y\": 1.2, \"xref\": \"paper\", \"x\": 0.925, \"yref\": \"paper\", \"text\": \"<b>Offenses causing death</b>\", \"showarrow\": false, \"font\": {\"size\": 11}, \"xanchor\": \"center\", \"yanchor\": \"top\"}], \"yaxis2\": {\"title\": \"Crime Incident\", \"titlefont\": {\"size\": 11, \"color\": \"rgb(107, 107, 107)\"}, \"tickfont\": {\"size\": 10, \"color\": \"rgb(107, 107, 107)\"}, \"showticklabels\": false, \"showgrid\": true}, \"yaxis3\": {\"title\": \"Crime Incident\", \"titlefont\": {\"size\": 11, \"color\": \"rgb(107, 107, 107)\"}, \"tickfont\": {\"size\": 10, \"color\": \"rgb(107, 107, 107)\"}, \"showticklabels\": false, \"showgrid\": true}, \"yaxis4\": {\"title\": \"Crime Incident\", \"titlefont\": {\"size\": 11, \"color\": \"rgb(107, 107, 107)\"}, \"tickfont\": {\"size\": 10, \"color\": \"rgb(107, 107, 107)\"}, \"showticklabels\": false, \"showgrid\": true}, \"yaxis5\": {\"title\": \"Crime Incident\", \"titlefont\": {\"size\": 11, \"color\": \"rgb(107, 107, 107)\"}, \"tickfont\": {\"size\": 10, \"color\": \"rgb(107, 107, 107)\"}, \"showticklabels\": false, \"showgrid\": true}, \"yaxis6\": {\"title\": \"Crime Incident\", \"titlefont\": {\"size\": 11, \"color\": \"rgb(107, 107, 107)\"}, \"tickfont\": {\"size\": 10, \"color\": \"rgb(107, 107, 107)\"}, \"showticklabels\": false, \"showgrid\": true}, \"height\": 350, \"width\": 950, \"showlegend\": false, \"autosize\": false, \"title\": \"<b>Crime Events Distribution: 2015 - 2017</b>\", \"titlefont\": {\"size\": 14}, \"paper_bgcolor\": \"rgba(245, 246, 249, 1)\", \"plot_bgcolor\": \"rgba(245, 246, 249, 1)\"}, {\"showLink\": true, \"linkText\": \"Export to plot.ly\"})});</script>"
      ]
     },
     "metadata": {},
     "output_type": "display_data"
    }
   ],
   "source": [
    "# create an empty list to hold chart data definitions for each plot\n",
    "trace_list = []\n",
    "\n",
    "# define subplots\n",
    "fig = tools.make_subplots(rows=1, cols=6, subplot_titles=([\"<b>{}</b>\".format(i) for i in titlelist]),\n",
    "    shared_yaxes=True, horizontal_spacing=(0.02), print_grid=False)\n",
    "\n",
    "# a matrix for subplot selection order\n",
    "m = np.array([1, 1, 1, 2, 1, 3, 1, 4, 1, 5, 1, 6]).reshape(6, 2)\n",
    "\n",
    "# define chart data\n",
    "for i in range(6):\n",
    "    data = aggdf[aggdf['ADAPTED_CATEGORY'] == titlelist[i]]\n",
    "    tracex = go.Bar(x=data['YEAR'], y=data['INCIDENT_COUNT'], text=data['INCIDENT_COUNT'],\n",
    "        textposition='outside', hoverinfo='text', outsidetextfont=dict(size='10'),\n",
    "        cliponaxis=False, name='', showlegend=False, width=0.85,  \n",
    "        marker=dict(color=markercol[i], line=dict(color=linecol[i], width=1)))\n",
    "    trace_list.append(tracex)\n",
    "\n",
    "    # append each subplot data definitions to the figure instance\n",
    "    fig.append_trace(trace_list[i], m[i][0], m[i][1])\n",
    "\n",
    "# define layout settings\n",
    "for i in fig['layout']['annotations']:\n",
    "    i['font'] = dict(size=11)\n",
    "    i['y'] = 1.2\n",
    "    i['yanchor'] = 'top'\n",
    "\n",
    "fig['layout']['annotations'][1]['text'] = '<b>Vehicle contents<br>or parts theft</b>'\n",
    "\n",
    "for i in range(1, 7):\n",
    "    fig['layout']['yaxis' + '{}'.format(i)].update(title='Crime Incident',\n",
    "        titlefont=dict(size=11, color='rgb(107, 107, 107)'), tickfont=dict(size=10, color='rgb(107, 107, 107)'),\n",
    "        showticklabels=False, showgrid=True)\n",
    "\n",
    "    fig['layout']['xaxis' + '{}'.format(i)].update(titlefont=dict(size=11, color='rgb(107, 107, 107)'),\n",
    "        tickfont=dict(size=10, color='rgb(107, 107, 107)'))\n",
    "\n",
    "# update layout settings\n",
    "fig['layout'].update(height=350, width=950, showlegend=False, autosize=False,\n",
    "    title=\"<b>Crime Events Distribution: 2015 - 2017</b>\", titlefont=dict(size=14),\n",
    "    paper_bgcolor='rgba(245, 246, 249, 1)', plot_bgcolor='rgba(245, 246, 249, 1)')  \n",
    "\n",
    "iplot(fig)"
   ]
  },
  {
   "cell_type": "markdown",
   "metadata": {},
   "source": [
    "**Observation:**\n",
    "* *Besides vehicle theft that increased by 9.4% between 2016 and 2017, all other crime types showed a downward trend in the 3-years period reviewed.*"
   ]
  },
  {
   "cell_type": "markdown",
   "metadata": {},
   "source": [
    "### Plot crime incidents trends "
   ]
  },
  {
   "cell_type": "code",
   "execution_count": 13,
   "metadata": {},
   "outputs": [],
   "source": [
    "# summarize data by year, month and crime categories \n",
    "mon_trend = xdf.groupby(['YEAR', 'MONTH', 'ADAPTED_CATEGORY']).agg({'ADAPTED_CATEGORY': 'count'}).rename(columns={'ADAPTED_CATEGORY':'INCIDENT_COUNT'}).reset_index()\n",
    "\n",
    "# sort month column and change months in figures to names \n",
    "mon_trend['MONTH'] = mon_trend['MONTH'].sort_values().apply(lambda x: calendar.month_abbr[x])"
   ]
  },
  {
   "cell_type": "code",
   "execution_count": 14,
   "metadata": {
    "code_folding": []
   },
   "outputs": [
    {
     "data": {
      "application/vnd.plotly.v1+json": {
       "data": [
        {
         "line": {
          "width": 1.5
         },
         "marker": {
          "color": "rgb(31, 119, 180)"
         },
         "mode": "lines",
         "name": "Burglary",
         "showlegend": true,
         "type": "scatter",
         "x": [
          "Jan",
          "Feb",
          "Mar",
          "Apr",
          "May",
          "Jun",
          "Jul",
          "Aug",
          "Sep",
          "Oct",
          "Nov",
          "Dec"
         ],
         "xaxis": "x1",
         "y": [
          760,
          771,
          795,
          711,
          762,
          773,
          810,
          841,
          831,
          912,
          937,
          900
         ],
         "yaxis": "y1"
        },
        {
         "line": {
          "width": 1.5
         },
         "marker": {
          "color": "rgb(255, 127, 14)"
         },
         "mode": "lines",
         "name": "Vehicle contents or parts theft",
         "showlegend": true,
         "type": "scatter",
         "x": [
          "Jan",
          "Feb",
          "Mar",
          "Apr",
          "May",
          "Jun",
          "Jul",
          "Aug",
          "Sep",
          "Oct",
          "Nov",
          "Dec"
         ],
         "xaxis": "x1",
         "y": [
          554,
          498,
          569,
          551,
          670,
          678,
          658,
          762,
          785,
          755,
          702,
          802
         ],
         "yaxis": "y1"
        },
        {
         "line": {
          "width": 1.5
         },
         "marker": {
          "color": "rgb(50, 171, 96)"
         },
         "mode": "lines",
         "name": "Misdemeanor",
         "showlegend": true,
         "type": "scatter",
         "x": [
          "Jan",
          "Feb",
          "Mar",
          "Apr",
          "May",
          "Jun",
          "Jul",
          "Aug",
          "Sep",
          "Oct",
          "Nov",
          "Dec"
         ],
         "xaxis": "x1",
         "y": [
          426,
          376,
          601,
          674,
          683,
          606,
          637,
          607,
          576,
          682,
          620,
          568
         ],
         "yaxis": "y1"
        },
        {
         "line": {
          "width": 1.5
         },
         "marker": {
          "color": "rgb(214, 39, 40)"
         },
         "mode": "lines",
         "name": "Vehicle theft",
         "showlegend": true,
         "type": "scatter",
         "x": [
          "Jan",
          "Feb",
          "Mar",
          "Apr",
          "May",
          "Jun",
          "Jul",
          "Aug",
          "Sep",
          "Oct",
          "Nov",
          "Dec"
         ],
         "xaxis": "x1",
         "y": [
          354,
          294,
          362,
          296,
          313,
          275,
          287,
          282,
          302,
          320,
          303,
          323
         ],
         "yaxis": "y1"
        },
        {
         "line": {
          "width": 1.5
         },
         "marker": {
          "color": "rgb(148, 103, 189)"
         },
         "mode": "lines",
         "name": "Robbery",
         "showlegend": true,
         "type": "scatter",
         "x": [
          "Jan",
          "Feb",
          "Mar",
          "Apr",
          "May",
          "Jun",
          "Jul",
          "Aug",
          "Sep",
          "Oct",
          "Nov",
          "Dec"
         ],
         "xaxis": "x1",
         "y": [
          144,
          115,
          142,
          153,
          127,
          86,
          124,
          129,
          140,
          138,
          162,
          149
         ],
         "yaxis": "y1"
        },
        {
         "line": {
          "width": 1.5
         },
         "marker": {
          "color": "rgb(140, 86, 75)"
         },
         "mode": "lines",
         "name": "Offenses causing death",
         "showlegend": true,
         "type": "scatter",
         "x": [
          "Jan",
          "Feb",
          "Mar",
          "Apr",
          "May",
          "Jul",
          "Sep",
          "Oct",
          "Nov",
          "Dec"
         ],
         "xaxis": "x1",
         "y": [
          1,
          5,
          1,
          2,
          4,
          2,
          2,
          2,
          2,
          4
         ],
         "yaxis": "y1"
        },
        {
         "line": {
          "width": 1.5
         },
         "marker": {
          "color": "rgb(31, 119, 180)"
         },
         "mode": "lines",
         "name": "Burglary",
         "showlegend": false,
         "type": "scatter",
         "x": [
          "Jan",
          "Feb",
          "Mar",
          "Apr",
          "May",
          "Jun",
          "Jul",
          "Aug",
          "Sep",
          "Oct",
          "Nov",
          "Dec"
         ],
         "xaxis": "x2",
         "y": [
          829,
          645,
          696,
          726,
          769,
          773,
          829,
          946,
          855,
          957,
          939,
          864
         ],
         "yaxis": "y1"
        },
        {
         "line": {
          "width": 1.5
         },
         "marker": {
          "color": "rgb(255, 127, 14)"
         },
         "mode": "lines",
         "name": "Vehicle contents or parts theft",
         "showlegend": false,
         "type": "scatter",
         "x": [
          "Jan",
          "Feb",
          "Mar",
          "Apr",
          "May",
          "Jun",
          "Jul",
          "Aug",
          "Sep",
          "Oct",
          "Nov",
          "Dec"
         ],
         "xaxis": "x2",
         "y": [
          562,
          459,
          641,
          538,
          571,
          686,
          765,
          729,
          738,
          722,
          642,
          638
         ],
         "yaxis": "y1"
        },
        {
         "line": {
          "width": 1.5
         },
         "marker": {
          "color": "rgb(50, 171, 96)"
         },
         "mode": "lines",
         "name": "Misdemeanor",
         "showlegend": false,
         "type": "scatter",
         "x": [
          "Jan",
          "Feb",
          "Mar",
          "Apr",
          "May",
          "Jun",
          "Jul",
          "Aug",
          "Sep",
          "Oct",
          "Nov",
          "Dec"
         ],
         "xaxis": "x2",
         "y": [
          421,
          403,
          496,
          630,
          605,
          530,
          579,
          610,
          507,
          539,
          503,
          429
         ],
         "yaxis": "y1"
        },
        {
         "line": {
          "width": 1.5
         },
         "marker": {
          "color": "rgb(214, 39, 40)"
         },
         "mode": "lines",
         "name": "Vehicle theft",
         "showlegend": false,
         "type": "scatter",
         "x": [
          "Jan",
          "Feb",
          "Mar",
          "Apr",
          "May",
          "Jun",
          "Jul",
          "Aug",
          "Sep",
          "Oct",
          "Nov",
          "Dec"
         ],
         "xaxis": "x2",
         "y": [
          323,
          300,
          285,
          286,
          286,
          342,
          309,
          344,
          311,
          330,
          294,
          292
         ],
         "yaxis": "y1"
        },
        {
         "line": {
          "width": 1.5
         },
         "marker": {
          "color": "rgb(148, 103, 189)"
         },
         "mode": "lines",
         "name": "Robbery",
         "showlegend": false,
         "type": "scatter",
         "x": [
          "Jan",
          "Feb",
          "Mar",
          "Apr",
          "May",
          "Jun",
          "Jul",
          "Aug",
          "Sep",
          "Oct",
          "Nov",
          "Dec"
         ],
         "xaxis": "x2",
         "y": [
          153,
          146,
          128,
          127,
          128,
          92,
          117,
          109,
          101,
          151,
          121,
          156
         ],
         "yaxis": "y1"
        },
        {
         "line": {
          "width": 1.5
         },
         "marker": {
          "color": "rgb(140, 86, 75)"
         },
         "mode": "lines",
         "name": "Offenses causing death",
         "showlegend": false,
         "type": "scatter",
         "x": [
          "Jan",
          "Mar",
          "Apr",
          "Jun",
          "Jul",
          "Aug",
          "Sep",
          "Oct",
          "Nov",
          "Dec"
         ],
         "xaxis": "x2",
         "y": [
          1,
          1,
          2,
          4,
          1,
          2,
          3,
          3,
          3,
          2
         ],
         "yaxis": "y1"
        },
        {
         "line": {
          "width": 1.5
         },
         "marker": {
          "color": "rgb(31, 119, 180)"
         },
         "mode": "lines",
         "name": "Burglary",
         "showlegend": false,
         "type": "scatter",
         "x": [
          "Jan",
          "Feb",
          "Mar",
          "Apr",
          "May",
          "Jun",
          "Jul",
          "Aug",
          "Sep",
          "Oct",
          "Nov",
          "Dec"
         ],
         "xaxis": "x3",
         "y": [
          917,
          629,
          737,
          698,
          700,
          738,
          736,
          875,
          799,
          852,
          870,
          681
         ],
         "yaxis": "y1"
        },
        {
         "line": {
          "width": 1.5
         },
         "marker": {
          "color": "rgb(255, 127, 14)"
         },
         "mode": "lines",
         "name": "Vehicle contents or parts theft",
         "showlegend": false,
         "type": "scatter",
         "x": [
          "Jan",
          "Feb",
          "Mar",
          "Apr",
          "May",
          "Jun",
          "Jul",
          "Aug",
          "Sep",
          "Oct",
          "Nov",
          "Dec"
         ],
         "xaxis": "x3",
         "y": [
          512,
          462,
          554,
          571,
          562,
          598,
          672,
          721,
          619,
          694,
          663,
          551
         ],
         "yaxis": "y1"
        },
        {
         "line": {
          "width": 1.5
         },
         "marker": {
          "color": "rgb(50, 171, 96)"
         },
         "mode": "lines",
         "name": "Misdemeanor",
         "showlegend": false,
         "type": "scatter",
         "x": [
          "Jan",
          "Feb",
          "Mar",
          "Apr",
          "May",
          "Jun",
          "Jul",
          "Aug",
          "Sep",
          "Oct",
          "Nov",
          "Dec"
         ],
         "xaxis": "x3",
         "y": [
          438,
          437,
          513,
          618,
          558,
          583,
          608,
          578,
          475,
          544,
          453,
          361
         ],
         "yaxis": "y1"
        },
        {
         "line": {
          "width": 1.5
         },
         "marker": {
          "color": "rgb(214, 39, 40)"
         },
         "mode": "lines",
         "name": "Vehicle theft",
         "showlegend": false,
         "type": "scatter",
         "x": [
          "Jan",
          "Feb",
          "Mar",
          "Apr",
          "May",
          "Jun",
          "Jul",
          "Aug",
          "Sep",
          "Oct",
          "Nov",
          "Dec"
         ],
         "xaxis": "x3",
         "y": [
          316,
          304,
          315,
          295,
          317,
          336,
          363,
          382,
          334,
          373,
          396,
          319
         ],
         "yaxis": "y1"
        },
        {
         "line": {
          "width": 1.5
         },
         "marker": {
          "color": "rgb(148, 103, 189)"
         },
         "mode": "lines",
         "name": "Robbery",
         "showlegend": false,
         "type": "scatter",
         "x": [
          "Jan",
          "Feb",
          "Mar",
          "Apr",
          "May",
          "Jun",
          "Jul",
          "Aug",
          "Sep",
          "Oct",
          "Nov",
          "Dec"
         ],
         "xaxis": "x3",
         "y": [
          147,
          102,
          146,
          121,
          99,
          114,
          123,
          127,
          122,
          128,
          120,
          111
         ],
         "yaxis": "y1"
        },
        {
         "line": {
          "width": 1.5
         },
         "marker": {
          "color": "rgb(140, 86, 75)"
         },
         "mode": "lines",
         "name": "Offenses causing death",
         "showlegend": false,
         "type": "scatter",
         "x": [
          "Jan",
          "Feb",
          "Mar",
          "May",
          "Jul",
          "Aug",
          "Sep",
          "Oct",
          "Nov",
          "Dec"
         ],
         "xaxis": "x3",
         "y": [
          2,
          1,
          2,
          4,
          2,
          3,
          1,
          3,
          2,
          1
         ],
         "yaxis": "y1"
        }
       ],
       "layout": {
        "annotations": [
         {
          "font": {
           "size": 12
          },
          "showarrow": false,
          "text": "<b>2015</b>",
          "x": 0.15000000000000002,
          "xanchor": "center",
          "xref": "paper",
          "y": 1.07,
          "yanchor": "bottom",
          "yref": "paper"
         },
         {
          "font": {
           "size": 12
          },
          "showarrow": false,
          "text": "<b>2016</b>",
          "x": 0.5,
          "xanchor": "center",
          "xref": "paper",
          "y": 1.07,
          "yanchor": "bottom",
          "yref": "paper"
         },
         {
          "font": {
           "size": 12
          },
          "showarrow": false,
          "text": "<b>2017</b>",
          "x": 0.8500000000000001,
          "xanchor": "center",
          "xref": "paper",
          "y": 1.07,
          "yanchor": "bottom",
          "yref": "paper"
         }
        ],
        "autosize": false,
        "height": 420,
        "legend": {
         "orientation": "h"
        },
        "paper_bgcolor": "rgba(245, 246, 249, 1)",
        "plot_bgcolor": "rgba(245, 246, 249, 1)",
        "showlegend": true,
        "title": "<b>Crime Incidents Trends: 2015 - 2017</b>",
        "titlefont": {
         "size": 14
        },
        "width": 950,
        "xaxis1": {
         "anchor": "y1",
         "domain": [
          0,
          0.3
         ],
         "showgrid": false,
         "tickangle": 35,
         "tickfont": {
          "color": "rgb(107, 107, 107)",
          "size": 10
         },
         "titlefont": {
          "color": "rgb(107, 107, 107)",
          "size": 11
         }
        },
        "xaxis2": {
         "anchor": "free",
         "domain": [
          0.35,
          0.6499999999999999
         ],
         "position": 0,
         "showgrid": false,
         "tickangle": 35,
         "tickfont": {
          "color": "rgb(107, 107, 107)",
          "size": 10
         },
         "titlefont": {
          "color": "rgb(107, 107, 107)",
          "size": 11
         }
        },
        "xaxis3": {
         "anchor": "free",
         "domain": [
          0.7,
          1
         ],
         "position": 0,
         "showgrid": false,
         "tickangle": 35,
         "tickfont": {
          "color": "rgb(107, 107, 107)",
          "size": 10
         },
         "titlefont": {
          "color": "rgb(107, 107, 107)",
          "size": 11
         }
        },
        "yaxis1": {
         "anchor": "x1",
         "domain": [
          0,
          1
         ],
         "range": [
          0,
          1000
         ],
         "showgrid": true,
         "tickfont": {
          "color": "rgb(107, 107, 107)",
          "size": 10
         },
         "title": "Crime Incident",
         "titlefont": {
          "color": "rgb(107, 107, 107)",
          "size": 11
         }
        },
        "yaxis2": {
         "range": [
          0,
          1000
         ],
         "showgrid": true,
         "tickfont": {
          "color": "rgb(107, 107, 107)",
          "size": 10
         },
         "title": "Crime Incident",
         "titlefont": {
          "color": "rgb(107, 107, 107)",
          "size": 11
         }
        },
        "yaxis3": {
         "range": [
          0,
          1000
         ],
         "showgrid": true,
         "tickfont": {
          "color": "rgb(107, 107, 107)",
          "size": 10
         },
         "title": "Crime Incident",
         "titlefont": {
          "color": "rgb(107, 107, 107)",
          "size": 11
         }
        }
       }
      },
      "text/html": [
       "<div id=\"d83f75e5-34fb-43e4-8025-da25a91864c5\" style=\"height: 420px; width: 950px;\" class=\"plotly-graph-div\"></div><script type=\"text/javascript\">require([\"plotly\"], function(Plotly) { window.PLOTLYENV=window.PLOTLYENV || {};window.PLOTLYENV.BASE_URL=\"https://plot.ly\";Plotly.newPlot(\"d83f75e5-34fb-43e4-8025-da25a91864c5\", [{\"type\": \"scatter\", \"x\": [\"Jan\", \"Feb\", \"Mar\", \"Apr\", \"May\", \"Jun\", \"Jul\", \"Aug\", \"Sep\", \"Oct\", \"Nov\", \"Dec\"], \"y\": [760, 771, 795, 711, 762, 773, 810, 841, 831, 912, 937, 900], \"mode\": \"lines\", \"marker\": {\"color\": \"rgb(31, 119, 180)\"}, \"line\": {\"width\": 1.5}, \"showlegend\": true, \"name\": \"Burglary\", \"xaxis\": \"x1\", \"yaxis\": \"y1\"}, {\"type\": \"scatter\", \"x\": [\"Jan\", \"Feb\", \"Mar\", \"Apr\", \"May\", \"Jun\", \"Jul\", \"Aug\", \"Sep\", \"Oct\", \"Nov\", \"Dec\"], \"y\": [554, 498, 569, 551, 670, 678, 658, 762, 785, 755, 702, 802], \"mode\": \"lines\", \"marker\": {\"color\": \"rgb(255, 127, 14)\"}, \"line\": {\"width\": 1.5}, \"showlegend\": true, \"name\": \"Vehicle contents or parts theft\", \"xaxis\": \"x1\", \"yaxis\": \"y1\"}, {\"type\": \"scatter\", \"x\": [\"Jan\", \"Feb\", \"Mar\", \"Apr\", \"May\", \"Jun\", \"Jul\", \"Aug\", \"Sep\", \"Oct\", \"Nov\", \"Dec\"], \"y\": [426, 376, 601, 674, 683, 606, 637, 607, 576, 682, 620, 568], \"mode\": \"lines\", \"marker\": {\"color\": \"rgb(50, 171, 96)\"}, \"line\": {\"width\": 1.5}, \"showlegend\": true, \"name\": \"Misdemeanor\", \"xaxis\": \"x1\", \"yaxis\": \"y1\"}, {\"type\": \"scatter\", \"x\": [\"Jan\", \"Feb\", \"Mar\", \"Apr\", \"May\", \"Jun\", \"Jul\", \"Aug\", \"Sep\", \"Oct\", \"Nov\", \"Dec\"], \"y\": [354, 294, 362, 296, 313, 275, 287, 282, 302, 320, 303, 323], \"mode\": \"lines\", \"marker\": {\"color\": \"rgb(214, 39, 40)\"}, \"line\": {\"width\": 1.5}, \"showlegend\": true, \"name\": \"Vehicle theft\", \"xaxis\": \"x1\", \"yaxis\": \"y1\"}, {\"type\": \"scatter\", \"x\": [\"Jan\", \"Feb\", \"Mar\", \"Apr\", \"May\", \"Jun\", \"Jul\", \"Aug\", \"Sep\", \"Oct\", \"Nov\", \"Dec\"], \"y\": [144, 115, 142, 153, 127, 86, 124, 129, 140, 138, 162, 149], \"mode\": \"lines\", \"marker\": {\"color\": \"rgb(148, 103, 189)\"}, \"line\": {\"width\": 1.5}, \"showlegend\": true, \"name\": \"Robbery\", \"xaxis\": \"x1\", \"yaxis\": \"y1\"}, {\"type\": \"scatter\", \"x\": [\"Jan\", \"Feb\", \"Mar\", \"Apr\", \"May\", \"Jul\", \"Sep\", \"Oct\", \"Nov\", \"Dec\"], \"y\": [1, 5, 1, 2, 4, 2, 2, 2, 2, 4], \"mode\": \"lines\", \"marker\": {\"color\": \"rgb(140, 86, 75)\"}, \"line\": {\"width\": 1.5}, \"showlegend\": true, \"name\": \"Offenses causing death\", \"xaxis\": \"x1\", \"yaxis\": \"y1\"}, {\"type\": \"scatter\", \"x\": [\"Jan\", \"Feb\", \"Mar\", \"Apr\", \"May\", \"Jun\", \"Jul\", \"Aug\", \"Sep\", \"Oct\", \"Nov\", \"Dec\"], \"y\": [829, 645, 696, 726, 769, 773, 829, 946, 855, 957, 939, 864], \"mode\": \"lines\", \"marker\": {\"color\": \"rgb(31, 119, 180)\"}, \"line\": {\"width\": 1.5}, \"showlegend\": false, \"name\": \"Burglary\", \"xaxis\": \"x2\", \"yaxis\": \"y1\"}, {\"type\": \"scatter\", \"x\": [\"Jan\", \"Feb\", \"Mar\", \"Apr\", \"May\", \"Jun\", \"Jul\", \"Aug\", \"Sep\", \"Oct\", \"Nov\", \"Dec\"], \"y\": [562, 459, 641, 538, 571, 686, 765, 729, 738, 722, 642, 638], \"mode\": \"lines\", \"marker\": {\"color\": \"rgb(255, 127, 14)\"}, \"line\": {\"width\": 1.5}, \"showlegend\": false, \"name\": \"Vehicle contents or parts theft\", \"xaxis\": \"x2\", \"yaxis\": \"y1\"}, {\"type\": \"scatter\", \"x\": [\"Jan\", \"Feb\", \"Mar\", \"Apr\", \"May\", \"Jun\", \"Jul\", \"Aug\", \"Sep\", \"Oct\", \"Nov\", \"Dec\"], \"y\": [421, 403, 496, 630, 605, 530, 579, 610, 507, 539, 503, 429], \"mode\": \"lines\", \"marker\": {\"color\": \"rgb(50, 171, 96)\"}, \"line\": {\"width\": 1.5}, \"showlegend\": false, \"name\": \"Misdemeanor\", \"xaxis\": \"x2\", \"yaxis\": \"y1\"}, {\"type\": \"scatter\", \"x\": [\"Jan\", \"Feb\", \"Mar\", \"Apr\", \"May\", \"Jun\", \"Jul\", \"Aug\", \"Sep\", \"Oct\", \"Nov\", \"Dec\"], \"y\": [323, 300, 285, 286, 286, 342, 309, 344, 311, 330, 294, 292], \"mode\": \"lines\", \"marker\": {\"color\": \"rgb(214, 39, 40)\"}, \"line\": {\"width\": 1.5}, \"showlegend\": false, \"name\": \"Vehicle theft\", \"xaxis\": \"x2\", \"yaxis\": \"y1\"}, {\"type\": \"scatter\", \"x\": [\"Jan\", \"Feb\", \"Mar\", \"Apr\", \"May\", \"Jun\", \"Jul\", \"Aug\", \"Sep\", \"Oct\", \"Nov\", \"Dec\"], \"y\": [153, 146, 128, 127, 128, 92, 117, 109, 101, 151, 121, 156], \"mode\": \"lines\", \"marker\": {\"color\": \"rgb(148, 103, 189)\"}, \"line\": {\"width\": 1.5}, \"showlegend\": false, \"name\": \"Robbery\", \"xaxis\": \"x2\", \"yaxis\": \"y1\"}, {\"type\": \"scatter\", \"x\": [\"Jan\", \"Mar\", \"Apr\", \"Jun\", \"Jul\", \"Aug\", \"Sep\", \"Oct\", \"Nov\", \"Dec\"], \"y\": [1, 1, 2, 4, 1, 2, 3, 3, 3, 2], \"mode\": \"lines\", \"marker\": {\"color\": \"rgb(140, 86, 75)\"}, \"line\": {\"width\": 1.5}, \"showlegend\": false, \"name\": \"Offenses causing death\", \"xaxis\": \"x2\", \"yaxis\": \"y1\"}, {\"type\": \"scatter\", \"x\": [\"Jan\", \"Feb\", \"Mar\", \"Apr\", \"May\", \"Jun\", \"Jul\", \"Aug\", \"Sep\", \"Oct\", \"Nov\", \"Dec\"], \"y\": [917, 629, 737, 698, 700, 738, 736, 875, 799, 852, 870, 681], \"mode\": \"lines\", \"marker\": {\"color\": \"rgb(31, 119, 180)\"}, \"line\": {\"width\": 1.5}, \"showlegend\": false, \"name\": \"Burglary\", \"xaxis\": \"x3\", \"yaxis\": \"y1\"}, {\"type\": \"scatter\", \"x\": [\"Jan\", \"Feb\", \"Mar\", \"Apr\", \"May\", \"Jun\", \"Jul\", \"Aug\", \"Sep\", \"Oct\", \"Nov\", \"Dec\"], \"y\": [512, 462, 554, 571, 562, 598, 672, 721, 619, 694, 663, 551], \"mode\": \"lines\", \"marker\": {\"color\": \"rgb(255, 127, 14)\"}, \"line\": {\"width\": 1.5}, \"showlegend\": false, \"name\": \"Vehicle contents or parts theft\", \"xaxis\": \"x3\", \"yaxis\": \"y1\"}, {\"type\": \"scatter\", \"x\": [\"Jan\", \"Feb\", \"Mar\", \"Apr\", \"May\", \"Jun\", \"Jul\", \"Aug\", \"Sep\", \"Oct\", \"Nov\", \"Dec\"], \"y\": [438, 437, 513, 618, 558, 583, 608, 578, 475, 544, 453, 361], \"mode\": \"lines\", \"marker\": {\"color\": \"rgb(50, 171, 96)\"}, \"line\": {\"width\": 1.5}, \"showlegend\": false, \"name\": \"Misdemeanor\", \"xaxis\": \"x3\", \"yaxis\": \"y1\"}, {\"type\": \"scatter\", \"x\": [\"Jan\", \"Feb\", \"Mar\", \"Apr\", \"May\", \"Jun\", \"Jul\", \"Aug\", \"Sep\", \"Oct\", \"Nov\", \"Dec\"], \"y\": [316, 304, 315, 295, 317, 336, 363, 382, 334, 373, 396, 319], \"mode\": \"lines\", \"marker\": {\"color\": \"rgb(214, 39, 40)\"}, \"line\": {\"width\": 1.5}, \"showlegend\": false, \"name\": \"Vehicle theft\", \"xaxis\": \"x3\", \"yaxis\": \"y1\"}, {\"type\": \"scatter\", \"x\": [\"Jan\", \"Feb\", \"Mar\", \"Apr\", \"May\", \"Jun\", \"Jul\", \"Aug\", \"Sep\", \"Oct\", \"Nov\", \"Dec\"], \"y\": [147, 102, 146, 121, 99, 114, 123, 127, 122, 128, 120, 111], \"mode\": \"lines\", \"marker\": {\"color\": \"rgb(148, 103, 189)\"}, \"line\": {\"width\": 1.5}, \"showlegend\": false, \"name\": \"Robbery\", \"xaxis\": \"x3\", \"yaxis\": \"y1\"}, {\"type\": \"scatter\", \"x\": [\"Jan\", \"Feb\", \"Mar\", \"May\", \"Jul\", \"Aug\", \"Sep\", \"Oct\", \"Nov\", \"Dec\"], \"y\": [2, 1, 2, 4, 2, 3, 1, 3, 2, 1], \"mode\": \"lines\", \"marker\": {\"color\": \"rgb(140, 86, 75)\"}, \"line\": {\"width\": 1.5}, \"showlegend\": false, \"name\": \"Offenses causing death\", \"xaxis\": \"x3\", \"yaxis\": \"y1\"}], {\"xaxis1\": {\"domain\": [0.0, 0.3], \"anchor\": \"y1\", \"titlefont\": {\"size\": 11, \"color\": \"rgb(107, 107, 107)\"}, \"tickfont\": {\"size\": 10, \"color\": \"rgb(107, 107, 107)\"}, \"tickangle\": 35, \"showgrid\": false}, \"yaxis1\": {\"domain\": [0.0, 1.0], \"anchor\": \"x1\", \"title\": \"Crime Incident\", \"titlefont\": {\"size\": 11, \"color\": \"rgb(107, 107, 107)\"}, \"tickfont\": {\"size\": 10, \"color\": \"rgb(107, 107, 107)\"}, \"range\": [0, 1000], \"showgrid\": true}, \"xaxis2\": {\"domain\": [0.35, 0.6499999999999999], \"anchor\": \"free\", \"position\": 0.0, \"titlefont\": {\"size\": 11, \"color\": \"rgb(107, 107, 107)\"}, \"tickfont\": {\"size\": 10, \"color\": \"rgb(107, 107, 107)\"}, \"tickangle\": 35, \"showgrid\": false}, \"xaxis3\": {\"domain\": [0.7, 1.0], \"anchor\": \"free\", \"position\": 0.0, \"titlefont\": {\"size\": 11, \"color\": \"rgb(107, 107, 107)\"}, \"tickfont\": {\"size\": 10, \"color\": \"rgb(107, 107, 107)\"}, \"tickangle\": 35, \"showgrid\": false}, \"annotations\": [{\"y\": 1.07, \"xref\": \"paper\", \"x\": 0.15000000000000002, \"yref\": \"paper\", \"text\": \"<b>2015</b>\", \"showarrow\": false, \"font\": {\"size\": 12}, \"xanchor\": \"center\", \"yanchor\": \"bottom\"}, {\"y\": 1.07, \"xref\": \"paper\", \"x\": 0.5, \"yref\": \"paper\", \"text\": \"<b>2016</b>\", \"showarrow\": false, \"font\": {\"size\": 12}, \"xanchor\": \"center\", \"yanchor\": \"bottom\"}, {\"y\": 1.07, \"xref\": \"paper\", \"x\": 0.8500000000000001, \"yref\": \"paper\", \"text\": \"<b>2017</b>\", \"showarrow\": false, \"font\": {\"size\": 12}, \"xanchor\": \"center\", \"yanchor\": \"bottom\"}], \"legend\": {\"orientation\": \"h\"}, \"yaxis2\": {\"title\": \"Crime Incident\", \"titlefont\": {\"size\": 11, \"color\": \"rgb(107, 107, 107)\"}, \"tickfont\": {\"size\": 10, \"color\": \"rgb(107, 107, 107)\"}, \"range\": [0, 1000], \"showgrid\": true}, \"yaxis3\": {\"title\": \"Crime Incident\", \"titlefont\": {\"size\": 11, \"color\": \"rgb(107, 107, 107)\"}, \"tickfont\": {\"size\": 10, \"color\": \"rgb(107, 107, 107)\"}, \"range\": [0, 1000], \"showgrid\": true}, \"height\": 420, \"width\": 950, \"showlegend\": true, \"autosize\": false, \"title\": \"<b>Crime Incidents Trends: 2015 - 2017</b>\", \"titlefont\": {\"size\": 14}, \"paper_bgcolor\": \"rgba(245, 246, 249, 1)\", \"plot_bgcolor\": \"rgba(245, 246, 249, 1)\"}, {\"showLink\": true, \"linkText\": \"Export to plot.ly\"})});</script>"
      ],
      "text/vnd.plotly.v1+html": [
       "<div id=\"d83f75e5-34fb-43e4-8025-da25a91864c5\" style=\"height: 420px; width: 950px;\" class=\"plotly-graph-div\"></div><script type=\"text/javascript\">require([\"plotly\"], function(Plotly) { window.PLOTLYENV=window.PLOTLYENV || {};window.PLOTLYENV.BASE_URL=\"https://plot.ly\";Plotly.newPlot(\"d83f75e5-34fb-43e4-8025-da25a91864c5\", [{\"type\": \"scatter\", \"x\": [\"Jan\", \"Feb\", \"Mar\", \"Apr\", \"May\", \"Jun\", \"Jul\", \"Aug\", \"Sep\", \"Oct\", \"Nov\", \"Dec\"], \"y\": [760, 771, 795, 711, 762, 773, 810, 841, 831, 912, 937, 900], \"mode\": \"lines\", \"marker\": {\"color\": \"rgb(31, 119, 180)\"}, \"line\": {\"width\": 1.5}, \"showlegend\": true, \"name\": \"Burglary\", \"xaxis\": \"x1\", \"yaxis\": \"y1\"}, {\"type\": \"scatter\", \"x\": [\"Jan\", \"Feb\", \"Mar\", \"Apr\", \"May\", \"Jun\", \"Jul\", \"Aug\", \"Sep\", \"Oct\", \"Nov\", \"Dec\"], \"y\": [554, 498, 569, 551, 670, 678, 658, 762, 785, 755, 702, 802], \"mode\": \"lines\", \"marker\": {\"color\": \"rgb(255, 127, 14)\"}, \"line\": {\"width\": 1.5}, \"showlegend\": true, \"name\": \"Vehicle contents or parts theft\", \"xaxis\": \"x1\", \"yaxis\": \"y1\"}, {\"type\": \"scatter\", \"x\": [\"Jan\", \"Feb\", \"Mar\", \"Apr\", \"May\", \"Jun\", \"Jul\", \"Aug\", \"Sep\", \"Oct\", \"Nov\", \"Dec\"], \"y\": [426, 376, 601, 674, 683, 606, 637, 607, 576, 682, 620, 568], \"mode\": \"lines\", \"marker\": {\"color\": \"rgb(50, 171, 96)\"}, \"line\": {\"width\": 1.5}, \"showlegend\": true, \"name\": \"Misdemeanor\", \"xaxis\": \"x1\", \"yaxis\": \"y1\"}, {\"type\": \"scatter\", \"x\": [\"Jan\", \"Feb\", \"Mar\", \"Apr\", \"May\", \"Jun\", \"Jul\", \"Aug\", \"Sep\", \"Oct\", \"Nov\", \"Dec\"], \"y\": [354, 294, 362, 296, 313, 275, 287, 282, 302, 320, 303, 323], \"mode\": \"lines\", \"marker\": {\"color\": \"rgb(214, 39, 40)\"}, \"line\": {\"width\": 1.5}, \"showlegend\": true, \"name\": \"Vehicle theft\", \"xaxis\": \"x1\", \"yaxis\": \"y1\"}, {\"type\": \"scatter\", \"x\": [\"Jan\", \"Feb\", \"Mar\", \"Apr\", \"May\", \"Jun\", \"Jul\", \"Aug\", \"Sep\", \"Oct\", \"Nov\", \"Dec\"], \"y\": [144, 115, 142, 153, 127, 86, 124, 129, 140, 138, 162, 149], \"mode\": \"lines\", \"marker\": {\"color\": \"rgb(148, 103, 189)\"}, \"line\": {\"width\": 1.5}, \"showlegend\": true, \"name\": \"Robbery\", \"xaxis\": \"x1\", \"yaxis\": \"y1\"}, {\"type\": \"scatter\", \"x\": [\"Jan\", \"Feb\", \"Mar\", \"Apr\", \"May\", \"Jul\", \"Sep\", \"Oct\", \"Nov\", \"Dec\"], \"y\": [1, 5, 1, 2, 4, 2, 2, 2, 2, 4], \"mode\": \"lines\", \"marker\": {\"color\": \"rgb(140, 86, 75)\"}, \"line\": {\"width\": 1.5}, \"showlegend\": true, \"name\": \"Offenses causing death\", \"xaxis\": \"x1\", \"yaxis\": \"y1\"}, {\"type\": \"scatter\", \"x\": [\"Jan\", \"Feb\", \"Mar\", \"Apr\", \"May\", \"Jun\", \"Jul\", \"Aug\", \"Sep\", \"Oct\", \"Nov\", \"Dec\"], \"y\": [829, 645, 696, 726, 769, 773, 829, 946, 855, 957, 939, 864], \"mode\": \"lines\", \"marker\": {\"color\": \"rgb(31, 119, 180)\"}, \"line\": {\"width\": 1.5}, \"showlegend\": false, \"name\": \"Burglary\", \"xaxis\": \"x2\", \"yaxis\": \"y1\"}, {\"type\": \"scatter\", \"x\": [\"Jan\", \"Feb\", \"Mar\", \"Apr\", \"May\", \"Jun\", \"Jul\", \"Aug\", \"Sep\", \"Oct\", \"Nov\", \"Dec\"], \"y\": [562, 459, 641, 538, 571, 686, 765, 729, 738, 722, 642, 638], \"mode\": \"lines\", \"marker\": {\"color\": \"rgb(255, 127, 14)\"}, \"line\": {\"width\": 1.5}, \"showlegend\": false, \"name\": \"Vehicle contents or parts theft\", \"xaxis\": \"x2\", \"yaxis\": \"y1\"}, {\"type\": \"scatter\", \"x\": [\"Jan\", \"Feb\", \"Mar\", \"Apr\", \"May\", \"Jun\", \"Jul\", \"Aug\", \"Sep\", \"Oct\", \"Nov\", \"Dec\"], \"y\": [421, 403, 496, 630, 605, 530, 579, 610, 507, 539, 503, 429], \"mode\": \"lines\", \"marker\": {\"color\": \"rgb(50, 171, 96)\"}, \"line\": {\"width\": 1.5}, \"showlegend\": false, \"name\": \"Misdemeanor\", \"xaxis\": \"x2\", \"yaxis\": \"y1\"}, {\"type\": \"scatter\", \"x\": [\"Jan\", \"Feb\", \"Mar\", \"Apr\", \"May\", \"Jun\", \"Jul\", \"Aug\", \"Sep\", \"Oct\", \"Nov\", \"Dec\"], \"y\": [323, 300, 285, 286, 286, 342, 309, 344, 311, 330, 294, 292], \"mode\": \"lines\", \"marker\": {\"color\": \"rgb(214, 39, 40)\"}, \"line\": {\"width\": 1.5}, \"showlegend\": false, \"name\": \"Vehicle theft\", \"xaxis\": \"x2\", \"yaxis\": \"y1\"}, {\"type\": \"scatter\", \"x\": [\"Jan\", \"Feb\", \"Mar\", \"Apr\", \"May\", \"Jun\", \"Jul\", \"Aug\", \"Sep\", \"Oct\", \"Nov\", \"Dec\"], \"y\": [153, 146, 128, 127, 128, 92, 117, 109, 101, 151, 121, 156], \"mode\": \"lines\", \"marker\": {\"color\": \"rgb(148, 103, 189)\"}, \"line\": {\"width\": 1.5}, \"showlegend\": false, \"name\": \"Robbery\", \"xaxis\": \"x2\", \"yaxis\": \"y1\"}, {\"type\": \"scatter\", \"x\": [\"Jan\", \"Mar\", \"Apr\", \"Jun\", \"Jul\", \"Aug\", \"Sep\", \"Oct\", \"Nov\", \"Dec\"], \"y\": [1, 1, 2, 4, 1, 2, 3, 3, 3, 2], \"mode\": \"lines\", \"marker\": {\"color\": \"rgb(140, 86, 75)\"}, \"line\": {\"width\": 1.5}, \"showlegend\": false, \"name\": \"Offenses causing death\", \"xaxis\": \"x2\", \"yaxis\": \"y1\"}, {\"type\": \"scatter\", \"x\": [\"Jan\", \"Feb\", \"Mar\", \"Apr\", \"May\", \"Jun\", \"Jul\", \"Aug\", \"Sep\", \"Oct\", \"Nov\", \"Dec\"], \"y\": [917, 629, 737, 698, 700, 738, 736, 875, 799, 852, 870, 681], \"mode\": \"lines\", \"marker\": {\"color\": \"rgb(31, 119, 180)\"}, \"line\": {\"width\": 1.5}, \"showlegend\": false, \"name\": \"Burglary\", \"xaxis\": \"x3\", \"yaxis\": \"y1\"}, {\"type\": \"scatter\", \"x\": [\"Jan\", \"Feb\", \"Mar\", \"Apr\", \"May\", \"Jun\", \"Jul\", \"Aug\", \"Sep\", \"Oct\", \"Nov\", \"Dec\"], \"y\": [512, 462, 554, 571, 562, 598, 672, 721, 619, 694, 663, 551], \"mode\": \"lines\", \"marker\": {\"color\": \"rgb(255, 127, 14)\"}, \"line\": {\"width\": 1.5}, \"showlegend\": false, \"name\": \"Vehicle contents or parts theft\", \"xaxis\": \"x3\", \"yaxis\": \"y1\"}, {\"type\": \"scatter\", \"x\": [\"Jan\", \"Feb\", \"Mar\", \"Apr\", \"May\", \"Jun\", \"Jul\", \"Aug\", \"Sep\", \"Oct\", \"Nov\", \"Dec\"], \"y\": [438, 437, 513, 618, 558, 583, 608, 578, 475, 544, 453, 361], \"mode\": \"lines\", \"marker\": {\"color\": \"rgb(50, 171, 96)\"}, \"line\": {\"width\": 1.5}, \"showlegend\": false, \"name\": \"Misdemeanor\", \"xaxis\": \"x3\", \"yaxis\": \"y1\"}, {\"type\": \"scatter\", \"x\": [\"Jan\", \"Feb\", \"Mar\", \"Apr\", \"May\", \"Jun\", \"Jul\", \"Aug\", \"Sep\", \"Oct\", \"Nov\", \"Dec\"], \"y\": [316, 304, 315, 295, 317, 336, 363, 382, 334, 373, 396, 319], \"mode\": \"lines\", \"marker\": {\"color\": \"rgb(214, 39, 40)\"}, \"line\": {\"width\": 1.5}, \"showlegend\": false, \"name\": \"Vehicle theft\", \"xaxis\": \"x3\", \"yaxis\": \"y1\"}, {\"type\": \"scatter\", \"x\": [\"Jan\", \"Feb\", \"Mar\", \"Apr\", \"May\", \"Jun\", \"Jul\", \"Aug\", \"Sep\", \"Oct\", \"Nov\", \"Dec\"], \"y\": [147, 102, 146, 121, 99, 114, 123, 127, 122, 128, 120, 111], \"mode\": \"lines\", \"marker\": {\"color\": \"rgb(148, 103, 189)\"}, \"line\": {\"width\": 1.5}, \"showlegend\": false, \"name\": \"Robbery\", \"xaxis\": \"x3\", \"yaxis\": \"y1\"}, {\"type\": \"scatter\", \"x\": [\"Jan\", \"Feb\", \"Mar\", \"May\", \"Jul\", \"Aug\", \"Sep\", \"Oct\", \"Nov\", \"Dec\"], \"y\": [2, 1, 2, 4, 2, 3, 1, 3, 2, 1], \"mode\": \"lines\", \"marker\": {\"color\": \"rgb(140, 86, 75)\"}, \"line\": {\"width\": 1.5}, \"showlegend\": false, \"name\": \"Offenses causing death\", \"xaxis\": \"x3\", \"yaxis\": \"y1\"}], {\"xaxis1\": {\"domain\": [0.0, 0.3], \"anchor\": \"y1\", \"titlefont\": {\"size\": 11, \"color\": \"rgb(107, 107, 107)\"}, \"tickfont\": {\"size\": 10, \"color\": \"rgb(107, 107, 107)\"}, \"tickangle\": 35, \"showgrid\": false}, \"yaxis1\": {\"domain\": [0.0, 1.0], \"anchor\": \"x1\", \"title\": \"Crime Incident\", \"titlefont\": {\"size\": 11, \"color\": \"rgb(107, 107, 107)\"}, \"tickfont\": {\"size\": 10, \"color\": \"rgb(107, 107, 107)\"}, \"range\": [0, 1000], \"showgrid\": true}, \"xaxis2\": {\"domain\": [0.35, 0.6499999999999999], \"anchor\": \"free\", \"position\": 0.0, \"titlefont\": {\"size\": 11, \"color\": \"rgb(107, 107, 107)\"}, \"tickfont\": {\"size\": 10, \"color\": \"rgb(107, 107, 107)\"}, \"tickangle\": 35, \"showgrid\": false}, \"xaxis3\": {\"domain\": [0.7, 1.0], \"anchor\": \"free\", \"position\": 0.0, \"titlefont\": {\"size\": 11, \"color\": \"rgb(107, 107, 107)\"}, \"tickfont\": {\"size\": 10, \"color\": \"rgb(107, 107, 107)\"}, \"tickangle\": 35, \"showgrid\": false}, \"annotations\": [{\"y\": 1.07, \"xref\": \"paper\", \"x\": 0.15000000000000002, \"yref\": \"paper\", \"text\": \"<b>2015</b>\", \"showarrow\": false, \"font\": {\"size\": 12}, \"xanchor\": \"center\", \"yanchor\": \"bottom\"}, {\"y\": 1.07, \"xref\": \"paper\", \"x\": 0.5, \"yref\": \"paper\", \"text\": \"<b>2016</b>\", \"showarrow\": false, \"font\": {\"size\": 12}, \"xanchor\": \"center\", \"yanchor\": \"bottom\"}, {\"y\": 1.07, \"xref\": \"paper\", \"x\": 0.8500000000000001, \"yref\": \"paper\", \"text\": \"<b>2017</b>\", \"showarrow\": false, \"font\": {\"size\": 12}, \"xanchor\": \"center\", \"yanchor\": \"bottom\"}], \"legend\": {\"orientation\": \"h\"}, \"yaxis2\": {\"title\": \"Crime Incident\", \"titlefont\": {\"size\": 11, \"color\": \"rgb(107, 107, 107)\"}, \"tickfont\": {\"size\": 10, \"color\": \"rgb(107, 107, 107)\"}, \"range\": [0, 1000], \"showgrid\": true}, \"yaxis3\": {\"title\": \"Crime Incident\", \"titlefont\": {\"size\": 11, \"color\": \"rgb(107, 107, 107)\"}, \"tickfont\": {\"size\": 10, \"color\": \"rgb(107, 107, 107)\"}, \"range\": [0, 1000], \"showgrid\": true}, \"height\": 420, \"width\": 950, \"showlegend\": true, \"autosize\": false, \"title\": \"<b>Crime Incidents Trends: 2015 - 2017</b>\", \"titlefont\": {\"size\": 14}, \"paper_bgcolor\": \"rgba(245, 246, 249, 1)\", \"plot_bgcolor\": \"rgba(245, 246, 249, 1)\"}, {\"showLink\": true, \"linkText\": \"Export to plot.ly\"})});</script>"
      ]
     },
     "metadata": {},
     "output_type": "display_data"
    }
   ],
   "source": [
    "# define subplots\n",
    "fig = tools.make_subplots(rows=1, cols=3, subplot_titles=([\"<b>{}</b>\".format(i) for i in yearlist]),\n",
    "    shared_yaxes=True, horizontal_spacing=(0.05), print_grid=False)\n",
    "\n",
    "# a matrix for subplot selection order\n",
    "m = np.array([1, 1, 1, 2, 1, 3]).reshape(3, 2)\n",
    "\n",
    "# define marker colors\n",
    "scattcol = ['rgb(31, 119, 180)', 'rgb(255, 127, 14)', 'rgb(50, 171, 96)',\n",
    "            'rgb(214, 39, 40)', 'rgb(148, 103, 189)', 'rgb(140, 86, 75)']\n",
    "\n",
    "# define chart data\n",
    "for i in range(3):\n",
    "    trace_list = []\n",
    "    data = mon_trend[mon_trend['YEAR'] == yearlist[i]]\n",
    "    for j in range(6):\n",
    "        tracex = go.Scatter(x=data[data['ADAPTED_CATEGORY'] == titlelist[j]]['MONTH'],\n",
    "            y=data[data['ADAPTED_CATEGORY'] == titlelist[j]]['INCIDENT_COUNT'], mode='lines',\n",
    "            marker=dict(color=scattcol[j]), line=dict(width=1.5), showlegend=False, name=titlelist[j])\n",
    "\n",
    "        if i == 0:  # show legend for only the first subplot.\n",
    "            tracex.showlegend = True\n",
    "\n",
    "        trace_list.append(tracex)\n",
    "\n",
    "        # append each subplot data definitions to the figure instance\n",
    "        fig.append_trace(trace_list[j], m[i][0], m[i][1])\n",
    "\n",
    "# define layout settings\n",
    "for i in fig['layout']['annotations']:\n",
    "    i['font'] = dict(size=12)\n",
    "    i['y'] = 1.07\n",
    "\n",
    "fig['layout']['legend'] = dict(orientation=\"h\")\n",
    "\n",
    "for i in range(1, 4):\n",
    "    fig['layout']['yaxis' + '{}'.format(i)].update(title='Crime Incident',\n",
    "        titlefont=dict(size=11, color='rgb(107, 107, 107)'), tickfont=dict(size=10, color='rgb(107, 107, 107)'),\n",
    "        range=[0, 1000], showgrid=True)\n",
    "\n",
    "    fig['layout']['xaxis' + '{}'.format(i)].update(titlefont=dict(size=11, color='rgb(107, 107, 107)'),\n",
    "        tickfont=dict(size=10, color='rgb(107, 107, 107)'), tickangle=35, showgrid=False)\n",
    "\n",
    "# update layout settings\n",
    "fig['layout'].update(height=420, width=950, showlegend=True, autosize=False,\n",
    "    title=\"<b>Crime Incidents Trends: 2015 - 2017</b>\",\n",
    "    titlefont=dict(size=14), paper_bgcolor='rgba(245, 246, 249, 1)', plot_bgcolor='rgba(245, 246, 249, 1)')\n",
    "\n",
    "iplot(fig)"
   ]
  },
  {
   "cell_type": "markdown",
   "metadata": {},
   "source": [
    "**Observations:**  \n",
    "\n",
    "*1. Apart from from few exceptions noted in certain months, almost all the crime categories exhibited the same trend patterns over the 3-years period.*  \n",
    "\n",
    "*2. Burglary recorded a significant decrease (31%) from 917 in January to 629 in February in 2017.*"
   ]
  },
  {
   "cell_type": "markdown",
   "metadata": {},
   "source": [
    "### What are the top 3 prevalent crimes or offenses committed in 2015, 2016 and 2017 in Montreal City? "
   ]
  },
  {
   "cell_type": "code",
   "execution_count": 15,
   "metadata": {},
   "outputs": [
    {
     "data": {
      "text/html": [
       "<div>\n",
       "<style scoped>\n",
       "    .dataframe tbody tr th:only-of-type {\n",
       "        vertical-align: middle;\n",
       "    }\n",
       "\n",
       "    .dataframe tbody tr th {\n",
       "        vertical-align: top;\n",
       "    }\n",
       "\n",
       "    .dataframe thead th {\n",
       "        text-align: right;\n",
       "    }\n",
       "</style>\n",
       "<table border=\"1\" class=\"dataframe\">\n",
       "  <thead>\n",
       "    <tr style=\"text-align: right;\">\n",
       "      <th>ADAPTED_CATEGORY</th>\n",
       "      <th>Burglary</th>\n",
       "      <th>Misdemeanor</th>\n",
       "      <th>Vehicle contents or parts theft</th>\n",
       "    </tr>\n",
       "    <tr>\n",
       "      <th>YEAR</th>\n",
       "      <th></th>\n",
       "      <th></th>\n",
       "      <th></th>\n",
       "    </tr>\n",
       "  </thead>\n",
       "  <tbody>\n",
       "    <tr>\n",
       "      <th>2015</th>\n",
       "      <td>9803</td>\n",
       "      <td>7056</td>\n",
       "      <td>7984</td>\n",
       "    </tr>\n",
       "    <tr>\n",
       "      <th>2016</th>\n",
       "      <td>9828</td>\n",
       "      <td>6252</td>\n",
       "      <td>7691</td>\n",
       "    </tr>\n",
       "    <tr>\n",
       "      <th>2017</th>\n",
       "      <td>9232</td>\n",
       "      <td>6166</td>\n",
       "      <td>7179</td>\n",
       "    </tr>\n",
       "  </tbody>\n",
       "</table>\n",
       "</div>"
      ],
      "text/plain": [
       "ADAPTED_CATEGORY  Burglary  Misdemeanor  Vehicle contents or parts theft\n",
       "YEAR                                                                    \n",
       "2015                  9803         7056                             7984\n",
       "2016                  9828         6252                             7691\n",
       "2017                  9232         6166                             7179"
      ]
     },
     "metadata": {},
     "output_type": "display_data"
    },
    {
     "data": {
      "application/vnd.plotly.v1+json": {
       "data": [
        {
         "cliponaxis": false,
         "hoverinfo": "text",
         "marker": {
          "color": "rgba(31, 119, 180, 0.5)",
          "line": {
           "color": "rgba(31, 119, 180, 1.0)",
           "width": 1
          }
         },
         "name": "Burglary",
         "outsidetextfont": {
          "size": "10"
         },
         "text": [
          9803,
          7984,
          7056
         ],
         "textposition": "outside",
         "type": "bar",
         "width": 0.7,
         "x": [
          "Burglary",
          "Vehicle contents or parts theft",
          "Misdemeanor"
         ],
         "xaxis": "x1",
         "y": [
          9803,
          7984,
          7056
         ],
         "yaxis": "y1"
        },
        {
         "cliponaxis": false,
         "hoverinfo": "text",
         "marker": {
          "color": "rgba(255, 127, 14, 0.5)",
          "line": {
           "color": "rgba(255, 127, 14, 1.0)",
           "width": 1
          }
         },
         "name": "Vehicle contents or parts theft",
         "outsidetextfont": {
          "size": "10"
         },
         "text": [
          9828,
          7691,
          6252
         ],
         "textposition": "outside",
         "type": "bar",
         "width": 0.7,
         "x": [
          "Burglary",
          "Vehicle contents or parts theft",
          "Misdemeanor"
         ],
         "xaxis": "x2",
         "y": [
          9828,
          7691,
          6252
         ],
         "yaxis": "y1"
        },
        {
         "cliponaxis": false,
         "hoverinfo": "text",
         "marker": {
          "color": "rgba(50, 171, 96, 0.5)",
          "line": {
           "color": "rgba(50, 171, 96, 1.0)",
           "width": 1
          }
         },
         "name": "Misdemeanor",
         "outsidetextfont": {
          "size": "10"
         },
         "text": [
          9232,
          7179,
          6166
         ],
         "textposition": "outside",
         "type": "bar",
         "width": 0.7,
         "x": [
          "Burglary",
          "Vehicle contents or parts theft",
          "Misdemeanor"
         ],
         "xaxis": "x3",
         "y": [
          9232,
          7179,
          6166
         ],
         "yaxis": "y1"
        }
       ],
       "layout": {
        "annotations": [
         {
          "font": {
           "size": 12
          },
          "showarrow": false,
          "text": "<b>2015</b>",
          "x": 0.15000000000000002,
          "xanchor": "center",
          "xref": "paper",
          "y": 1,
          "yanchor": "bottom",
          "yref": "paper"
         },
         {
          "font": {
           "size": 12
          },
          "showarrow": false,
          "text": "<b>2016</b>",
          "x": 0.5,
          "xanchor": "center",
          "xref": "paper",
          "y": 1,
          "yanchor": "bottom",
          "yref": "paper"
         },
         {
          "font": {
           "size": 12
          },
          "showarrow": false,
          "text": "<b>2017</b>",
          "x": 0.8500000000000001,
          "xanchor": "center",
          "xref": "paper",
          "y": 1,
          "yanchor": "bottom",
          "yref": "paper"
         }
        ],
        "autosize": false,
        "height": 400,
        "paper_bgcolor": "rgba(245, 246, 249, 1)",
        "plot_bgcolor": "rgba(245, 246, 249, 1)",
        "showlegend": false,
        "title": "<b>Top 3 crime types committed in 2015, 2016 and 2017</b>",
        "titlefont": {
         "size": 14
        },
        "width": 850,
        "xaxis1": {
         "anchor": "y1",
         "domain": [
          0,
          0.3
         ],
         "tickangle": 20,
         "tickfont": {
          "color": "rgb(107, 107, 107)",
          "size": 11
         },
         "titlefont": {
          "color": "rgb(107, 107, 107)",
          "size": 11
         }
        },
        "xaxis2": {
         "anchor": "free",
         "domain": [
          0.35,
          0.6499999999999999
         ],
         "position": 0,
         "tickangle": 20,
         "tickfont": {
          "color": "rgb(107, 107, 107)",
          "size": 11
         },
         "titlefont": {
          "color": "rgb(107, 107, 107)",
          "size": 11
         }
        },
        "xaxis3": {
         "anchor": "free",
         "domain": [
          0.7,
          1
         ],
         "position": 0,
         "tickangle": 20,
         "tickfont": {
          "color": "rgb(107, 107, 107)",
          "size": 11
         },
         "titlefont": {
          "color": "rgb(107, 107, 107)",
          "size": 11
         }
        },
        "yaxis1": {
         "anchor": "x1",
         "domain": [
          0,
          1
         ],
         "showgrid": true,
         "showticklabels": false,
         "title": "Crime Incident",
         "titlefont": {
          "color": "rgb(107, 107, 107)",
          "size": 12
         }
        },
        "yaxis2": {
         "showgrid": true,
         "showticklabels": false,
         "title": "Crime Incident",
         "titlefont": {
          "color": "rgb(107, 107, 107)",
          "size": 12
         }
        },
        "yaxis3": {
         "showgrid": true,
         "showticklabels": false,
         "title": "Crime Incident",
         "titlefont": {
          "color": "rgb(107, 107, 107)",
          "size": 12
         }
        }
       }
      },
      "text/html": [
       "<div id=\"350ad12f-f300-43ee-9e02-810142e30ac4\" style=\"height: 400px; width: 850px;\" class=\"plotly-graph-div\"></div><script type=\"text/javascript\">require([\"plotly\"], function(Plotly) { window.PLOTLYENV=window.PLOTLYENV || {};window.PLOTLYENV.BASE_URL=\"https://plot.ly\";Plotly.newPlot(\"350ad12f-f300-43ee-9e02-810142e30ac4\", [{\"type\": \"bar\", \"x\": [\"Burglary\", \"Vehicle contents or parts theft\", \"Misdemeanor\"], \"y\": [9803, 7984, 7056], \"name\": \"Burglary\", \"width\": 0.7, \"text\": [9803, 7984, 7056], \"textposition\": \"outside\", \"hoverinfo\": \"text\", \"outsidetextfont\": {\"size\": \"10\"}, \"cliponaxis\": false, \"marker\": {\"color\": \"rgba(31, 119, 180, 0.5)\", \"line\": {\"color\": \"rgba(31, 119, 180, 1.0)\", \"width\": 1}}, \"xaxis\": \"x1\", \"yaxis\": \"y1\"}, {\"type\": \"bar\", \"x\": [\"Burglary\", \"Vehicle contents or parts theft\", \"Misdemeanor\"], \"y\": [9828, 7691, 6252], \"name\": \"Vehicle contents or parts theft\", \"width\": 0.7, \"text\": [9828, 7691, 6252], \"textposition\": \"outside\", \"hoverinfo\": \"text\", \"outsidetextfont\": {\"size\": \"10\"}, \"cliponaxis\": false, \"marker\": {\"color\": \"rgba(255, 127, 14, 0.5)\", \"line\": {\"color\": \"rgba(255, 127, 14, 1.0)\", \"width\": 1}}, \"xaxis\": \"x2\", \"yaxis\": \"y1\"}, {\"type\": \"bar\", \"x\": [\"Burglary\", \"Vehicle contents or parts theft\", \"Misdemeanor\"], \"y\": [9232, 7179, 6166], \"name\": \"Misdemeanor\", \"width\": 0.7, \"text\": [9232, 7179, 6166], \"textposition\": \"outside\", \"hoverinfo\": \"text\", \"outsidetextfont\": {\"size\": \"10\"}, \"cliponaxis\": false, \"marker\": {\"color\": \"rgba(50, 171, 96, 0.5)\", \"line\": {\"color\": \"rgba(50, 171, 96, 1.0)\", \"width\": 1}}, \"xaxis\": \"x3\", \"yaxis\": \"y1\"}], {\"xaxis1\": {\"domain\": [0.0, 0.3], \"anchor\": \"y1\", \"titlefont\": {\"size\": 11, \"color\": \"rgb(107, 107, 107)\"}, \"tickfont\": {\"size\": 11, \"color\": \"rgb(107, 107, 107)\"}, \"tickangle\": 20}, \"yaxis1\": {\"domain\": [0.0, 1.0], \"anchor\": \"x1\", \"title\": \"Crime Incident\", \"titlefont\": {\"size\": 12, \"color\": \"rgb(107, 107, 107)\"}, \"showticklabels\": false, \"showgrid\": true}, \"xaxis2\": {\"domain\": [0.35, 0.6499999999999999], \"anchor\": \"free\", \"position\": 0.0, \"titlefont\": {\"size\": 11, \"color\": \"rgb(107, 107, 107)\"}, \"tickfont\": {\"size\": 11, \"color\": \"rgb(107, 107, 107)\"}, \"tickangle\": 20}, \"xaxis3\": {\"domain\": [0.7, 1.0], \"anchor\": \"free\", \"position\": 0.0, \"titlefont\": {\"size\": 11, \"color\": \"rgb(107, 107, 107)\"}, \"tickfont\": {\"size\": 11, \"color\": \"rgb(107, 107, 107)\"}, \"tickangle\": 20}, \"annotations\": [{\"y\": 1.0, \"xref\": \"paper\", \"x\": 0.15000000000000002, \"yref\": \"paper\", \"text\": \"<b>2015</b>\", \"showarrow\": false, \"font\": {\"size\": 12}, \"xanchor\": \"center\", \"yanchor\": \"bottom\"}, {\"y\": 1.0, \"xref\": \"paper\", \"x\": 0.5, \"yref\": \"paper\", \"text\": \"<b>2016</b>\", \"showarrow\": false, \"font\": {\"size\": 12}, \"xanchor\": \"center\", \"yanchor\": \"bottom\"}, {\"y\": 1.0, \"xref\": \"paper\", \"x\": 0.8500000000000001, \"yref\": \"paper\", \"text\": \"<b>2017</b>\", \"showarrow\": false, \"font\": {\"size\": 12}, \"xanchor\": \"center\", \"yanchor\": \"bottom\"}], \"yaxis2\": {\"title\": \"Crime Incident\", \"titlefont\": {\"size\": 12, \"color\": \"rgb(107, 107, 107)\"}, \"showticklabels\": false, \"showgrid\": true}, \"yaxis3\": {\"title\": \"Crime Incident\", \"titlefont\": {\"size\": 12, \"color\": \"rgb(107, 107, 107)\"}, \"showticklabels\": false, \"showgrid\": true}, \"height\": 400, \"width\": 850, \"showlegend\": false, \"autosize\": false, \"title\": \"<b>Top 3 crime types committed in 2015, 2016 and 2017</b>\", \"titlefont\": {\"size\": 14}, \"paper_bgcolor\": \"rgba(245, 246, 249, 1)\", \"plot_bgcolor\": \"rgba(245, 246, 249, 1)\"}, {\"showLink\": true, \"linkText\": \"Export to plot.ly\"})});</script>"
      ],
      "text/vnd.plotly.v1+html": [
       "<div id=\"350ad12f-f300-43ee-9e02-810142e30ac4\" style=\"height: 400px; width: 850px;\" class=\"plotly-graph-div\"></div><script type=\"text/javascript\">require([\"plotly\"], function(Plotly) { window.PLOTLYENV=window.PLOTLYENV || {};window.PLOTLYENV.BASE_URL=\"https://plot.ly\";Plotly.newPlot(\"350ad12f-f300-43ee-9e02-810142e30ac4\", [{\"type\": \"bar\", \"x\": [\"Burglary\", \"Vehicle contents or parts theft\", \"Misdemeanor\"], \"y\": [9803, 7984, 7056], \"name\": \"Burglary\", \"width\": 0.7, \"text\": [9803, 7984, 7056], \"textposition\": \"outside\", \"hoverinfo\": \"text\", \"outsidetextfont\": {\"size\": \"10\"}, \"cliponaxis\": false, \"marker\": {\"color\": \"rgba(31, 119, 180, 0.5)\", \"line\": {\"color\": \"rgba(31, 119, 180, 1.0)\", \"width\": 1}}, \"xaxis\": \"x1\", \"yaxis\": \"y1\"}, {\"type\": \"bar\", \"x\": [\"Burglary\", \"Vehicle contents or parts theft\", \"Misdemeanor\"], \"y\": [9828, 7691, 6252], \"name\": \"Vehicle contents or parts theft\", \"width\": 0.7, \"text\": [9828, 7691, 6252], \"textposition\": \"outside\", \"hoverinfo\": \"text\", \"outsidetextfont\": {\"size\": \"10\"}, \"cliponaxis\": false, \"marker\": {\"color\": \"rgba(255, 127, 14, 0.5)\", \"line\": {\"color\": \"rgba(255, 127, 14, 1.0)\", \"width\": 1}}, \"xaxis\": \"x2\", \"yaxis\": \"y1\"}, {\"type\": \"bar\", \"x\": [\"Burglary\", \"Vehicle contents or parts theft\", \"Misdemeanor\"], \"y\": [9232, 7179, 6166], \"name\": \"Misdemeanor\", \"width\": 0.7, \"text\": [9232, 7179, 6166], \"textposition\": \"outside\", \"hoverinfo\": \"text\", \"outsidetextfont\": {\"size\": \"10\"}, \"cliponaxis\": false, \"marker\": {\"color\": \"rgba(50, 171, 96, 0.5)\", \"line\": {\"color\": \"rgba(50, 171, 96, 1.0)\", \"width\": 1}}, \"xaxis\": \"x3\", \"yaxis\": \"y1\"}], {\"xaxis1\": {\"domain\": [0.0, 0.3], \"anchor\": \"y1\", \"titlefont\": {\"size\": 11, \"color\": \"rgb(107, 107, 107)\"}, \"tickfont\": {\"size\": 11, \"color\": \"rgb(107, 107, 107)\"}, \"tickangle\": 20}, \"yaxis1\": {\"domain\": [0.0, 1.0], \"anchor\": \"x1\", \"title\": \"Crime Incident\", \"titlefont\": {\"size\": 12, \"color\": \"rgb(107, 107, 107)\"}, \"showticklabels\": false, \"showgrid\": true}, \"xaxis2\": {\"domain\": [0.35, 0.6499999999999999], \"anchor\": \"free\", \"position\": 0.0, \"titlefont\": {\"size\": 11, \"color\": \"rgb(107, 107, 107)\"}, \"tickfont\": {\"size\": 11, \"color\": \"rgb(107, 107, 107)\"}, \"tickangle\": 20}, \"xaxis3\": {\"domain\": [0.7, 1.0], \"anchor\": \"free\", \"position\": 0.0, \"titlefont\": {\"size\": 11, \"color\": \"rgb(107, 107, 107)\"}, \"tickfont\": {\"size\": 11, \"color\": \"rgb(107, 107, 107)\"}, \"tickangle\": 20}, \"annotations\": [{\"y\": 1.0, \"xref\": \"paper\", \"x\": 0.15000000000000002, \"yref\": \"paper\", \"text\": \"<b>2015</b>\", \"showarrow\": false, \"font\": {\"size\": 12}, \"xanchor\": \"center\", \"yanchor\": \"bottom\"}, {\"y\": 1.0, \"xref\": \"paper\", \"x\": 0.5, \"yref\": \"paper\", \"text\": \"<b>2016</b>\", \"showarrow\": false, \"font\": {\"size\": 12}, \"xanchor\": \"center\", \"yanchor\": \"bottom\"}, {\"y\": 1.0, \"xref\": \"paper\", \"x\": 0.8500000000000001, \"yref\": \"paper\", \"text\": \"<b>2017</b>\", \"showarrow\": false, \"font\": {\"size\": 12}, \"xanchor\": \"center\", \"yanchor\": \"bottom\"}], \"yaxis2\": {\"title\": \"Crime Incident\", \"titlefont\": {\"size\": 12, \"color\": \"rgb(107, 107, 107)\"}, \"showticklabels\": false, \"showgrid\": true}, \"yaxis3\": {\"title\": \"Crime Incident\", \"titlefont\": {\"size\": 12, \"color\": \"rgb(107, 107, 107)\"}, \"showticklabels\": false, \"showgrid\": true}, \"height\": 400, \"width\": 850, \"showlegend\": false, \"autosize\": false, \"title\": \"<b>Top 3 crime types committed in 2015, 2016 and 2017</b>\", \"titlefont\": {\"size\": 14}, \"paper_bgcolor\": \"rgba(245, 246, 249, 1)\", \"plot_bgcolor\": \"rgba(245, 246, 249, 1)\"}, {\"showLink\": true, \"linkText\": \"Export to plot.ly\"})});</script>"
      ]
     },
     "metadata": {},
     "output_type": "display_data"
    }
   ],
   "source": [
    "# summarize data\n",
    "tot =[aggdf[aggdf['YEAR']==year].sort_values('INCIDENT_COUNT', ascending=False)[:3] for year in yearlist]\n",
    "prev = pd.concat(tot, ignore_index=True)\n",
    "\n",
    "# display result in crosstab\n",
    "display(pd.crosstab(index=prev['YEAR'], columns=prev['ADAPTED_CATEGORY'], values=prev['INCIDENT_COUNT'], aggfunc=sum))\n",
    "\n",
    "# define chart data and plot\n",
    "data = prev\n",
    "chdata = {'trace_data':data, 'x':'ADAPTED_CATEGORY', 'y':'INCIDENT_COUNT'}\n",
    "chlayout= {'height':400, 'width':850, 'title':\"<b>Top 3 crime types committed in 2015, 2016 and 2017</b>\", 'yaxistitle':'Crime Incident','tickangle':20}\n",
    "\n",
    "plotchart(chdata, chlayout, titlelist, yearlist, subtitlelist=yearlist)"
   ]
  },
  {
   "cell_type": "markdown",
   "metadata": {},
   "source": [
    "**Observation:**\n",
    "* *Burglary, Vehicle contents or parts theft and Misdemeanor are the top three prevalent crimes in the 3-years period.*"
   ]
  },
  {
   "cell_type": "markdown",
   "metadata": {},
   "source": [
    "###  Which neighborhoods recorded the highest crime incidents in 2015, 2016 and 2017 and what are the crime types in these neighborhoods? "
   ]
  },
  {
   "cell_type": "code",
   "execution_count": 16,
   "metadata": {},
   "outputs": [],
   "source": [
    "# exclude records with no location information\n",
    "top_neighb = xdf[xdf['LAT']!=1.000000]\n",
    "\n",
    "# summarize data\n",
    "top = top_neighb.groupby(['YEAR', 'COORDS']).agg({'ADAPTED_CATEGORY': 'count'}).rename(columns={'ADAPTED_CATEGORY':'CRIME_INCIDENT'}).reset_index()\n",
    "\n",
    "tot =[top[top['YEAR']==year].sort_values('CRIME_INCIDENT', ascending=False).iloc[:1] for year in yearlist]\n",
    "topdf = pd.concat(tot, ignore_index=True)\n",
    "\n",
    "# extract neighborhood addresses as a new column using 'extract_address' function.\n",
    "topdf['NEIGHBORHOOD'] = extract_address(topdf['COORDS'])\n",
    "\n",
    "# define list to format subplot headers\n",
    "klist = [\"<b>2015: Boulevard des<br>Galeries-d'Anjou, Anjou</b>\",\n",
    " '<b>2016: Chemin de la<br>Côte-de-Liesse, Saint-Laurent</b>',\n",
    " '<b>2017: Chemin de la<br>Côte-de-Liesse, Saint-Laurent</b>']"
   ]
  },
  {
   "cell_type": "code",
   "execution_count": 17,
   "metadata": {},
   "outputs": [
    {
     "data": {
      "text/html": [
       "<div>\n",
       "<style scoped>\n",
       "    .dataframe tbody tr th:only-of-type {\n",
       "        vertical-align: middle;\n",
       "    }\n",
       "\n",
       "    .dataframe tbody tr th {\n",
       "        vertical-align: top;\n",
       "    }\n",
       "\n",
       "    .dataframe thead th {\n",
       "        text-align: right;\n",
       "    }\n",
       "</style>\n",
       "<table border=\"1\" class=\"dataframe\">\n",
       "  <thead>\n",
       "    <tr style=\"text-align: right;\">\n",
       "      <th></th>\n",
       "      <th>YEAR</th>\n",
       "      <th>CRIME_INCIDENT</th>\n",
       "      <th>NEIGHBORHOOD</th>\n",
       "    </tr>\n",
       "  </thead>\n",
       "  <tbody>\n",
       "    <tr>\n",
       "      <th>0</th>\n",
       "      <td>2015</td>\n",
       "      <td>84</td>\n",
       "      <td>Boulevard des Galeries-d'Anjou, Anjou</td>\n",
       "    </tr>\n",
       "    <tr>\n",
       "      <th>1</th>\n",
       "      <td>2016</td>\n",
       "      <td>82</td>\n",
       "      <td>Chemin de la Côte-de-Liesse, Saint-Laurent</td>\n",
       "    </tr>\n",
       "    <tr>\n",
       "      <th>2</th>\n",
       "      <td>2017</td>\n",
       "      <td>119</td>\n",
       "      <td>Chemin de la Côte-de-Liesse, Saint-Laurent</td>\n",
       "    </tr>\n",
       "  </tbody>\n",
       "</table>\n",
       "</div>"
      ],
      "text/plain": [
       "   YEAR  CRIME_INCIDENT                                NEIGHBORHOOD\n",
       "0  2015              84       Boulevard des Galeries-d'Anjou, Anjou\n",
       "1  2016              82  Chemin de la Côte-de-Liesse, Saint-Laurent\n",
       "2  2017             119  Chemin de la Côte-de-Liesse, Saint-Laurent"
      ]
     },
     "metadata": {},
     "output_type": "display_data"
    },
    {
     "data": {
      "application/vnd.plotly.v1+json": {
       "data": [
        {
         "cliponaxis": false,
         "hoverinfo": "text",
         "marker": {
          "color": "rgba(31, 119, 180, 0.5)",
          "line": {
           "color": "rgba(31, 119, 180, 1.0)",
           "width": 1
          }
         },
         "name": "Burglary",
         "outsidetextfont": {
          "size": "10"
         },
         "text": [
          48,
          13,
          10,
          10,
          3
         ],
         "textposition": "outside",
         "type": "bar",
         "width": 0.7,
         "x": [
          "Vehicle contents or parts theft",
          "Vehicle theft",
          "Burglary",
          "Misdemeanor",
          "Robbery"
         ],
         "xaxis": "x1",
         "y": [
          48,
          13,
          10,
          10,
          3
         ],
         "yaxis": "y1"
        },
        {
         "cliponaxis": false,
         "hoverinfo": "text",
         "marker": {
          "color": "rgba(255, 127, 14, 0.5)",
          "line": {
           "color": "rgba(255, 127, 14, 1.0)",
           "width": 1
          }
         },
         "name": "Vehicle contents or parts theft",
         "outsidetextfont": {
          "size": "10"
         },
         "text": [
          63,
          18,
          1
         ],
         "textposition": "outside",
         "type": "bar",
         "width": 0.7,
         "x": [
          "Vehicle theft",
          "Vehicle contents or parts theft",
          "Burglary"
         ],
         "xaxis": "x2",
         "y": [
          63,
          18,
          1
         ],
         "yaxis": "y1"
        },
        {
         "cliponaxis": false,
         "hoverinfo": "text",
         "marker": {
          "color": "rgba(50, 171, 96, 0.5)",
          "line": {
           "color": "rgba(50, 171, 96, 1.0)",
           "width": 1
          }
         },
         "name": "Misdemeanor",
         "outsidetextfont": {
          "size": "10"
         },
         "text": [
          88,
          22,
          6,
          3
         ],
         "textposition": "outside",
         "type": "bar",
         "width": 0.7,
         "x": [
          "Vehicle theft",
          "Vehicle contents or parts theft",
          "Misdemeanor",
          "Burglary"
         ],
         "xaxis": "x3",
         "y": [
          88,
          22,
          6,
          3
         ],
         "yaxis": "y1"
        }
       ],
       "layout": {
        "annotations": [
         {
          "font": {
           "size": 12
          },
          "showarrow": false,
          "text": "<b><b>2015: Boulevard des<br>Galeries-d'Anjou, Anjou</b></b>",
          "x": 0.15000000000000002,
          "xanchor": "center",
          "xref": "paper",
          "y": 1,
          "yanchor": "bottom",
          "yref": "paper"
         },
         {
          "font": {
           "size": 12
          },
          "showarrow": false,
          "text": "<b><b>2016: Chemin de la<br>Côte-de-Liesse, Saint-Laurent</b></b>",
          "x": 0.5,
          "xanchor": "center",
          "xref": "paper",
          "y": 1,
          "yanchor": "bottom",
          "yref": "paper"
         },
         {
          "font": {
           "size": 12
          },
          "showarrow": false,
          "text": "<b><b>2017: Chemin de la<br>Côte-de-Liesse, Saint-Laurent</b></b>",
          "x": 0.8500000000000001,
          "xanchor": "center",
          "xref": "paper",
          "y": 1,
          "yanchor": "bottom",
          "yref": "paper"
         }
        ],
        "autosize": false,
        "height": 450,
        "paper_bgcolor": "rgba(245, 246, 249, 1)",
        "plot_bgcolor": "rgba(245, 246, 249, 1)",
        "showlegend": false,
        "title": "<b>Crime types in the neighborhoods with highest crime incidents in 2015, 2016 and 2017</b>",
        "titlefont": {
         "size": 14
        },
        "width": 950,
        "xaxis1": {
         "anchor": "y1",
         "domain": [
          0,
          0.3
         ],
         "tickangle": 20,
         "tickfont": {
          "color": "rgb(107, 107, 107)",
          "size": 11
         },
         "titlefont": {
          "color": "rgb(107, 107, 107)",
          "size": 11
         }
        },
        "xaxis2": {
         "anchor": "free",
         "domain": [
          0.35,
          0.6499999999999999
         ],
         "position": 0,
         "tickangle": 20,
         "tickfont": {
          "color": "rgb(107, 107, 107)",
          "size": 11
         },
         "titlefont": {
          "color": "rgb(107, 107, 107)",
          "size": 11
         }
        },
        "xaxis3": {
         "anchor": "free",
         "domain": [
          0.7,
          1
         ],
         "position": 0,
         "tickangle": 20,
         "tickfont": {
          "color": "rgb(107, 107, 107)",
          "size": 11
         },
         "titlefont": {
          "color": "rgb(107, 107, 107)",
          "size": 11
         }
        },
        "yaxis1": {
         "anchor": "x1",
         "domain": [
          0,
          1
         ],
         "showgrid": true,
         "showticklabels": false,
         "title": "Crime Incident",
         "titlefont": {
          "color": "rgb(107, 107, 107)",
          "size": 12
         }
        },
        "yaxis2": {
         "showgrid": true,
         "showticklabels": false,
         "title": "Crime Incident",
         "titlefont": {
          "color": "rgb(107, 107, 107)",
          "size": 12
         }
        },
        "yaxis3": {
         "showgrid": true,
         "showticklabels": false,
         "title": "Crime Incident",
         "titlefont": {
          "color": "rgb(107, 107, 107)",
          "size": 12
         }
        }
       }
      },
      "text/html": [
       "<div id=\"c455a352-cc78-484b-8cd8-08bc86515ef9\" style=\"height: 450px; width: 950px;\" class=\"plotly-graph-div\"></div><script type=\"text/javascript\">require([\"plotly\"], function(Plotly) { window.PLOTLYENV=window.PLOTLYENV || {};window.PLOTLYENV.BASE_URL=\"https://plot.ly\";Plotly.newPlot(\"c455a352-cc78-484b-8cd8-08bc86515ef9\", [{\"type\": \"bar\", \"x\": [\"Vehicle contents or parts theft\", \"Vehicle theft\", \"Burglary\", \"Misdemeanor\", \"Robbery\"], \"y\": [48, 13, 10, 10, 3], \"name\": \"Burglary\", \"width\": 0.7, \"text\": [48, 13, 10, 10, 3], \"textposition\": \"outside\", \"hoverinfo\": \"text\", \"outsidetextfont\": {\"size\": \"10\"}, \"cliponaxis\": false, \"marker\": {\"color\": \"rgba(31, 119, 180, 0.5)\", \"line\": {\"color\": \"rgba(31, 119, 180, 1.0)\", \"width\": 1}}, \"xaxis\": \"x1\", \"yaxis\": \"y1\"}, {\"type\": \"bar\", \"x\": [\"Vehicle theft\", \"Vehicle contents or parts theft\", \"Burglary\"], \"y\": [63, 18, 1], \"name\": \"Vehicle contents or parts theft\", \"width\": 0.7, \"text\": [63, 18, 1], \"textposition\": \"outside\", \"hoverinfo\": \"text\", \"outsidetextfont\": {\"size\": \"10\"}, \"cliponaxis\": false, \"marker\": {\"color\": \"rgba(255, 127, 14, 0.5)\", \"line\": {\"color\": \"rgba(255, 127, 14, 1.0)\", \"width\": 1}}, \"xaxis\": \"x2\", \"yaxis\": \"y1\"}, {\"type\": \"bar\", \"x\": [\"Vehicle theft\", \"Vehicle contents or parts theft\", \"Misdemeanor\", \"Burglary\"], \"y\": [88, 22, 6, 3], \"name\": \"Misdemeanor\", \"width\": 0.7, \"text\": [88, 22, 6, 3], \"textposition\": \"outside\", \"hoverinfo\": \"text\", \"outsidetextfont\": {\"size\": \"10\"}, \"cliponaxis\": false, \"marker\": {\"color\": \"rgba(50, 171, 96, 0.5)\", \"line\": {\"color\": \"rgba(50, 171, 96, 1.0)\", \"width\": 1}}, \"xaxis\": \"x3\", \"yaxis\": \"y1\"}], {\"xaxis1\": {\"domain\": [0.0, 0.3], \"anchor\": \"y1\", \"titlefont\": {\"size\": 11, \"color\": \"rgb(107, 107, 107)\"}, \"tickfont\": {\"size\": 11, \"color\": \"rgb(107, 107, 107)\"}, \"tickangle\": 20}, \"yaxis1\": {\"domain\": [0.0, 1.0], \"anchor\": \"x1\", \"title\": \"Crime Incident\", \"titlefont\": {\"size\": 12, \"color\": \"rgb(107, 107, 107)\"}, \"showticklabels\": false, \"showgrid\": true}, \"xaxis2\": {\"domain\": [0.35, 0.6499999999999999], \"anchor\": \"free\", \"position\": 0.0, \"titlefont\": {\"size\": 11, \"color\": \"rgb(107, 107, 107)\"}, \"tickfont\": {\"size\": 11, \"color\": \"rgb(107, 107, 107)\"}, \"tickangle\": 20}, \"xaxis3\": {\"domain\": [0.7, 1.0], \"anchor\": \"free\", \"position\": 0.0, \"titlefont\": {\"size\": 11, \"color\": \"rgb(107, 107, 107)\"}, \"tickfont\": {\"size\": 11, \"color\": \"rgb(107, 107, 107)\"}, \"tickangle\": 20}, \"annotations\": [{\"y\": 1.0, \"xref\": \"paper\", \"x\": 0.15000000000000002, \"yref\": \"paper\", \"text\": \"<b><b>2015: Boulevard des<br>Galeries-d'Anjou, Anjou</b></b>\", \"showarrow\": false, \"font\": {\"size\": 12}, \"xanchor\": \"center\", \"yanchor\": \"bottom\"}, {\"y\": 1.0, \"xref\": \"paper\", \"x\": 0.5, \"yref\": \"paper\", \"text\": \"<b><b>2016: Chemin de la<br>C\\u00f4te-de-Liesse, Saint-Laurent</b></b>\", \"showarrow\": false, \"font\": {\"size\": 12}, \"xanchor\": \"center\", \"yanchor\": \"bottom\"}, {\"y\": 1.0, \"xref\": \"paper\", \"x\": 0.8500000000000001, \"yref\": \"paper\", \"text\": \"<b><b>2017: Chemin de la<br>C\\u00f4te-de-Liesse, Saint-Laurent</b></b>\", \"showarrow\": false, \"font\": {\"size\": 12}, \"xanchor\": \"center\", \"yanchor\": \"bottom\"}], \"yaxis2\": {\"title\": \"Crime Incident\", \"titlefont\": {\"size\": 12, \"color\": \"rgb(107, 107, 107)\"}, \"showticklabels\": false, \"showgrid\": true}, \"yaxis3\": {\"title\": \"Crime Incident\", \"titlefont\": {\"size\": 12, \"color\": \"rgb(107, 107, 107)\"}, \"showticklabels\": false, \"showgrid\": true}, \"height\": 450, \"width\": 950, \"showlegend\": false, \"autosize\": false, \"title\": \"<b>Crime types in the neighborhoods with highest crime incidents in 2015, 2016 and 2017</b>\", \"titlefont\": {\"size\": 14}, \"paper_bgcolor\": \"rgba(245, 246, 249, 1)\", \"plot_bgcolor\": \"rgba(245, 246, 249, 1)\"}, {\"showLink\": true, \"linkText\": \"Export to plot.ly\"})});</script>"
      ],
      "text/vnd.plotly.v1+html": [
       "<div id=\"c455a352-cc78-484b-8cd8-08bc86515ef9\" style=\"height: 450px; width: 950px;\" class=\"plotly-graph-div\"></div><script type=\"text/javascript\">require([\"plotly\"], function(Plotly) { window.PLOTLYENV=window.PLOTLYENV || {};window.PLOTLYENV.BASE_URL=\"https://plot.ly\";Plotly.newPlot(\"c455a352-cc78-484b-8cd8-08bc86515ef9\", [{\"type\": \"bar\", \"x\": [\"Vehicle contents or parts theft\", \"Vehicle theft\", \"Burglary\", \"Misdemeanor\", \"Robbery\"], \"y\": [48, 13, 10, 10, 3], \"name\": \"Burglary\", \"width\": 0.7, \"text\": [48, 13, 10, 10, 3], \"textposition\": \"outside\", \"hoverinfo\": \"text\", \"outsidetextfont\": {\"size\": \"10\"}, \"cliponaxis\": false, \"marker\": {\"color\": \"rgba(31, 119, 180, 0.5)\", \"line\": {\"color\": \"rgba(31, 119, 180, 1.0)\", \"width\": 1}}, \"xaxis\": \"x1\", \"yaxis\": \"y1\"}, {\"type\": \"bar\", \"x\": [\"Vehicle theft\", \"Vehicle contents or parts theft\", \"Burglary\"], \"y\": [63, 18, 1], \"name\": \"Vehicle contents or parts theft\", \"width\": 0.7, \"text\": [63, 18, 1], \"textposition\": \"outside\", \"hoverinfo\": \"text\", \"outsidetextfont\": {\"size\": \"10\"}, \"cliponaxis\": false, \"marker\": {\"color\": \"rgba(255, 127, 14, 0.5)\", \"line\": {\"color\": \"rgba(255, 127, 14, 1.0)\", \"width\": 1}}, \"xaxis\": \"x2\", \"yaxis\": \"y1\"}, {\"type\": \"bar\", \"x\": [\"Vehicle theft\", \"Vehicle contents or parts theft\", \"Misdemeanor\", \"Burglary\"], \"y\": [88, 22, 6, 3], \"name\": \"Misdemeanor\", \"width\": 0.7, \"text\": [88, 22, 6, 3], \"textposition\": \"outside\", \"hoverinfo\": \"text\", \"outsidetextfont\": {\"size\": \"10\"}, \"cliponaxis\": false, \"marker\": {\"color\": \"rgba(50, 171, 96, 0.5)\", \"line\": {\"color\": \"rgba(50, 171, 96, 1.0)\", \"width\": 1}}, \"xaxis\": \"x3\", \"yaxis\": \"y1\"}], {\"xaxis1\": {\"domain\": [0.0, 0.3], \"anchor\": \"y1\", \"titlefont\": {\"size\": 11, \"color\": \"rgb(107, 107, 107)\"}, \"tickfont\": {\"size\": 11, \"color\": \"rgb(107, 107, 107)\"}, \"tickangle\": 20}, \"yaxis1\": {\"domain\": [0.0, 1.0], \"anchor\": \"x1\", \"title\": \"Crime Incident\", \"titlefont\": {\"size\": 12, \"color\": \"rgb(107, 107, 107)\"}, \"showticklabels\": false, \"showgrid\": true}, \"xaxis2\": {\"domain\": [0.35, 0.6499999999999999], \"anchor\": \"free\", \"position\": 0.0, \"titlefont\": {\"size\": 11, \"color\": \"rgb(107, 107, 107)\"}, \"tickfont\": {\"size\": 11, \"color\": \"rgb(107, 107, 107)\"}, \"tickangle\": 20}, \"xaxis3\": {\"domain\": [0.7, 1.0], \"anchor\": \"free\", \"position\": 0.0, \"titlefont\": {\"size\": 11, \"color\": \"rgb(107, 107, 107)\"}, \"tickfont\": {\"size\": 11, \"color\": \"rgb(107, 107, 107)\"}, \"tickangle\": 20}, \"annotations\": [{\"y\": 1.0, \"xref\": \"paper\", \"x\": 0.15000000000000002, \"yref\": \"paper\", \"text\": \"<b><b>2015: Boulevard des<br>Galeries-d'Anjou, Anjou</b></b>\", \"showarrow\": false, \"font\": {\"size\": 12}, \"xanchor\": \"center\", \"yanchor\": \"bottom\"}, {\"y\": 1.0, \"xref\": \"paper\", \"x\": 0.5, \"yref\": \"paper\", \"text\": \"<b><b>2016: Chemin de la<br>C\\u00f4te-de-Liesse, Saint-Laurent</b></b>\", \"showarrow\": false, \"font\": {\"size\": 12}, \"xanchor\": \"center\", \"yanchor\": \"bottom\"}, {\"y\": 1.0, \"xref\": \"paper\", \"x\": 0.8500000000000001, \"yref\": \"paper\", \"text\": \"<b><b>2017: Chemin de la<br>C\\u00f4te-de-Liesse, Saint-Laurent</b></b>\", \"showarrow\": false, \"font\": {\"size\": 12}, \"xanchor\": \"center\", \"yanchor\": \"bottom\"}], \"yaxis2\": {\"title\": \"Crime Incident\", \"titlefont\": {\"size\": 12, \"color\": \"rgb(107, 107, 107)\"}, \"showticklabels\": false, \"showgrid\": true}, \"yaxis3\": {\"title\": \"Crime Incident\", \"titlefont\": {\"size\": 12, \"color\": \"rgb(107, 107, 107)\"}, \"showticklabels\": false, \"showgrid\": true}, \"height\": 450, \"width\": 950, \"showlegend\": false, \"autosize\": false, \"title\": \"<b>Crime types in the neighborhoods with highest crime incidents in 2015, 2016 and 2017</b>\", \"titlefont\": {\"size\": 14}, \"paper_bgcolor\": \"rgba(245, 246, 249, 1)\", \"plot_bgcolor\": \"rgba(245, 246, 249, 1)\"}, {\"showLink\": true, \"linkText\": \"Export to plot.ly\"})});</script>"
      ]
     },
     "metadata": {},
     "output_type": "display_data"
    }
   ],
   "source": [
    "# merge dataframes\n",
    "tcp = pd.merge(topdf, top_neighb, on=['COORDS','YEAR'])\n",
    "\n",
    "# summarize data and define a new dataframe\n",
    "grptcp = tcp.groupby(['YEAR', 'ADAPTED_CATEGORY']).agg({'ADAPTED_CATEGORY': 'count'}).rename(columns={'ADAPTED_CATEGORY':'CRIME_INCIDENT'}).reset_index()\n",
    "tot =[grptcp[grptcp['YEAR']==year].sort_values('CRIME_INCIDENT', ascending=False) for year in yearlist]\n",
    "prevcrime = pd.concat(tot, ignore_index=True)\n",
    "\n",
    "# display result\n",
    "display(topdf[['YEAR', 'CRIME_INCIDENT', 'NEIGHBORHOOD']])\n",
    "\n",
    "# define chart data and plot\n",
    "data = prevcrime\n",
    "chdata = {'trace_data':data, 'x':'ADAPTED_CATEGORY', 'y':'CRIME_INCIDENT'}\n",
    "chlayout= {'height':450, 'width':950, 'title':\"<b>Crime types in the neighborhoods with highest crime incidents in 2015, 2016 and 2017</b>\", 'yaxistitle':'Crime Incident','tickangle':20}\n",
    "\n",
    "plotchart(chdata, chlayout, titlelist, yearlist, subtitlelist=klist)"
   ]
  },
  {
   "cell_type": "markdown",
   "metadata": {},
   "source": [
    "**Observations:**\n",
    "\n",
    "*1. Boulevard des Galeries-d'Anjou, Anjou and Chemin de la Côte-de-Liesse, Saint-Laurent are neighborhoods with the highest number of crimes in 2015, 2016 and 2017.*  \n",
    "\n",
    "*2. Vehicle theft and vehicle contents or parts theft were the main common crime types in Boulevard des Galeries-d'Anjou, Anjou and Chemin de la Côte-de-Liesse, Saint-Laurent neighborhoods within the period reviewed.*  \n",
    "\n",
    "*3. Vehicle theft was particularly prominent in Chemin de la Côte-de-Liesse, Saint-Laurent in 2016 and in 2017. The neighborhood has about 40% increase in vehicle theft from 2016 to 2017. Vehicle contents or parts theft recorded 22% increase within the same period.*"
   ]
  },
  {
   "cell_type": "markdown",
   "metadata": {},
   "source": [
    "###  Which neighborhood has the highest cases of murder crime in 2015, 2016 and 2017?"
   ]
  },
  {
   "cell_type": "code",
   "execution_count": 18,
   "metadata": {},
   "outputs": [
    {
     "data": {
      "text/html": [
       "<div>\n",
       "<style scoped>\n",
       "    .dataframe tbody tr th:only-of-type {\n",
       "        vertical-align: middle;\n",
       "    }\n",
       "\n",
       "    .dataframe tbody tr th {\n",
       "        vertical-align: top;\n",
       "    }\n",
       "\n",
       "    .dataframe thead th {\n",
       "        text-align: right;\n",
       "    }\n",
       "</style>\n",
       "<table border=\"1\" class=\"dataframe\">\n",
       "  <thead>\n",
       "    <tr style=\"text-align: right;\">\n",
       "      <th></th>\n",
       "      <th>YEAR</th>\n",
       "      <th>COORDS</th>\n",
       "      <th>DEATH_INCIDENT</th>\n",
       "      <th>NEIGHBORHOOD</th>\n",
       "    </tr>\n",
       "  </thead>\n",
       "  <tbody>\n",
       "    <tr>\n",
       "      <th>0</th>\n",
       "      <td>2016</td>\n",
       "      <td>(45.51171625506121, -73.5622018412409)</td>\n",
       "      <td>2</td>\n",
       "      <td>Pavillon Sainte-Catherine, Rue Sainte-Catherine Est, Quartier des Spectacles, Centre-Ville, Ville-Marie</td>\n",
       "    </tr>\n",
       "  </tbody>\n",
       "</table>\n",
       "</div>"
      ],
      "text/plain": [
       "   YEAR                                  COORDS  DEATH_INCIDENT  \\\n",
       "0  2016  (45.51171625506121, -73.5622018412409)               2   \n",
       "\n",
       "                                                                                              NEIGHBORHOOD  \n",
       "0  Pavillon Sainte-Catherine, Rue Sainte-Catherine Est, Quartier des Spectacles, Centre-Ville, Ville-Marie  "
      ]
     },
     "metadata": {},
     "output_type": "display_data"
    }
   ],
   "source": [
    "# extract and summarize data\n",
    "ddf = top_neighb[top_neighb['ADAPTED_CATEGORY']==\"Offenses causing death\"]\n",
    "dtop = ddf.groupby(['YEAR', 'COORDS']).agg({'COORDS':'count'}).rename(columns={'COORDS':'DEATH_INCIDENT'}).reset_index()\n",
    "\n",
    "# sort and extract neighborhood addresses as a new column using 'extract_address' function.\n",
    "topdf = dtop.sort_values('DEATH_INCIDENT', ascending=False).reset_index(drop=True).iloc[:1]\n",
    "topdf['NEIGHBORHOOD'] = extract_address(topdf['COORDS'])\n",
    "\n",
    "# display result\n",
    "display(topdf)"
   ]
  },
  {
   "cell_type": "markdown",
   "metadata": {},
   "source": [
    "**Observation:**\n",
    "* *Two cases of murder occurred in 2016 at Pavillon Sainte-Catherine, Rue Sainte-Catherine Est, Quartier des Spectacles, Centre-Ville, Ville-Marie. These are the highest murder cases within the 3-years period.*"
   ]
  },
  {
   "cell_type": "markdown",
   "metadata": {},
   "source": [
    "### What time of the day did most crime incidents occur in 2015, 2016 and 2017?"
   ]
  },
  {
   "cell_type": "code",
   "execution_count": 19,
   "metadata": {},
   "outputs": [
    {
     "data": {
      "text/html": [
       "<div>\n",
       "<style scoped>\n",
       "    .dataframe tbody tr th:only-of-type {\n",
       "        vertical-align: middle;\n",
       "    }\n",
       "\n",
       "    .dataframe tbody tr th {\n",
       "        vertical-align: top;\n",
       "    }\n",
       "\n",
       "    .dataframe thead th {\n",
       "        text-align: right;\n",
       "    }\n",
       "</style>\n",
       "<table border=\"1\" class=\"dataframe\">\n",
       "  <thead>\n",
       "    <tr style=\"text-align: right;\">\n",
       "      <th>QUART</th>\n",
       "      <th>day</th>\n",
       "      <th>evening</th>\n",
       "      <th>night</th>\n",
       "    </tr>\n",
       "    <tr>\n",
       "      <th>YEAR</th>\n",
       "      <th></th>\n",
       "      <th></th>\n",
       "      <th></th>\n",
       "    </tr>\n",
       "  </thead>\n",
       "  <tbody>\n",
       "    <tr>\n",
       "      <th>2015</th>\n",
       "      <td>15326</td>\n",
       "      <td>10196</td>\n",
       "      <td>4666</td>\n",
       "    </tr>\n",
       "    <tr>\n",
       "      <th>2016</th>\n",
       "      <td>14497</td>\n",
       "      <td>10134</td>\n",
       "      <td>4393</td>\n",
       "    </tr>\n",
       "    <tr>\n",
       "      <th>2017</th>\n",
       "      <td>14173</td>\n",
       "      <td>9601</td>\n",
       "      <td>4334</td>\n",
       "    </tr>\n",
       "  </tbody>\n",
       "</table>\n",
       "</div>"
      ],
      "text/plain": [
       "QUART    day  evening  night\n",
       "YEAR                        \n",
       "2015   15326    10196   4666\n",
       "2016   14497    10134   4393\n",
       "2017   14173     9601   4334"
      ]
     },
     "metadata": {},
     "output_type": "display_data"
    },
    {
     "data": {
      "application/vnd.plotly.v1+json": {
       "data": [
        {
         "cliponaxis": false,
         "hoverinfo": "text",
         "marker": {
          "color": "rgba(31, 119, 180, 0.5)",
          "line": {
           "color": "rgba(31, 119, 180, 1.0)",
           "width": 1
          }
         },
         "name": "Burglary",
         "outsidetextfont": {
          "size": "10"
         },
         "text": [
          15326,
          10196,
          4666
         ],
         "textposition": "outside",
         "type": "bar",
         "width": 0.7,
         "x": [
          "day",
          "evening",
          "night"
         ],
         "xaxis": "x1",
         "y": [
          15326,
          10196,
          4666
         ],
         "yaxis": "y1"
        },
        {
         "cliponaxis": false,
         "hoverinfo": "text",
         "marker": {
          "color": "rgba(255, 127, 14, 0.5)",
          "line": {
           "color": "rgba(255, 127, 14, 1.0)",
           "width": 1
          }
         },
         "name": "Vehicle contents or parts theft",
         "outsidetextfont": {
          "size": "10"
         },
         "text": [
          14497,
          10134,
          4393
         ],
         "textposition": "outside",
         "type": "bar",
         "width": 0.7,
         "x": [
          "day",
          "evening",
          "night"
         ],
         "xaxis": "x2",
         "y": [
          14497,
          10134,
          4393
         ],
         "yaxis": "y1"
        },
        {
         "cliponaxis": false,
         "hoverinfo": "text",
         "marker": {
          "color": "rgba(50, 171, 96, 0.5)",
          "line": {
           "color": "rgba(50, 171, 96, 1.0)",
           "width": 1
          }
         },
         "name": "Misdemeanor",
         "outsidetextfont": {
          "size": "10"
         },
         "text": [
          14173,
          9601,
          4334
         ],
         "textposition": "outside",
         "type": "bar",
         "width": 0.7,
         "x": [
          "day",
          "evening",
          "night"
         ],
         "xaxis": "x3",
         "y": [
          14173,
          9601,
          4334
         ],
         "yaxis": "y1"
        }
       ],
       "layout": {
        "annotations": [
         {
          "font": {
           "size": 12
          },
          "showarrow": false,
          "text": "<b>2015</b>",
          "x": 0.15000000000000002,
          "xanchor": "center",
          "xref": "paper",
          "y": 1,
          "yanchor": "bottom",
          "yref": "paper"
         },
         {
          "font": {
           "size": 12
          },
          "showarrow": false,
          "text": "<b>2016</b>",
          "x": 0.5,
          "xanchor": "center",
          "xref": "paper",
          "y": 1,
          "yanchor": "bottom",
          "yref": "paper"
         },
         {
          "font": {
           "size": 12
          },
          "showarrow": false,
          "text": "<b>2017</b>",
          "x": 0.8500000000000001,
          "xanchor": "center",
          "xref": "paper",
          "y": 1,
          "yanchor": "bottom",
          "yref": "paper"
         }
        ],
        "autosize": false,
        "height": 400,
        "paper_bgcolor": "rgba(245, 246, 249, 1)",
        "plot_bgcolor": "rgba(245, 246, 249, 1)",
        "showlegend": false,
        "title": "<b>Crime incidents during the days, evenings and nights in 2015, 2016 and 2017</b>",
        "titlefont": {
         "size": 14
        },
        "width": 850,
        "xaxis1": {
         "anchor": "y1",
         "domain": [
          0,
          0.3
         ],
         "tickangle": 20,
         "tickfont": {
          "color": "rgb(107, 107, 107)",
          "size": 11
         },
         "titlefont": {
          "color": "rgb(107, 107, 107)",
          "size": 11
         }
        },
        "xaxis2": {
         "anchor": "free",
         "domain": [
          0.35,
          0.6499999999999999
         ],
         "position": 0,
         "tickangle": 20,
         "tickfont": {
          "color": "rgb(107, 107, 107)",
          "size": 11
         },
         "titlefont": {
          "color": "rgb(107, 107, 107)",
          "size": 11
         }
        },
        "xaxis3": {
         "anchor": "free",
         "domain": [
          0.7,
          1
         ],
         "position": 0,
         "tickangle": 20,
         "tickfont": {
          "color": "rgb(107, 107, 107)",
          "size": 11
         },
         "titlefont": {
          "color": "rgb(107, 107, 107)",
          "size": 11
         }
        },
        "yaxis1": {
         "anchor": "x1",
         "domain": [
          0,
          1
         ],
         "showgrid": true,
         "showticklabels": false,
         "title": "Crime Incident",
         "titlefont": {
          "color": "rgb(107, 107, 107)",
          "size": 12
         }
        },
        "yaxis2": {
         "showgrid": true,
         "showticklabels": false,
         "title": "Crime Incident",
         "titlefont": {
          "color": "rgb(107, 107, 107)",
          "size": 12
         }
        },
        "yaxis3": {
         "showgrid": true,
         "showticklabels": false,
         "title": "Crime Incident",
         "titlefont": {
          "color": "rgb(107, 107, 107)",
          "size": 12
         }
        }
       }
      },
      "text/html": [
       "<div id=\"97a390ce-26a3-4feb-bd00-2f824c95ab40\" style=\"height: 400px; width: 850px;\" class=\"plotly-graph-div\"></div><script type=\"text/javascript\">require([\"plotly\"], function(Plotly) { window.PLOTLYENV=window.PLOTLYENV || {};window.PLOTLYENV.BASE_URL=\"https://plot.ly\";Plotly.newPlot(\"97a390ce-26a3-4feb-bd00-2f824c95ab40\", [{\"type\": \"bar\", \"x\": [\"day\", \"evening\", \"night\"], \"y\": [15326, 10196, 4666], \"name\": \"Burglary\", \"width\": 0.7, \"text\": [15326, 10196, 4666], \"textposition\": \"outside\", \"hoverinfo\": \"text\", \"outsidetextfont\": {\"size\": \"10\"}, \"cliponaxis\": false, \"marker\": {\"color\": \"rgba(31, 119, 180, 0.5)\", \"line\": {\"color\": \"rgba(31, 119, 180, 1.0)\", \"width\": 1}}, \"xaxis\": \"x1\", \"yaxis\": \"y1\"}, {\"type\": \"bar\", \"x\": [\"day\", \"evening\", \"night\"], \"y\": [14497, 10134, 4393], \"name\": \"Vehicle contents or parts theft\", \"width\": 0.7, \"text\": [14497, 10134, 4393], \"textposition\": \"outside\", \"hoverinfo\": \"text\", \"outsidetextfont\": {\"size\": \"10\"}, \"cliponaxis\": false, \"marker\": {\"color\": \"rgba(255, 127, 14, 0.5)\", \"line\": {\"color\": \"rgba(255, 127, 14, 1.0)\", \"width\": 1}}, \"xaxis\": \"x2\", \"yaxis\": \"y1\"}, {\"type\": \"bar\", \"x\": [\"day\", \"evening\", \"night\"], \"y\": [14173, 9601, 4334], \"name\": \"Misdemeanor\", \"width\": 0.7, \"text\": [14173, 9601, 4334], \"textposition\": \"outside\", \"hoverinfo\": \"text\", \"outsidetextfont\": {\"size\": \"10\"}, \"cliponaxis\": false, \"marker\": {\"color\": \"rgba(50, 171, 96, 0.5)\", \"line\": {\"color\": \"rgba(50, 171, 96, 1.0)\", \"width\": 1}}, \"xaxis\": \"x3\", \"yaxis\": \"y1\"}], {\"xaxis1\": {\"domain\": [0.0, 0.3], \"anchor\": \"y1\", \"titlefont\": {\"size\": 11, \"color\": \"rgb(107, 107, 107)\"}, \"tickfont\": {\"size\": 11, \"color\": \"rgb(107, 107, 107)\"}, \"tickangle\": 20}, \"yaxis1\": {\"domain\": [0.0, 1.0], \"anchor\": \"x1\", \"title\": \"Crime Incident\", \"titlefont\": {\"size\": 12, \"color\": \"rgb(107, 107, 107)\"}, \"showticklabels\": false, \"showgrid\": true}, \"xaxis2\": {\"domain\": [0.35, 0.6499999999999999], \"anchor\": \"free\", \"position\": 0.0, \"titlefont\": {\"size\": 11, \"color\": \"rgb(107, 107, 107)\"}, \"tickfont\": {\"size\": 11, \"color\": \"rgb(107, 107, 107)\"}, \"tickangle\": 20}, \"xaxis3\": {\"domain\": [0.7, 1.0], \"anchor\": \"free\", \"position\": 0.0, \"titlefont\": {\"size\": 11, \"color\": \"rgb(107, 107, 107)\"}, \"tickfont\": {\"size\": 11, \"color\": \"rgb(107, 107, 107)\"}, \"tickangle\": 20}, \"annotations\": [{\"y\": 1.0, \"xref\": \"paper\", \"x\": 0.15000000000000002, \"yref\": \"paper\", \"text\": \"<b>2015</b>\", \"showarrow\": false, \"font\": {\"size\": 12}, \"xanchor\": \"center\", \"yanchor\": \"bottom\"}, {\"y\": 1.0, \"xref\": \"paper\", \"x\": 0.5, \"yref\": \"paper\", \"text\": \"<b>2016</b>\", \"showarrow\": false, \"font\": {\"size\": 12}, \"xanchor\": \"center\", \"yanchor\": \"bottom\"}, {\"y\": 1.0, \"xref\": \"paper\", \"x\": 0.8500000000000001, \"yref\": \"paper\", \"text\": \"<b>2017</b>\", \"showarrow\": false, \"font\": {\"size\": 12}, \"xanchor\": \"center\", \"yanchor\": \"bottom\"}], \"yaxis2\": {\"title\": \"Crime Incident\", \"titlefont\": {\"size\": 12, \"color\": \"rgb(107, 107, 107)\"}, \"showticklabels\": false, \"showgrid\": true}, \"yaxis3\": {\"title\": \"Crime Incident\", \"titlefont\": {\"size\": 12, \"color\": \"rgb(107, 107, 107)\"}, \"showticklabels\": false, \"showgrid\": true}, \"height\": 400, \"width\": 850, \"showlegend\": false, \"autosize\": false, \"title\": \"<b>Crime incidents during the days, evenings and nights in 2015, 2016 and 2017</b>\", \"titlefont\": {\"size\": 14}, \"paper_bgcolor\": \"rgba(245, 246, 249, 1)\", \"plot_bgcolor\": \"rgba(245, 246, 249, 1)\"}, {\"showLink\": true, \"linkText\": \"Export to plot.ly\"})});</script>"
      ],
      "text/vnd.plotly.v1+html": [
       "<div id=\"97a390ce-26a3-4feb-bd00-2f824c95ab40\" style=\"height: 400px; width: 850px;\" class=\"plotly-graph-div\"></div><script type=\"text/javascript\">require([\"plotly\"], function(Plotly) { window.PLOTLYENV=window.PLOTLYENV || {};window.PLOTLYENV.BASE_URL=\"https://plot.ly\";Plotly.newPlot(\"97a390ce-26a3-4feb-bd00-2f824c95ab40\", [{\"type\": \"bar\", \"x\": [\"day\", \"evening\", \"night\"], \"y\": [15326, 10196, 4666], \"name\": \"Burglary\", \"width\": 0.7, \"text\": [15326, 10196, 4666], \"textposition\": \"outside\", \"hoverinfo\": \"text\", \"outsidetextfont\": {\"size\": \"10\"}, \"cliponaxis\": false, \"marker\": {\"color\": \"rgba(31, 119, 180, 0.5)\", \"line\": {\"color\": \"rgba(31, 119, 180, 1.0)\", \"width\": 1}}, \"xaxis\": \"x1\", \"yaxis\": \"y1\"}, {\"type\": \"bar\", \"x\": [\"day\", \"evening\", \"night\"], \"y\": [14497, 10134, 4393], \"name\": \"Vehicle contents or parts theft\", \"width\": 0.7, \"text\": [14497, 10134, 4393], \"textposition\": \"outside\", \"hoverinfo\": \"text\", \"outsidetextfont\": {\"size\": \"10\"}, \"cliponaxis\": false, \"marker\": {\"color\": \"rgba(255, 127, 14, 0.5)\", \"line\": {\"color\": \"rgba(255, 127, 14, 1.0)\", \"width\": 1}}, \"xaxis\": \"x2\", \"yaxis\": \"y1\"}, {\"type\": \"bar\", \"x\": [\"day\", \"evening\", \"night\"], \"y\": [14173, 9601, 4334], \"name\": \"Misdemeanor\", \"width\": 0.7, \"text\": [14173, 9601, 4334], \"textposition\": \"outside\", \"hoverinfo\": \"text\", \"outsidetextfont\": {\"size\": \"10\"}, \"cliponaxis\": false, \"marker\": {\"color\": \"rgba(50, 171, 96, 0.5)\", \"line\": {\"color\": \"rgba(50, 171, 96, 1.0)\", \"width\": 1}}, \"xaxis\": \"x3\", \"yaxis\": \"y1\"}], {\"xaxis1\": {\"domain\": [0.0, 0.3], \"anchor\": \"y1\", \"titlefont\": {\"size\": 11, \"color\": \"rgb(107, 107, 107)\"}, \"tickfont\": {\"size\": 11, \"color\": \"rgb(107, 107, 107)\"}, \"tickangle\": 20}, \"yaxis1\": {\"domain\": [0.0, 1.0], \"anchor\": \"x1\", \"title\": \"Crime Incident\", \"titlefont\": {\"size\": 12, \"color\": \"rgb(107, 107, 107)\"}, \"showticklabels\": false, \"showgrid\": true}, \"xaxis2\": {\"domain\": [0.35, 0.6499999999999999], \"anchor\": \"free\", \"position\": 0.0, \"titlefont\": {\"size\": 11, \"color\": \"rgb(107, 107, 107)\"}, \"tickfont\": {\"size\": 11, \"color\": \"rgb(107, 107, 107)\"}, \"tickangle\": 20}, \"xaxis3\": {\"domain\": [0.7, 1.0], \"anchor\": \"free\", \"position\": 0.0, \"titlefont\": {\"size\": 11, \"color\": \"rgb(107, 107, 107)\"}, \"tickfont\": {\"size\": 11, \"color\": \"rgb(107, 107, 107)\"}, \"tickangle\": 20}, \"annotations\": [{\"y\": 1.0, \"xref\": \"paper\", \"x\": 0.15000000000000002, \"yref\": \"paper\", \"text\": \"<b>2015</b>\", \"showarrow\": false, \"font\": {\"size\": 12}, \"xanchor\": \"center\", \"yanchor\": \"bottom\"}, {\"y\": 1.0, \"xref\": \"paper\", \"x\": 0.5, \"yref\": \"paper\", \"text\": \"<b>2016</b>\", \"showarrow\": false, \"font\": {\"size\": 12}, \"xanchor\": \"center\", \"yanchor\": \"bottom\"}, {\"y\": 1.0, \"xref\": \"paper\", \"x\": 0.8500000000000001, \"yref\": \"paper\", \"text\": \"<b>2017</b>\", \"showarrow\": false, \"font\": {\"size\": 12}, \"xanchor\": \"center\", \"yanchor\": \"bottom\"}], \"yaxis2\": {\"title\": \"Crime Incident\", \"titlefont\": {\"size\": 12, \"color\": \"rgb(107, 107, 107)\"}, \"showticklabels\": false, \"showgrid\": true}, \"yaxis3\": {\"title\": \"Crime Incident\", \"titlefont\": {\"size\": 12, \"color\": \"rgb(107, 107, 107)\"}, \"showticklabels\": false, \"showgrid\": true}, \"height\": 400, \"width\": 850, \"showlegend\": false, \"autosize\": false, \"title\": \"<b>Crime incidents during the days, evenings and nights in 2015, 2016 and 2017</b>\", \"titlefont\": {\"size\": 14}, \"paper_bgcolor\": \"rgba(245, 246, 249, 1)\", \"plot_bgcolor\": \"rgba(245, 246, 249, 1)\"}, {\"showLink\": true, \"linkText\": \"Export to plot.ly\"})});</script>"
      ]
     },
     "metadata": {},
     "output_type": "display_data"
    }
   ],
   "source": [
    "# summarize and sort data\n",
    "crime_time = xdf.groupby(['YEAR', 'QUART']).agg({'QUART': 'count'}).rename(columns={'QUART':'COUNT'}).reset_index()\n",
    "\n",
    "tot =[crime_time[crime_time['YEAR']==year].sort_values('COUNT', ascending=False) for year in yearlist]\n",
    "timedf = pd.concat(tot, ignore_index=True)\n",
    "\n",
    "# display result in crosstab\n",
    "display(pd.crosstab(index=timedf['YEAR'], columns=timedf['QUART'], values=timedf['COUNT'], aggfunc=sum))\n",
    "\n",
    "# define chart data and plot\n",
    "data = timedf\n",
    "chdata = {'trace_data':data, 'x':'QUART', 'y':'COUNT'}\n",
    "chlayout= {'height':400, 'width':850, 'title':\"<b>Crime incidents during the days, evenings and nights in 2015, 2016 and 2017</b>\", 'yaxistitle':'Crime Incident','tickangle':20}\n",
    "\n",
    "plotchart(chdata, chlayout, titlelist, yearlist, subtitlelist=yearlist)"
   ]
  },
  {
   "cell_type": "markdown",
   "metadata": {},
   "source": [
    "**Observation:**\n",
    "* *Crimes committed during the days (jour) in each year were about twice the total crimes registered in the evenings (soir) and in the nights (nuit) for the same year. However daytime crimes recorded 5.4% decrease from 2015 to 2016 and 2.2% decrease between 2016 and 2017.*"
   ]
  },
  {
   "cell_type": "markdown",
   "metadata": {},
   "source": [
    "###  Which top 5 police stations (PDQ) got the most crime complaints in 2015, 2016 and 2017?"
   ]
  },
  {
   "cell_type": "code",
   "execution_count": 20,
   "metadata": {},
   "outputs": [
    {
     "data": {
      "application/vnd.plotly.v1+json": {
       "data": [
        {
         "cliponaxis": false,
         "hoverinfo": "text",
         "marker": {
          "color": "rgba(31, 119, 180, 0.5)",
          "line": {
           "color": "rgba(31, 119, 180, 1.0)",
           "width": 1
          }
         },
         "name": "Burglary",
         "outsidetextfont": {
          "size": "10"
         },
         "text": [
          1862,
          1522,
          1429,
          1394,
          1296
         ],
         "textposition": "outside",
         "type": "bar",
         "width": 0.7,
         "x": [
          "PDQ 38",
          "PDQ 7",
          "PDQ 48",
          "PDQ 39",
          "PDQ 42"
         ],
         "xaxis": "x1",
         "y": [
          1862,
          1522,
          1429,
          1394,
          1296
         ],
         "yaxis": "y1"
        },
        {
         "cliponaxis": false,
         "hoverinfo": "text",
         "marker": {
          "color": "rgba(255, 127, 14, 0.5)",
          "line": {
           "color": "rgba(255, 127, 14, 1.0)",
           "width": 1
          }
         },
         "name": "Vehicle contents or parts theft",
         "outsidetextfont": {
          "size": "10"
         },
         "text": [
          2156,
          1426,
          1366,
          1299,
          1267
         ],
         "textposition": "outside",
         "type": "bar",
         "width": 0.7,
         "x": [
          "PDQ 38",
          "PDQ 7",
          "PDQ 23",
          "PDQ 39",
          "PDQ 48"
         ],
         "xaxis": "x2",
         "y": [
          2156,
          1426,
          1366,
          1299,
          1267
         ],
         "yaxis": "y1"
        },
        {
         "cliponaxis": false,
         "hoverinfo": "text",
         "marker": {
          "color": "rgba(50, 171, 96, 0.5)",
          "line": {
           "color": "rgba(50, 171, 96, 1.0)",
           "width": 1
          }
         },
         "name": "Misdemeanor",
         "outsidetextfont": {
          "size": "10"
         },
         "text": [
          2111,
          1485,
          1457,
          1345,
          1311
         ],
         "textposition": "outside",
         "type": "bar",
         "width": 0.7,
         "x": [
          "PDQ 38",
          "PDQ 48",
          "PDQ 7",
          "PDQ 21",
          "PDQ 23"
         ],
         "xaxis": "x3",
         "y": [
          2111,
          1485,
          1457,
          1345,
          1311
         ],
         "yaxis": "y1"
        }
       ],
       "layout": {
        "annotations": [
         {
          "font": {
           "size": 12
          },
          "showarrow": false,
          "text": "<b>2015</b>",
          "x": 0.15000000000000002,
          "xanchor": "center",
          "xref": "paper",
          "y": 1,
          "yanchor": "bottom",
          "yref": "paper"
         },
         {
          "font": {
           "size": 12
          },
          "showarrow": false,
          "text": "<b>2016</b>",
          "x": 0.5,
          "xanchor": "center",
          "xref": "paper",
          "y": 1,
          "yanchor": "bottom",
          "yref": "paper"
         },
         {
          "font": {
           "size": 12
          },
          "showarrow": false,
          "text": "<b>2017</b>",
          "x": 0.8500000000000001,
          "xanchor": "center",
          "xref": "paper",
          "y": 1,
          "yanchor": "bottom",
          "yref": "paper"
         }
        ],
        "autosize": false,
        "height": 400,
        "paper_bgcolor": "rgba(245, 246, 249, 1)",
        "plot_bgcolor": "rgba(245, 246, 249, 1)",
        "showlegend": false,
        "title": "<b>Top 5 police stations (PDQ) with the highest crime complaints registered in 2015, 2016 and 2017</b>",
        "titlefont": {
         "size": 14
        },
        "width": 850,
        "xaxis1": {
         "anchor": "y1",
         "domain": [
          0,
          0.3
         ],
         "tickangle": 20,
         "tickfont": {
          "color": "rgb(107, 107, 107)",
          "size": 11
         },
         "titlefont": {
          "color": "rgb(107, 107, 107)",
          "size": 11
         }
        },
        "xaxis2": {
         "anchor": "free",
         "domain": [
          0.35,
          0.6499999999999999
         ],
         "position": 0,
         "tickangle": 20,
         "tickfont": {
          "color": "rgb(107, 107, 107)",
          "size": 11
         },
         "titlefont": {
          "color": "rgb(107, 107, 107)",
          "size": 11
         }
        },
        "xaxis3": {
         "anchor": "free",
         "domain": [
          0.7,
          1
         ],
         "position": 0,
         "tickangle": 20,
         "tickfont": {
          "color": "rgb(107, 107, 107)",
          "size": 11
         },
         "titlefont": {
          "color": "rgb(107, 107, 107)",
          "size": 11
         }
        },
        "yaxis1": {
         "anchor": "x1",
         "domain": [
          0,
          1
         ],
         "showgrid": true,
         "showticklabels": false,
         "title": "Crime Incident",
         "titlefont": {
          "color": "rgb(107, 107, 107)",
          "size": 12
         }
        },
        "yaxis2": {
         "showgrid": true,
         "showticklabels": false,
         "title": "Crime Incident",
         "titlefont": {
          "color": "rgb(107, 107, 107)",
          "size": 12
         }
        },
        "yaxis3": {
         "showgrid": true,
         "showticklabels": false,
         "title": "Crime Incident",
         "titlefont": {
          "color": "rgb(107, 107, 107)",
          "size": 12
         }
        }
       }
      },
      "text/html": [
       "<div id=\"0aa7f172-d956-4eea-8112-aacb6aaab537\" style=\"height: 400px; width: 850px;\" class=\"plotly-graph-div\"></div><script type=\"text/javascript\">require([\"plotly\"], function(Plotly) { window.PLOTLYENV=window.PLOTLYENV || {};window.PLOTLYENV.BASE_URL=\"https://plot.ly\";Plotly.newPlot(\"0aa7f172-d956-4eea-8112-aacb6aaab537\", [{\"type\": \"bar\", \"x\": [\"PDQ 38\", \"PDQ 7\", \"PDQ 48\", \"PDQ 39\", \"PDQ 42\"], \"y\": [1862, 1522, 1429, 1394, 1296], \"name\": \"Burglary\", \"width\": 0.7, \"text\": [1862, 1522, 1429, 1394, 1296], \"textposition\": \"outside\", \"hoverinfo\": \"text\", \"outsidetextfont\": {\"size\": \"10\"}, \"cliponaxis\": false, \"marker\": {\"color\": \"rgba(31, 119, 180, 0.5)\", \"line\": {\"color\": \"rgba(31, 119, 180, 1.0)\", \"width\": 1}}, \"xaxis\": \"x1\", \"yaxis\": \"y1\"}, {\"type\": \"bar\", \"x\": [\"PDQ 38\", \"PDQ 7\", \"PDQ 23\", \"PDQ 39\", \"PDQ 48\"], \"y\": [2156, 1426, 1366, 1299, 1267], \"name\": \"Vehicle contents or parts theft\", \"width\": 0.7, \"text\": [2156, 1426, 1366, 1299, 1267], \"textposition\": \"outside\", \"hoverinfo\": \"text\", \"outsidetextfont\": {\"size\": \"10\"}, \"cliponaxis\": false, \"marker\": {\"color\": \"rgba(255, 127, 14, 0.5)\", \"line\": {\"color\": \"rgba(255, 127, 14, 1.0)\", \"width\": 1}}, \"xaxis\": \"x2\", \"yaxis\": \"y1\"}, {\"type\": \"bar\", \"x\": [\"PDQ 38\", \"PDQ 48\", \"PDQ 7\", \"PDQ 21\", \"PDQ 23\"], \"y\": [2111, 1485, 1457, 1345, 1311], \"name\": \"Misdemeanor\", \"width\": 0.7, \"text\": [2111, 1485, 1457, 1345, 1311], \"textposition\": \"outside\", \"hoverinfo\": \"text\", \"outsidetextfont\": {\"size\": \"10\"}, \"cliponaxis\": false, \"marker\": {\"color\": \"rgba(50, 171, 96, 0.5)\", \"line\": {\"color\": \"rgba(50, 171, 96, 1.0)\", \"width\": 1}}, \"xaxis\": \"x3\", \"yaxis\": \"y1\"}], {\"xaxis1\": {\"domain\": [0.0, 0.3], \"anchor\": \"y1\", \"titlefont\": {\"size\": 11, \"color\": \"rgb(107, 107, 107)\"}, \"tickfont\": {\"size\": 11, \"color\": \"rgb(107, 107, 107)\"}, \"tickangle\": 20}, \"yaxis1\": {\"domain\": [0.0, 1.0], \"anchor\": \"x1\", \"title\": \"Crime Incident\", \"titlefont\": {\"size\": 12, \"color\": \"rgb(107, 107, 107)\"}, \"showticklabels\": false, \"showgrid\": true}, \"xaxis2\": {\"domain\": [0.35, 0.6499999999999999], \"anchor\": \"free\", \"position\": 0.0, \"titlefont\": {\"size\": 11, \"color\": \"rgb(107, 107, 107)\"}, \"tickfont\": {\"size\": 11, \"color\": \"rgb(107, 107, 107)\"}, \"tickangle\": 20}, \"xaxis3\": {\"domain\": [0.7, 1.0], \"anchor\": \"free\", \"position\": 0.0, \"titlefont\": {\"size\": 11, \"color\": \"rgb(107, 107, 107)\"}, \"tickfont\": {\"size\": 11, \"color\": \"rgb(107, 107, 107)\"}, \"tickangle\": 20}, \"annotations\": [{\"y\": 1.0, \"xref\": \"paper\", \"x\": 0.15000000000000002, \"yref\": \"paper\", \"text\": \"<b>2015</b>\", \"showarrow\": false, \"font\": {\"size\": 12}, \"xanchor\": \"center\", \"yanchor\": \"bottom\"}, {\"y\": 1.0, \"xref\": \"paper\", \"x\": 0.5, \"yref\": \"paper\", \"text\": \"<b>2016</b>\", \"showarrow\": false, \"font\": {\"size\": 12}, \"xanchor\": \"center\", \"yanchor\": \"bottom\"}, {\"y\": 1.0, \"xref\": \"paper\", \"x\": 0.8500000000000001, \"yref\": \"paper\", \"text\": \"<b>2017</b>\", \"showarrow\": false, \"font\": {\"size\": 12}, \"xanchor\": \"center\", \"yanchor\": \"bottom\"}], \"yaxis2\": {\"title\": \"Crime Incident\", \"titlefont\": {\"size\": 12, \"color\": \"rgb(107, 107, 107)\"}, \"showticklabels\": false, \"showgrid\": true}, \"yaxis3\": {\"title\": \"Crime Incident\", \"titlefont\": {\"size\": 12, \"color\": \"rgb(107, 107, 107)\"}, \"showticklabels\": false, \"showgrid\": true}, \"height\": 400, \"width\": 850, \"showlegend\": false, \"autosize\": false, \"title\": \"<b>Top 5 police stations (PDQ) with the highest crime complaints registered in 2015, 2016 and 2017</b>\", \"titlefont\": {\"size\": 14}, \"paper_bgcolor\": \"rgba(245, 246, 249, 1)\", \"plot_bgcolor\": \"rgba(245, 246, 249, 1)\"}, {\"showLink\": true, \"linkText\": \"Export to plot.ly\"})});</script>"
      ],
      "text/vnd.plotly.v1+html": [
       "<div id=\"0aa7f172-d956-4eea-8112-aacb6aaab537\" style=\"height: 400px; width: 850px;\" class=\"plotly-graph-div\"></div><script type=\"text/javascript\">require([\"plotly\"], function(Plotly) { window.PLOTLYENV=window.PLOTLYENV || {};window.PLOTLYENV.BASE_URL=\"https://plot.ly\";Plotly.newPlot(\"0aa7f172-d956-4eea-8112-aacb6aaab537\", [{\"type\": \"bar\", \"x\": [\"PDQ 38\", \"PDQ 7\", \"PDQ 48\", \"PDQ 39\", \"PDQ 42\"], \"y\": [1862, 1522, 1429, 1394, 1296], \"name\": \"Burglary\", \"width\": 0.7, \"text\": [1862, 1522, 1429, 1394, 1296], \"textposition\": \"outside\", \"hoverinfo\": \"text\", \"outsidetextfont\": {\"size\": \"10\"}, \"cliponaxis\": false, \"marker\": {\"color\": \"rgba(31, 119, 180, 0.5)\", \"line\": {\"color\": \"rgba(31, 119, 180, 1.0)\", \"width\": 1}}, \"xaxis\": \"x1\", \"yaxis\": \"y1\"}, {\"type\": \"bar\", \"x\": [\"PDQ 38\", \"PDQ 7\", \"PDQ 23\", \"PDQ 39\", \"PDQ 48\"], \"y\": [2156, 1426, 1366, 1299, 1267], \"name\": \"Vehicle contents or parts theft\", \"width\": 0.7, \"text\": [2156, 1426, 1366, 1299, 1267], \"textposition\": \"outside\", \"hoverinfo\": \"text\", \"outsidetextfont\": {\"size\": \"10\"}, \"cliponaxis\": false, \"marker\": {\"color\": \"rgba(255, 127, 14, 0.5)\", \"line\": {\"color\": \"rgba(255, 127, 14, 1.0)\", \"width\": 1}}, \"xaxis\": \"x2\", \"yaxis\": \"y1\"}, {\"type\": \"bar\", \"x\": [\"PDQ 38\", \"PDQ 48\", \"PDQ 7\", \"PDQ 21\", \"PDQ 23\"], \"y\": [2111, 1485, 1457, 1345, 1311], \"name\": \"Misdemeanor\", \"width\": 0.7, \"text\": [2111, 1485, 1457, 1345, 1311], \"textposition\": \"outside\", \"hoverinfo\": \"text\", \"outsidetextfont\": {\"size\": \"10\"}, \"cliponaxis\": false, \"marker\": {\"color\": \"rgba(50, 171, 96, 0.5)\", \"line\": {\"color\": \"rgba(50, 171, 96, 1.0)\", \"width\": 1}}, \"xaxis\": \"x3\", \"yaxis\": \"y1\"}], {\"xaxis1\": {\"domain\": [0.0, 0.3], \"anchor\": \"y1\", \"titlefont\": {\"size\": 11, \"color\": \"rgb(107, 107, 107)\"}, \"tickfont\": {\"size\": 11, \"color\": \"rgb(107, 107, 107)\"}, \"tickangle\": 20}, \"yaxis1\": {\"domain\": [0.0, 1.0], \"anchor\": \"x1\", \"title\": \"Crime Incident\", \"titlefont\": {\"size\": 12, \"color\": \"rgb(107, 107, 107)\"}, \"showticklabels\": false, \"showgrid\": true}, \"xaxis2\": {\"domain\": [0.35, 0.6499999999999999], \"anchor\": \"free\", \"position\": 0.0, \"titlefont\": {\"size\": 11, \"color\": \"rgb(107, 107, 107)\"}, \"tickfont\": {\"size\": 11, \"color\": \"rgb(107, 107, 107)\"}, \"tickangle\": 20}, \"xaxis3\": {\"domain\": [0.7, 1.0], \"anchor\": \"free\", \"position\": 0.0, \"titlefont\": {\"size\": 11, \"color\": \"rgb(107, 107, 107)\"}, \"tickfont\": {\"size\": 11, \"color\": \"rgb(107, 107, 107)\"}, \"tickangle\": 20}, \"annotations\": [{\"y\": 1.0, \"xref\": \"paper\", \"x\": 0.15000000000000002, \"yref\": \"paper\", \"text\": \"<b>2015</b>\", \"showarrow\": false, \"font\": {\"size\": 12}, \"xanchor\": \"center\", \"yanchor\": \"bottom\"}, {\"y\": 1.0, \"xref\": \"paper\", \"x\": 0.5, \"yref\": \"paper\", \"text\": \"<b>2016</b>\", \"showarrow\": false, \"font\": {\"size\": 12}, \"xanchor\": \"center\", \"yanchor\": \"bottom\"}, {\"y\": 1.0, \"xref\": \"paper\", \"x\": 0.8500000000000001, \"yref\": \"paper\", \"text\": \"<b>2017</b>\", \"showarrow\": false, \"font\": {\"size\": 12}, \"xanchor\": \"center\", \"yanchor\": \"bottom\"}], \"yaxis2\": {\"title\": \"Crime Incident\", \"titlefont\": {\"size\": 12, \"color\": \"rgb(107, 107, 107)\"}, \"showticklabels\": false, \"showgrid\": true}, \"yaxis3\": {\"title\": \"Crime Incident\", \"titlefont\": {\"size\": 12, \"color\": \"rgb(107, 107, 107)\"}, \"showticklabels\": false, \"showgrid\": true}, \"height\": 400, \"width\": 850, \"showlegend\": false, \"autosize\": false, \"title\": \"<b>Top 5 police stations (PDQ) with the highest crime complaints registered in 2015, 2016 and 2017</b>\", \"titlefont\": {\"size\": 14}, \"paper_bgcolor\": \"rgba(245, 246, 249, 1)\", \"plot_bgcolor\": \"rgba(245, 246, 249, 1)\"}, {\"showLink\": true, \"linkText\": \"Export to plot.ly\"})});</script>"
      ]
     },
     "metadata": {},
     "output_type": "display_data"
    }
   ],
   "source": [
    "# summarize and sort data\n",
    "crime_time = xdf.groupby(['YEAR', 'PDQ']).agg({'PDQ': 'count'}).rename(columns={'PDQ':'COUNT'}).reset_index()\n",
    "\n",
    "tot =[crime_time[crime_time['YEAR']==year].sort_values('COUNT', ascending=False).iloc[:5] for year in yearlist]\n",
    "pdqdf = pd.concat(tot, ignore_index=True)\n",
    "\n",
    "# define chart data and plot\n",
    "data = pdqdf\n",
    "chdata = {'trace_data':data, 'x':'PDQ', 'y':'COUNT'}\n",
    "chlayout= {'height':400, 'width':850, 'title':\"<b>Top 5 police stations (PDQ) with the highest crime complaints registered in 2015, 2016 and 2017</b>\", 'yaxistitle':'Crime Incident','tickangle':20}\n",
    "\n",
    "plotchart(chdata, chlayout, titlelist, yearlist, subtitlelist=yearlist)"
   ]
  },
  {
   "cell_type": "markdown",
   "metadata": {},
   "source": [
    "**Observation:**\n",
    "* *PDQ38 and PDQ7 are the prominent among the top stations that registered most crime incidents in 2015, 2016 and 2017.*"
   ]
  },
  {
   "cell_type": "markdown",
   "metadata": {},
   "source": [
    "### Which are the top 3 PDQs that got least crime complaints in 2015, 2016 and 2017?"
   ]
  },
  {
   "cell_type": "code",
   "execution_count": 21,
   "metadata": {},
   "outputs": [
    {
     "data": {
      "application/vnd.plotly.v1+json": {
       "data": [
        {
         "cliponaxis": false,
         "hoverinfo": "text",
         "marker": {
          "color": "rgba(31, 119, 180, 0.5)",
          "line": {
           "color": "rgba(31, 119, 180, 1.0)",
           "width": 1
          }
         },
         "name": "Burglary",
         "outsidetextfont": {
          "size": "10"
         },
         "text": [
          1,
          16,
          220
         ],
         "textposition": "outside",
         "type": "bar",
         "width": 0.7,
         "x": [
          "PDQ 0",
          "PDQ 55",
          "PDQ 50"
         ],
         "xaxis": "x1",
         "y": [
          1,
          16,
          220
         ],
         "yaxis": "y1"
        },
        {
         "cliponaxis": false,
         "hoverinfo": "text",
         "marker": {
          "color": "rgba(255, 127, 14, 0.5)",
          "line": {
           "color": "rgba(255, 127, 14, 1.0)",
           "width": 1
          }
         },
         "name": "Vehicle contents or parts theft",
         "outsidetextfont": {
          "size": "10"
         },
         "text": [
          11,
          12,
          179
         ],
         "textposition": "outside",
         "type": "bar",
         "width": 0.7,
         "x": [
          "PDQ 55",
          "PDQ 0",
          "PDQ 50"
         ],
         "xaxis": "x2",
         "y": [
          11,
          12,
          179
         ],
         "yaxis": "y1"
        },
        {
         "cliponaxis": false,
         "hoverinfo": "text",
         "marker": {
          "color": "rgba(50, 171, 96, 0.5)",
          "line": {
           "color": "rgba(50, 171, 96, 1.0)",
           "width": 1
          }
         },
         "name": "Misdemeanor",
         "outsidetextfont": {
          "size": "10"
         },
         "text": [
          5,
          6,
          164
         ],
         "textposition": "outside",
         "type": "bar",
         "width": 0.7,
         "x": [
          "PDQ 55",
          "PDQ 0",
          "PDQ 50"
         ],
         "xaxis": "x3",
         "y": [
          5,
          6,
          164
         ],
         "yaxis": "y1"
        }
       ],
       "layout": {
        "annotations": [
         {
          "font": {
           "size": 12
          },
          "showarrow": false,
          "text": "<b>2015</b>",
          "x": 0.15000000000000002,
          "xanchor": "center",
          "xref": "paper",
          "y": 1,
          "yanchor": "bottom",
          "yref": "paper"
         },
         {
          "font": {
           "size": 12
          },
          "showarrow": false,
          "text": "<b>2016</b>",
          "x": 0.5,
          "xanchor": "center",
          "xref": "paper",
          "y": 1,
          "yanchor": "bottom",
          "yref": "paper"
         },
         {
          "font": {
           "size": 12
          },
          "showarrow": false,
          "text": "<b>2017</b>",
          "x": 0.8500000000000001,
          "xanchor": "center",
          "xref": "paper",
          "y": 1,
          "yanchor": "bottom",
          "yref": "paper"
         }
        ],
        "autosize": false,
        "height": 400,
        "paper_bgcolor": "rgba(245, 246, 249, 1)",
        "plot_bgcolor": "rgba(245, 246, 249, 1)",
        "showlegend": false,
        "title": "<b>Top 5 police stations (PDQ) with the lowest crime complaints registered in 2015, 2016 and 2017</b>",
        "titlefont": {
         "size": 14
        },
        "width": 850,
        "xaxis1": {
         "anchor": "y1",
         "domain": [
          0,
          0.3
         ],
         "tickangle": 20,
         "tickfont": {
          "color": "rgb(107, 107, 107)",
          "size": 11
         },
         "titlefont": {
          "color": "rgb(107, 107, 107)",
          "size": 11
         }
        },
        "xaxis2": {
         "anchor": "free",
         "domain": [
          0.35,
          0.6499999999999999
         ],
         "position": 0,
         "tickangle": 20,
         "tickfont": {
          "color": "rgb(107, 107, 107)",
          "size": 11
         },
         "titlefont": {
          "color": "rgb(107, 107, 107)",
          "size": 11
         }
        },
        "xaxis3": {
         "anchor": "free",
         "domain": [
          0.7,
          1
         ],
         "position": 0,
         "tickangle": 20,
         "tickfont": {
          "color": "rgb(107, 107, 107)",
          "size": 11
         },
         "titlefont": {
          "color": "rgb(107, 107, 107)",
          "size": 11
         }
        },
        "yaxis1": {
         "anchor": "x1",
         "domain": [
          0,
          1
         ],
         "showgrid": true,
         "showticklabels": false,
         "title": "Crime Incident",
         "titlefont": {
          "color": "rgb(107, 107, 107)",
          "size": 12
         }
        },
        "yaxis2": {
         "showgrid": true,
         "showticklabels": false,
         "title": "Crime Incident",
         "titlefont": {
          "color": "rgb(107, 107, 107)",
          "size": 12
         }
        },
        "yaxis3": {
         "showgrid": true,
         "showticklabels": false,
         "title": "Crime Incident",
         "titlefont": {
          "color": "rgb(107, 107, 107)",
          "size": 12
         }
        }
       }
      },
      "text/html": [
       "<div id=\"3ab7036a-8b83-4a6f-af54-9c9c87e4308d\" style=\"height: 400px; width: 850px;\" class=\"plotly-graph-div\"></div><script type=\"text/javascript\">require([\"plotly\"], function(Plotly) { window.PLOTLYENV=window.PLOTLYENV || {};window.PLOTLYENV.BASE_URL=\"https://plot.ly\";Plotly.newPlot(\"3ab7036a-8b83-4a6f-af54-9c9c87e4308d\", [{\"type\": \"bar\", \"x\": [\"PDQ 0\", \"PDQ 55\", \"PDQ 50\"], \"y\": [1, 16, 220], \"name\": \"Burglary\", \"width\": 0.7, \"text\": [1, 16, 220], \"textposition\": \"outside\", \"hoverinfo\": \"text\", \"outsidetextfont\": {\"size\": \"10\"}, \"cliponaxis\": false, \"marker\": {\"color\": \"rgba(31, 119, 180, 0.5)\", \"line\": {\"color\": \"rgba(31, 119, 180, 1.0)\", \"width\": 1}}, \"xaxis\": \"x1\", \"yaxis\": \"y1\"}, {\"type\": \"bar\", \"x\": [\"PDQ 55\", \"PDQ 0\", \"PDQ 50\"], \"y\": [11, 12, 179], \"name\": \"Vehicle contents or parts theft\", \"width\": 0.7, \"text\": [11, 12, 179], \"textposition\": \"outside\", \"hoverinfo\": \"text\", \"outsidetextfont\": {\"size\": \"10\"}, \"cliponaxis\": false, \"marker\": {\"color\": \"rgba(255, 127, 14, 0.5)\", \"line\": {\"color\": \"rgba(255, 127, 14, 1.0)\", \"width\": 1}}, \"xaxis\": \"x2\", \"yaxis\": \"y1\"}, {\"type\": \"bar\", \"x\": [\"PDQ 55\", \"PDQ 0\", \"PDQ 50\"], \"y\": [5, 6, 164], \"name\": \"Misdemeanor\", \"width\": 0.7, \"text\": [5, 6, 164], \"textposition\": \"outside\", \"hoverinfo\": \"text\", \"outsidetextfont\": {\"size\": \"10\"}, \"cliponaxis\": false, \"marker\": {\"color\": \"rgba(50, 171, 96, 0.5)\", \"line\": {\"color\": \"rgba(50, 171, 96, 1.0)\", \"width\": 1}}, \"xaxis\": \"x3\", \"yaxis\": \"y1\"}], {\"xaxis1\": {\"domain\": [0.0, 0.3], \"anchor\": \"y1\", \"titlefont\": {\"size\": 11, \"color\": \"rgb(107, 107, 107)\"}, \"tickfont\": {\"size\": 11, \"color\": \"rgb(107, 107, 107)\"}, \"tickangle\": 20}, \"yaxis1\": {\"domain\": [0.0, 1.0], \"anchor\": \"x1\", \"title\": \"Crime Incident\", \"titlefont\": {\"size\": 12, \"color\": \"rgb(107, 107, 107)\"}, \"showticklabels\": false, \"showgrid\": true}, \"xaxis2\": {\"domain\": [0.35, 0.6499999999999999], \"anchor\": \"free\", \"position\": 0.0, \"titlefont\": {\"size\": 11, \"color\": \"rgb(107, 107, 107)\"}, \"tickfont\": {\"size\": 11, \"color\": \"rgb(107, 107, 107)\"}, \"tickangle\": 20}, \"xaxis3\": {\"domain\": [0.7, 1.0], \"anchor\": \"free\", \"position\": 0.0, \"titlefont\": {\"size\": 11, \"color\": \"rgb(107, 107, 107)\"}, \"tickfont\": {\"size\": 11, \"color\": \"rgb(107, 107, 107)\"}, \"tickangle\": 20}, \"annotations\": [{\"y\": 1.0, \"xref\": \"paper\", \"x\": 0.15000000000000002, \"yref\": \"paper\", \"text\": \"<b>2015</b>\", \"showarrow\": false, \"font\": {\"size\": 12}, \"xanchor\": \"center\", \"yanchor\": \"bottom\"}, {\"y\": 1.0, \"xref\": \"paper\", \"x\": 0.5, \"yref\": \"paper\", \"text\": \"<b>2016</b>\", \"showarrow\": false, \"font\": {\"size\": 12}, \"xanchor\": \"center\", \"yanchor\": \"bottom\"}, {\"y\": 1.0, \"xref\": \"paper\", \"x\": 0.8500000000000001, \"yref\": \"paper\", \"text\": \"<b>2017</b>\", \"showarrow\": false, \"font\": {\"size\": 12}, \"xanchor\": \"center\", \"yanchor\": \"bottom\"}], \"yaxis2\": {\"title\": \"Crime Incident\", \"titlefont\": {\"size\": 12, \"color\": \"rgb(107, 107, 107)\"}, \"showticklabels\": false, \"showgrid\": true}, \"yaxis3\": {\"title\": \"Crime Incident\", \"titlefont\": {\"size\": 12, \"color\": \"rgb(107, 107, 107)\"}, \"showticklabels\": false, \"showgrid\": true}, \"height\": 400, \"width\": 850, \"showlegend\": false, \"autosize\": false, \"title\": \"<b>Top 5 police stations (PDQ) with the lowest crime complaints registered in 2015, 2016 and 2017</b>\", \"titlefont\": {\"size\": 14}, \"paper_bgcolor\": \"rgba(245, 246, 249, 1)\", \"plot_bgcolor\": \"rgba(245, 246, 249, 1)\"}, {\"showLink\": true, \"linkText\": \"Export to plot.ly\"})});</script>"
      ],
      "text/vnd.plotly.v1+html": [
       "<div id=\"3ab7036a-8b83-4a6f-af54-9c9c87e4308d\" style=\"height: 400px; width: 850px;\" class=\"plotly-graph-div\"></div><script type=\"text/javascript\">require([\"plotly\"], function(Plotly) { window.PLOTLYENV=window.PLOTLYENV || {};window.PLOTLYENV.BASE_URL=\"https://plot.ly\";Plotly.newPlot(\"3ab7036a-8b83-4a6f-af54-9c9c87e4308d\", [{\"type\": \"bar\", \"x\": [\"PDQ 0\", \"PDQ 55\", \"PDQ 50\"], \"y\": [1, 16, 220], \"name\": \"Burglary\", \"width\": 0.7, \"text\": [1, 16, 220], \"textposition\": \"outside\", \"hoverinfo\": \"text\", \"outsidetextfont\": {\"size\": \"10\"}, \"cliponaxis\": false, \"marker\": {\"color\": \"rgba(31, 119, 180, 0.5)\", \"line\": {\"color\": \"rgba(31, 119, 180, 1.0)\", \"width\": 1}}, \"xaxis\": \"x1\", \"yaxis\": \"y1\"}, {\"type\": \"bar\", \"x\": [\"PDQ 55\", \"PDQ 0\", \"PDQ 50\"], \"y\": [11, 12, 179], \"name\": \"Vehicle contents or parts theft\", \"width\": 0.7, \"text\": [11, 12, 179], \"textposition\": \"outside\", \"hoverinfo\": \"text\", \"outsidetextfont\": {\"size\": \"10\"}, \"cliponaxis\": false, \"marker\": {\"color\": \"rgba(255, 127, 14, 0.5)\", \"line\": {\"color\": \"rgba(255, 127, 14, 1.0)\", \"width\": 1}}, \"xaxis\": \"x2\", \"yaxis\": \"y1\"}, {\"type\": \"bar\", \"x\": [\"PDQ 55\", \"PDQ 0\", \"PDQ 50\"], \"y\": [5, 6, 164], \"name\": \"Misdemeanor\", \"width\": 0.7, \"text\": [5, 6, 164], \"textposition\": \"outside\", \"hoverinfo\": \"text\", \"outsidetextfont\": {\"size\": \"10\"}, \"cliponaxis\": false, \"marker\": {\"color\": \"rgba(50, 171, 96, 0.5)\", \"line\": {\"color\": \"rgba(50, 171, 96, 1.0)\", \"width\": 1}}, \"xaxis\": \"x3\", \"yaxis\": \"y1\"}], {\"xaxis1\": {\"domain\": [0.0, 0.3], \"anchor\": \"y1\", \"titlefont\": {\"size\": 11, \"color\": \"rgb(107, 107, 107)\"}, \"tickfont\": {\"size\": 11, \"color\": \"rgb(107, 107, 107)\"}, \"tickangle\": 20}, \"yaxis1\": {\"domain\": [0.0, 1.0], \"anchor\": \"x1\", \"title\": \"Crime Incident\", \"titlefont\": {\"size\": 12, \"color\": \"rgb(107, 107, 107)\"}, \"showticklabels\": false, \"showgrid\": true}, \"xaxis2\": {\"domain\": [0.35, 0.6499999999999999], \"anchor\": \"free\", \"position\": 0.0, \"titlefont\": {\"size\": 11, \"color\": \"rgb(107, 107, 107)\"}, \"tickfont\": {\"size\": 11, \"color\": \"rgb(107, 107, 107)\"}, \"tickangle\": 20}, \"xaxis3\": {\"domain\": [0.7, 1.0], \"anchor\": \"free\", \"position\": 0.0, \"titlefont\": {\"size\": 11, \"color\": \"rgb(107, 107, 107)\"}, \"tickfont\": {\"size\": 11, \"color\": \"rgb(107, 107, 107)\"}, \"tickangle\": 20}, \"annotations\": [{\"y\": 1.0, \"xref\": \"paper\", \"x\": 0.15000000000000002, \"yref\": \"paper\", \"text\": \"<b>2015</b>\", \"showarrow\": false, \"font\": {\"size\": 12}, \"xanchor\": \"center\", \"yanchor\": \"bottom\"}, {\"y\": 1.0, \"xref\": \"paper\", \"x\": 0.5, \"yref\": \"paper\", \"text\": \"<b>2016</b>\", \"showarrow\": false, \"font\": {\"size\": 12}, \"xanchor\": \"center\", \"yanchor\": \"bottom\"}, {\"y\": 1.0, \"xref\": \"paper\", \"x\": 0.8500000000000001, \"yref\": \"paper\", \"text\": \"<b>2017</b>\", \"showarrow\": false, \"font\": {\"size\": 12}, \"xanchor\": \"center\", \"yanchor\": \"bottom\"}], \"yaxis2\": {\"title\": \"Crime Incident\", \"titlefont\": {\"size\": 12, \"color\": \"rgb(107, 107, 107)\"}, \"showticklabels\": false, \"showgrid\": true}, \"yaxis3\": {\"title\": \"Crime Incident\", \"titlefont\": {\"size\": 12, \"color\": \"rgb(107, 107, 107)\"}, \"showticklabels\": false, \"showgrid\": true}, \"height\": 400, \"width\": 850, \"showlegend\": false, \"autosize\": false, \"title\": \"<b>Top 5 police stations (PDQ) with the lowest crime complaints registered in 2015, 2016 and 2017</b>\", \"titlefont\": {\"size\": 14}, \"paper_bgcolor\": \"rgba(245, 246, 249, 1)\", \"plot_bgcolor\": \"rgba(245, 246, 249, 1)\"}, {\"showLink\": true, \"linkText\": \"Export to plot.ly\"})});</script>"
      ]
     },
     "metadata": {},
     "output_type": "display_data"
    }
   ],
   "source": [
    "# sort and define a new dataframe\n",
    "tot =[crime_time[crime_time['YEAR']==year].sort_values('COUNT', ascending=True).iloc[:3] for year in yearlist]\n",
    "pdqdf = pd.concat(tot, ignore_index=True)\n",
    "\n",
    "# define chart data and plot\n",
    "data = pdqdf\n",
    "chdata = {'trace_data':data, 'x':'PDQ', 'y':'COUNT'}\n",
    "chlayout= {'height':400, 'width':850, 'title':\"<b>Top 5 police stations (PDQ) with the lowest crime complaints registered in 2015, 2016 and 2017</b>\", 'yaxistitle':'Crime Incident','tickangle':20}\n",
    "\n",
    "plotchart(chdata, chlayout, titlelist, yearlist, subtitlelist=yearlist)"
   ]
  },
  {
   "cell_type": "markdown",
   "metadata": {},
   "source": [
    "**Observation:**\n",
    "* *PDQ0 and PDQ55 recorded the least crime cases among the 3 top stations with low crime registrations in 2015, 2016 and 2017.*"
   ]
  },
  {
   "cell_type": "markdown",
   "metadata": {},
   "source": [
    "## Conclusion\n",
    "Montreal city crime data as obtained from Montreal Open Data Portal (http://donnees.ville.montreal.qc.ca/dataset/actes-criminels) was analyzed. The following are the summary observations or main insights derived from the analysis based on the initial questions raised in the introduction section.  \n",
    "\n",
    "* Burglary, Vehicle contents or parts theft and Misdemeanor are the three most prevalent crimes in the 3-years period.  \n",
    "\n",
    "\n",
    "* Besides vehicle theft that increased by 9.4% between 2016 and 2017, all other crime types showed a downward trend in the 3-years period reviewed.  \n",
    "\n",
    "\n",
    "* Offenses causing death are the least crime incidents noted during the 3-years period.  \n",
    "\n",
    "\n",
    "\n",
    "\n",
    "* Burglary recorded a significant decrease (31%) from 917 in January to 629 in February in 2017.\n",
    "\n",
    "\n",
    "\n",
    "* Boulevard des Galeries-d'Anjou, Anjou and Chemin de la Côte-de-Liesse, Saint-Laurent are the neighborhoods with the highest number of crimes in 2015, 2016 and 2017. Vehicle theft and vehicle contents or parts theft are the main common crime types noted in these neighborhoods.  \n",
    "\n",
    "\n",
    "* Vehicle theft was particularly prominent in Chemin de la Côte-de-Liesse, Saint-Laurent in 2016 and in 2017. The neighbourhood has about 40% increase in vehicle theft from 2016 to 2017. Vehicle contents or parts theft recorded 22% increase within the same period.  \n",
    "\n",
    "\n",
    "* Two cases of murder occurred in 2016 at Pavillon Sainte-Catherine, Rue Sainte-Catherine Est, Quartier des Spectacles, Centre-Ville, Ville-Marie. These are the highest murder cases within the 3-years period based on the dataset. \n",
    "\n",
    "\n",
    "* Crimes committed during the days (jour) in each year were about twice the total crimes registered in the evenings (soir) and in the nights (nuit) for the same year. However daytime crimes recorded 5.4% decrease from 2015 to 2016 and 2.2% decrease between 2016 and 2017.  \n",
    "\n",
    "\n",
    "* PDQ38 and PDQ7 are the prominent among the top stations that registered most crime incidents in 2015, 2016 and 2017.  \n",
    "\n",
    "\n",
    "* PDQ0 and PDQ55 recorded the least crime cases among the 3 top stations with low crime registrations in 2015, 2016 and 2017.  \n",
    "\n"
   ]
  }
 ],
 "metadata": {
  "kernelspec": {
   "display_name": "Python [conda env:datalytics]",
   "language": "python",
   "name": "conda-env-datalytics-py"
  },
  "language_info": {
   "codemirror_mode": {
    "name": "ipython",
    "version": 3
   },
   "file_extension": ".py",
   "mimetype": "text/x-python",
   "name": "python",
   "nbconvert_exporter": "python",
   "pygments_lexer": "ipython3",
   "version": "3.6.5"
  },
  "varInspector": {
   "cols": {
    "lenName": 16,
    "lenType": 16,
    "lenVar": 40
   },
   "kernels_config": {
    "python": {
     "delete_cmd_postfix": "",
     "delete_cmd_prefix": "del ",
     "library": "var_list.py",
     "varRefreshCmd": "print(var_dic_list())"
    },
    "r": {
     "delete_cmd_postfix": ") ",
     "delete_cmd_prefix": "rm(",
     "library": "var_list.r",
     "varRefreshCmd": "cat(var_dic_list()) "
    }
   },
   "types_to_exclude": [
    "module",
    "function",
    "builtin_function_or_method",
    "instance",
    "_Feature"
   ],
   "window_display": false
  }
 },
 "nbformat": 4,
 "nbformat_minor": 2
}
